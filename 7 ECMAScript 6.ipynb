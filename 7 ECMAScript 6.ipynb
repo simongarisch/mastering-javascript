{
 "cells": [
  {
   "cell_type": "markdown",
   "metadata": {},
   "source": [
    "## ECMAScript 6\n",
    "What we saw so far was as per the ECMAScript 5 (ES5) standards. ECMAScript 6 (ES6) or ECMAScript 2015 (ES2015) is the latest version of the ECMAScript standard. \n"
   ]
  },
  {
   "cell_type": "markdown",
   "metadata": {
    "collapsed": true
   },
   "source": [
    "## Shims or polyfills\n",
    "Polyfills (also known as shims) are patterns to define behavior from a new version in a compatible form supported by an older version of the environment. There's a great collection of ES6 shims called ES6 shim (https://github.com/paulmillr/es6-shim/); I would highly recommend a study of these shims."
   ]
  },
  {
   "cell_type": "markdown",
   "metadata": {},
   "source": [
    "## Transpilers\n",
    "Transpiling is a technique that combines both compilation and transformation. The idea is to write ES6-compatible code and use a tool that transpiles this code into a valid and equivalent ES5 code. We will be looking at the most complete and popular\n",
    "transpiler for ES6 called Babel."
   ]
  },
  {
   "cell_type": "markdown",
   "metadata": {
    "collapsed": true
   },
   "source": [
    "# ES6 Syntax Changes\n",
    "## Block scoping\n",
    "We discussed earlier that the variables in JavaScript are function-scoped. Variables created in a nested scope are available to the entire function. Instead of using var, you can declare a variable using let to define the block scope. "
   ]
  },
  {
   "cell_type": "code",
   "execution_count": 3,
   "metadata": {},
   "outputs": [
    {
     "data": {
      "application/javascript": [
       "for (var i = 0; i<5; i++) {\n",
       " console.log(i)\n",
       "}\n",
       "element.text(i) // i is not defined"
      ],
      "text/plain": [
       "<IPython.core.display.Javascript object>"
      ]
     },
     "metadata": {},
     "output_type": "display_data"
    }
   ],
   "source": [
    "%%javascript\n",
    "for (var i = 0; i<5; i++) {\n",
    " console.log(i)\n",
    "}\n",
    "element.text(i) // i is not defined"
   ]
  },
  {
   "cell_type": "code",
   "execution_count": 2,
   "metadata": {},
   "outputs": [
    {
     "data": {
      "application/javascript": [
       "// check that this works using the node kernel\n",
       "for (let i = 0; i<5; i++) {\n",
       " console.log(i)\n",
       "}\n",
       "element.text(i) // i is not defined"
      ],
      "text/plain": [
       "<IPython.core.display.Javascript object>"
      ]
     },
     "metadata": {},
     "output_type": "display_data"
    }
   ],
   "source": [
    "%%javascript\n",
    "// check that this works using the node kernel\n",
    "for (let i = 0; i<5; i++) {\n",
    " console.log(i)\n",
    "}\n",
    "element.text(i) // i is not defined"
   ]
  },
  {
   "cell_type": "markdown",
   "metadata": {},
   "source": [
    "## Default parameters"
   ]
  },
  {
   "cell_type": "code",
   "execution_count": 5,
   "metadata": {},
   "outputs": [
    {
     "data": {
      "application/javascript": [
       "\n",
       "function sum(a, b){\n",
       " a = a || 0\n",
       " b = b || 10\n",
       " return (a + b)\n",
       "}\n",
       "\n",
       "element.text(sum(9))"
      ],
      "text/plain": [
       "<IPython.core.display.Javascript object>"
      ]
     },
     "metadata": {},
     "output_type": "display_data"
    }
   ],
   "source": [
    "%%javascript\n",
    "\n",
    "function sum(a, b){\n",
    " a = a || 0\n",
    " b = b || 10\n",
    " return (a + b)\n",
    "}\n",
    "\n",
    "element.text(sum(9))"
   ]
  },
  {
   "cell_type": "markdown",
   "metadata": {},
   "source": [
    "## Spread and rest\n",
    "What's happening here is that when you add … before an array (or an iterable) it spreads the element of the array in individual variables in the function parameters."
   ]
  },
  {
   "cell_type": "code",
   "execution_count": 11,
   "metadata": {},
   "outputs": [
    {
     "data": {
      "application/javascript": [
       "\n",
       "function func(a, b){\n",
       "  return (a + b)\n",
       "}\n",
       "\n",
       "var numbers = [1, 2, 3]\n",
       "element.text(func(...numbers))"
      ],
      "text/plain": [
       "<IPython.core.display.Javascript object>"
      ]
     },
     "metadata": {},
     "output_type": "display_data"
    }
   ],
   "source": [
    "%%javascript\n",
    "\n",
    "function func(a, b){\n",
    "  return (a + b)\n",
    "}\n",
    "\n",
    "var numbers = [1, 2, 3]\n",
    "element.text(func(...numbers)) // takes the first two and ignores the rest"
   ]
  },
  {
   "cell_type": "markdown",
   "metadata": {},
   "source": [
    "## Destructuring\n",
    "Destructuring allows you to bind values to variables using pattern matching. Consider the following example:"
   ]
  },
  {
   "cell_type": "code",
   "execution_count": 18,
   "metadata": {},
   "outputs": [
    {
     "data": {
      "application/javascript": [
       "var [word1, word2] = [\"Hello \", \"World!\"] // assignment to both word1 and word2\n",
       "element.text(word1 + word2)"
      ],
      "text/plain": [
       "<IPython.core.display.Javascript object>"
      ]
     },
     "metadata": {},
     "output_type": "display_data"
    }
   ],
   "source": [
    "%%javascript\n",
    "var [word1, word2] = [\"Hello \", \"World!\"] // assignment to both word1 and word2\n",
    "element.text(word1 + word2)"
   ]
  },
  {
   "cell_type": "code",
   "execution_count": 21,
   "metadata": {},
   "outputs": [
    {
     "data": {
      "application/javascript": [
       "// another excample\n",
       "function fn() {\n",
       " return [1, 2, 3]\n",
       "}\n",
       "\n",
       "var [a, b, c] = fn()\n",
       "element.text(a + b + c)"
      ],
      "text/plain": [
       "<IPython.core.display.Javascript object>"
      ]
     },
     "metadata": {},
     "output_type": "display_data"
    }
   ],
   "source": [
    "%%javascript\n",
    "// another excample\n",
    "function fn() {\n",
    " return [1, 2, 3]\n",
    "}\n",
    "\n",
    "var [a, b, c] = fn()\n",
    "element.text(a + b + c)"
   ]
  },
  {
   "cell_type": "markdown",
   "metadata": {},
   "source": [
    "When we destructure the object being returned by this function, we can use the similar syntax as we saw earlier; the difference is that we use {} instead of []."
   ]
  },
  {
   "cell_type": "code",
   "execution_count": 25,
   "metadata": {},
   "outputs": [
    {
     "data": {
      "application/javascript": [
       "function f() {\n",
       " return {\n",
       " a: 'a',\n",
       " b: 'b',\n",
       " c: 'c'\n",
       " }\n",
       "}\n",
       "\n",
       "//this is source: target - correct\n",
       "var { a: x, b: y, c: z } = f()\n",
       "element.text(x + y + z) // abc"
      ],
      "text/plain": [
       "<IPython.core.display.Javascript object>"
      ]
     },
     "metadata": {},
     "output_type": "display_data"
    }
   ],
   "source": [
    "%%javascript\n",
    "function f() {\n",
    " return {\n",
    " a: 'a',\n",
    " b: 'b',\n",
    " c: 'c'\n",
    " }\n",
    "}\n",
    "\n",
    "//this is source: target - correct\n",
    "var { a: x, b: y, c: z } = f()\n",
    "element.text(x + y + z) // abc"
   ]
  },
  {
   "cell_type": "markdown",
   "metadata": {},
   "source": [
    "## Object literals\n",
    "If you intend to use the same property name as the variable that you are assigning, you can use the concise property notation of ES6:"
   ]
  },
  {
   "cell_type": "code",
   "execution_count": 30,
   "metadata": {},
   "outputs": [
    {
     "data": {
      "application/javascript": [
       "var firstname = \"Albert\", lastname = \"Einstein\",\n",
       "person = {\n",
       " firstname,\n",
       " lastname\n",
       "}\n",
       "\n",
       "element.text(person.firstname + \" \" + person.lastname)"
      ],
      "text/plain": [
       "<IPython.core.display.Javascript object>"
      ]
     },
     "metadata": {},
     "output_type": "display_data"
    }
   ],
   "source": [
    "%%javascript\n",
    "var firstname = \"Albert\", lastname = \"Einstein\",\n",
    "person = {\n",
    " firstname,\n",
    " lastname\n",
    "}\n",
    "\n",
    "element.text(person.firstname + \" \" + person.lastname)"
   ]
  },
  {
   "cell_type": "markdown",
   "metadata": {},
   "source": [
    "## Template literals\n",
    "We are using backticks around a string literal..."
   ]
  },
  {
   "cell_type": "code",
   "execution_count": 34,
   "metadata": {},
   "outputs": [
    {
     "data": {
      "application/javascript": [
       "var x = 3\n",
       "var y = 4\n",
       "var z = `${x+2} = ${y+1}`\n",
       "element.text(z)"
      ],
      "text/plain": [
       "<IPython.core.display.Javascript object>"
      ]
     },
     "metadata": {},
     "output_type": "display_data"
    }
   ],
   "source": [
    "%%javascript\n",
    "var x = 3\n",
    "var y = 4\n",
    "var z = `${x+2} = ${y+1}`\n",
    "element.text(z)"
   ]
  },
  {
   "cell_type": "markdown",
   "metadata": {},
   "source": [
    "## Maps and Sets\n",
    "ES6 introduces four new data structures: Map, WeakMap, Set, and WeakSet."
   ]
  },
  {
   "cell_type": "code",
   "execution_count": 40,
   "metadata": {},
   "outputs": [
    {
     "data": {
      "application/javascript": [
       "// https://docs.microsoft.com/en-us/scripting/javascript/reference/map-object-javascript\n",
       "let m = new Map()\n",
       "let s = { 'seq' : 101 }\n",
       "m.set('1','Albert')\n",
       "m.set('MAX', 99)\n",
       "m.set(s,'Einstein')\n",
       "element.text(m)"
      ],
      "text/plain": [
       "<IPython.core.display.Javascript object>"
      ]
     },
     "metadata": {},
     "output_type": "display_data"
    }
   ],
   "source": [
    "%%javascript\n",
    "// https://docs.microsoft.com/en-us/scripting/javascript/reference/map-object-javascript\n",
    "let m = new Map()\n",
    "let s = { 'seq' : 101 }\n",
    "m.set('1','Albert')\n",
    "m.set('MAX', 99)\n",
    "m.set(s,'Einstein')\n",
    "element.text(m)"
   ]
  },
  {
   "cell_type": "code",
   "execution_count": 43,
   "metadata": {},
   "outputs": [
    {
     "data": {
      "application/javascript": [
       "// or initialise like this\n",
       "let m = new Map([\n",
       " [ 1, 'Albert' ],\n",
       " [ 2, 'Douglas' ],\n",
       " [ 3, 'Clive' ],\n",
       "])\n",
       "\n",
       "element.text(m)"
      ],
      "text/plain": [
       "<IPython.core.display.Javascript object>"
      ]
     },
     "metadata": {},
     "output_type": "display_data"
    }
   ],
   "source": [
    "%%javascript\n",
    "// or initialise like this\n",
    "let m = new Map([\n",
    " [ 1, 'Albert' ],\n",
    " [ 2, 'Douglas' ],\n",
    " [ 3, 'Clive' ],\n",
    "])\n",
    "\n",
    "element.text(m)"
   ]
  },
  {
   "cell_type": "code",
   "execution_count": 50,
   "metadata": {},
   "outputs": [
    {
     "data": {
      "application/javascript": [
       "// there are also iterators for keys, values, entries\n",
       "var m = new Map([\n",
       " [ 1, 'Albert' ],\n",
       " [ 2, 'Douglas' ],\n",
       " [ 3, 'Clive' ],\n",
       "])\n",
       "\n",
       "var total = \"\"\n",
       "for(var k in m.keys()){\n",
       "  total += String(k)\n",
       "}\n",
       "element.text(total)"
      ],
      "text/plain": [
       "<IPython.core.display.Javascript object>"
      ]
     },
     "metadata": {},
     "output_type": "display_data"
    }
   ],
   "source": [
    "%%javascript\n",
    "// there are also iterators for keys, values, entries\n",
    "var m = new Map([\n",
    " [ 1, 'Albert' ],\n",
    " [ 2, 'Douglas' ],\n",
    " [ 3, 'Clive' ],\n",
    "])\n",
    "\n",
    "var total = \"\"\n",
    "for(var k in m.keys()){\n",
    "  total += String(k)\n",
    "}\n",
    "element.text(total) // we are on page 173"
   ]
  },
  {
   "cell_type": "code",
   "execution_count": null,
   "metadata": {
    "collapsed": true
   },
   "outputs": [],
   "source": []
  },
  {
   "cell_type": "code",
   "execution_count": null,
   "metadata": {
    "collapsed": true
   },
   "outputs": [],
   "source": []
  }
 ],
 "metadata": {
  "kernelspec": {
   "display_name": "Python 2",
   "language": "python",
   "name": "python2"
  },
  "language_info": {
   "codemirror_mode": {
    "name": "ipython",
    "version": 2
   },
   "file_extension": ".py",
   "mimetype": "text/x-python",
   "name": "python",
   "nbconvert_exporter": "python",
   "pygments_lexer": "ipython2",
   "version": "2.7.14"
  }
 },
 "nbformat": 4,
 "nbformat_minor": 2
}
