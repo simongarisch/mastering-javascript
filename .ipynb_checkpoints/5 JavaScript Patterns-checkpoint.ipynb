{
 "cells": [
  {
   "cell_type": "markdown",
   "metadata": {},
   "source": [
    "## JavaScript Patterns\n",
    "The key to write modular, correct, and maintainable code is the ability to understand the repeating themes and use common templates to write optimized solutions to these. The most important text on design patterns was a book published in 1995 called Design Patterns: Elements Of Reusable Object-Oriented Software written by Erich Gamma, Richard Helm, Ralph Johnson, and John Vlissides—a group that became known as the Gang of Four (GOF for short). The broad categories are:\n",
    "* Creational patterns:\n",
    "    -  Factory method\n",
    "    -  Abstract factory\n",
    "    -  Builder\n",
    "    -  Prototype\n",
    "    -  Singleton\n",
    "\n",
    "\n",
    "* Structural patterns:\n",
    "    -  Adapter\n",
    "    -  Bridge\n",
    "    -  Composite\n",
    "    -  Decorator\n",
    "    -  Façade\n",
    "    -  Flyweight\n",
    "    -  Proxy\n",
    "    \n",
    "    \n",
    "* Behavioral patterns\n",
    "    -  Interpreter\n",
    "    -  Template method\n",
    "    -  Chain of responsibility\n",
    "    -  Command\n",
    "    -  Iterator\n",
    "    -  Mediator\n",
    "    -  Memento\n",
    "    -  Observer\n",
    "    -  State\n",
    "    -  Strategy\n",
    "    -  Visitor"
   ]
  },
  {
   "cell_type": "markdown",
   "metadata": {
    "collapsed": true
   },
   "source": [
    "## The namespace pattern\n",
    "Excessive use of the global scope is almost a taboo in JavaScript. Namespace can reduce the number of globals created by the program and also helps in avoiding naming collisions or excessive name prefixing."
   ]
  },
  {
   "cell_type": "code",
   "execution_count": 2,
   "metadata": {
    "collapsed": true
   },
   "outputs": [],
   "source": [
    "// We are creating all this in the global scope. This is an anti-pattern, and this is never a good idea\n",
    "function Car() {}\n",
    "function BMW() {}\n",
    "var engines = 1\n",
    "\n",
    "var features = {\n",
    "  seats: 6,\n",
    "  airbags:6\n",
    "}\n"
   ]
  },
  {
   "cell_type": "code",
   "execution_count": 4,
   "metadata": {
    "collapsed": false
   },
   "outputs": [
    {
     "data": {
      "text/plain": [
       "{ Car: [Function],\n",
       "  BMW: [Function],\n",
       "  engines: 1,\n",
       "  features: { seats: 6, airbags: 6 } }"
      ]
     },
     "execution_count": 4,
     "metadata": {},
     "output_type": "execute_result"
    }
   ],
   "source": [
    "// Single global object\n",
    "// By convention, the global namespace object name is generally written in all caps\n",
    "var CARFACTORY = CARFACTORY || {} // you can't assume that you are creating this namespace for the first time.\n",
    "CARFACTORY.Car = function () {}\n",
    "CARFACTORY.BMW = function () {}\n",
    "CARFACTORY.engines = 1\n",
    "CARFACTORY.features = {\n",
    "  seats: 6,\n",
    "  airbags:6\n",
    "}\n",
    "\n",
    "CARFACTORY"
   ]
  },
  {
   "cell_type": "markdown",
   "metadata": {},
   "source": [
    "## The module pattern\n",
    "Module separates bigger programs into smaller pieces and gives them a namespace. Modules allow us to include both public/private methods and variables of an object, but most importantly, modules restrict these parts from the global scope. Having a look at the revealing module pattern (RMP):"
   ]
  },
  {
   "cell_type": "code",
   "execution_count": 5,
   "metadata": {
    "collapsed": false
   },
   "outputs": [
    {
     "name": "stdout",
     "output_type": "stream",
     "text": [
      "{ setup: [Function: publicFn],\n",
      "  count: 2,\n",
      "  increaseCount: [Function: publicFnTwo],\n",
      "  current: 2 }\n"
     ]
    }
   ],
   "source": [
    "var revealingExample = function(){\n",
    "    \n",
    "  var privateOne = 1\n",
    "  function privateFn(){\n",
    "    console.log('privateFn called')\n",
    "  }\n",
    "    \n",
    "  var publicTwo = 2\n",
    "  function publicFn(){\n",
    "    publicFnTwo()\n",
    "  }\n",
    "\n",
    "  function publicFnTwo(){\n",
    "    privateFn()\n",
    "  }\n",
    "    \n",
    "  function getCurrentState(){\n",
    "    return 2\n",
    "  }\n",
    "    \n",
    "  // reveal private variables by assigning public pointers\n",
    "  return {\n",
    "    setup: publicFn,\n",
    "    count: publicTwo,\n",
    "    increaseCount: publicFnTwo,\n",
    "    current: getCurrentState()\n",
    "  }\n",
    "}()\n",
    "\n",
    "console.log(revealingExample)"
   ]
  },
  {
   "cell_type": "code",
   "execution_count": 6,
   "metadata": {
    "collapsed": false
   },
   "outputs": [
    {
     "name": "stdout",
     "output_type": "stream",
     "text": [
      "2\n",
      "privateFn called\n"
     ]
    }
   ],
   "source": [
    "console.log(revealingExample.current) // 2\n",
    "revealingExample.setup();             // privateFn called"
   ]
  },
  {
   "cell_type": "markdown",
   "metadata": {},
   "source": [
    "The other flavor of JavaScript modules is called Asynchronous Module Definition (AMD). They are browser-first modules and opt for asynchronous behavior."
   ]
  },
  {
   "cell_type": "code",
   "execution_count": 1,
   "metadata": {
    "collapsed": false
   },
   "outputs": [
    {
     "data": {
      "text/plain": [
       "{ add: [Function: add] }"
      ]
     },
     "execution_count": 1,
     "metadata": {},
     "output_type": "execute_result"
    }
   ],
   "source": [
    "// npm install amd-loader\n",
    "require(\"amd-loader\")\n",
    "\n",
    "define({\n",
    "    add: function(x, y){return x + y}\n",
    "  }\n",
    ")\n"
   ]
  },
  {
   "cell_type": "markdown",
   "metadata": {},
   "source": [
    "The following snippet shows you a module that depends on two other modules..."
   ]
  },
  {
   "cell_type": "code",
   "execution_count": 7,
   "metadata": {
    "collapsed": false
   },
   "outputs": [
    {
     "ename": "Error",
     "evalue": "Can not assign module to a different id than the current file",
     "output_type": "error",
     "traceback": [
      "C:\\Users\\Simon\\node_modules\\amd-loader\\amd-loader.js:39",
      "        throw new Error(\"Can not assign module to a different id than the current file\");",
      "        ^",
      "",
      "Error: Can not assign module to a different id than the current file",
      "    at global.define (C:\\Users\\Simon\\node_modules\\amd-loader\\amd-loader.js:39:15)",
      "    at evalmachine.<anonymous>:1:1",
      "    at ContextifyScript.Script.runInThisContext (vm.js:50:33)",
      "    at Object.runInThisContext (vm.js:139:38)",
      "    at run ([eval]:1002:15)",
      "    at onRunRequest ([eval]:829:18)",
      "    at onMessage ([eval]:789:13)",
      "    at emitTwo (events.js:126:13)",
      "    at process.emit (events.js:214:7)",
      "    at emit (internal/child_process.js:772:12)"
     ]
    }
   ],
   "source": [
    "// there looks to be some tinkering needed to get this working in the notebook...\n",
    "define(\"math\",\n",
    "  //dependency on these two modules\n",
    "  [\"sum\", \"multiply\"],\n",
    "  \n",
    "  // module definition function\n",
    "  // dependencies are mapped to function parameters\n",
    "  function (sum, multiply) {\n",
    "    // return a value that defines the module export\n",
    "    // (that is, the functionality we want to expose for consumption)\n",
    "    // create your module here\n",
    "    var math = {\n",
    "      demo : function () {\n",
    "        console.log(sum.calculate(1,2))\n",
    "        console.log(multiply.calculate(1,2))\n",
    "      }\n",
    "    }\n",
    "  return math;\n",
    "})"
   ]
  },
  {
   "cell_type": "markdown",
   "metadata": {},
   "source": [
    "## ES6 modules"
   ]
  },
  {
   "cell_type": "code",
   "execution_count": null,
   "metadata": {
    "collapsed": true
   },
   "outputs": [],
   "source": []
  }
 ],
 "metadata": {
  "anaconda-cloud": {},
  "kernelspec": {
   "display_name": "Javascript (Node.js)",
   "language": "javascript",
   "name": "javascript"
  },
  "language_info": {
   "file_extension": ".js",
   "mimetype": "application/javascript",
   "name": "javascript",
   "version": "8.9.1"
  }
 },
 "nbformat": 4,
 "nbformat_minor": 1
}
