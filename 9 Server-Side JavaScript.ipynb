{
 "cells": [
  {
   "cell_type": "markdown",
   "metadata": {},
   "source": [
    "## Server-Side JavaScript\n",
    "s. Node.js is one of the most popular JavaScript frameworks used for server-side programming. Node.js is also one of the most\n",
    "watched project on GitHub and has superb community support."
   ]
  },
  {
   "cell_type": "code",
   "execution_count": 1,
   "metadata": {
    "collapsed": false
   },
   "outputs": [
    {
     "name": "stdout",
     "output_type": "stream",
     "text": [
      "Pixiedust database opened successfully\n",
      "Table METRICS_TRACKER created successfully\n",
      "\n",
      "Share anonymous install statistics? (opt-out instructions)\n",
      "\n",
      "PixieDust will record metadata on its environment the next time the package is installed or updated. The data is anonymized and aggregated to help plan for future releases, and records only the following values:\n",
      "\n",
      "{\n",
      "   \"data_sent\": currentDate,\n",
      "   \"runtime\": \"python\",\n",
      "   \"application_version\": currentPixiedustVersion,\n",
      "   \"space_id\": nonIdentifyingUniqueId,\n",
      "   \"config\": {\n",
      "       \"repository_id\": \"https://github.com/ibm-watson-data-lab/pixiedust\",\n",
      "       \"target_runtimes\": [\"Data Science Experience\"],\n",
      "       \"event_id\": \"web\",\n",
      "       \"event_organizer\": \"dev-journeys\"\n",
      "   }\n",
      "}\n",
      "You can opt out by calling pixiedust.optOut() in a new cell.\n"
     ]
    },
    {
     "data": {
      "text/html": [
       "\n",
       "        <div style=\"margin:10px\">\n",
       "            <a href=\"https://github.com/ibm-watson-data-lab/pixiedust\" target=\"_new\">\n",
       "                <img src=\"https://github.com/ibm-watson-data-lab/pixiedust/raw/master/docs/_static/pd_icon32.png\" style=\"float:left;margin-right:10px\"/>\n",
       "            </a>\n",
       "            <span>Pixiedust version upgraded from 1.1.3 to 1.1.11</span>\n",
       "        </div>\n",
       "        "
      ],
      "text/plain": [
       "<IPython.core.display.HTML object>"
      ]
     },
     "metadata": {},
     "output_type": "display_data"
    },
    {
     "data": {
      "text/html": [
       "\n",
       "            <div style=\"margin:10px\"> \n",
       "            <a href=\"https://github.com/ibm-cds-labs/pixiedust_node\" target=\"_new\"> \n",
       "            <img src=\"https://github.com/ibm-cds-labs/pixiedust_node/raw/master/docs/_images/pdn_icon32.png\" style=\"float:left;margin-right:10px\"/> \n",
       "            </a> \n",
       "            <span>Pixiedust Node.js</span> \n",
       "            </div> \n"
      ],
      "text/plain": [
       "<IPython.core.display.HTML object>"
      ]
     },
     "metadata": {},
     "output_type": "display_data"
    }
   ],
   "source": [
    "import pixiedust_node # https://github.com/ibm-watson-data-lab/pixiedust_node"
   ]
  },
  {
   "cell_type": "code",
   "execution_count": 4,
   "metadata": {
    "collapsed": false
   },
   "outputs": [
    {
     "name": "stdout",
     "output_type": "stream",
     "text": [
      "test\n"
     ]
    }
   ],
   "source": [
    "%%node\n",
    "console.log(\"test\") // we can run node commands in this way (alternative to ijavascript)"
   ]
  },
  {
   "cell_type": "markdown",
   "metadata": {},
   "source": [
    "This traditional I/O model and most of us are familiar with is costly and can cause terrible latency. Every process has associated memory and state—both these will be blocked till I/O is complete."
   ]
  },
  {
   "cell_type": "code",
   "execution_count": 9,
   "metadata": {
    "collapsed": false
   },
   "outputs": [
    {
     "name": "stdout",
     "output_type": "stream",
     "text": [
      "ReferenceError: __dirname is not defined\n"
     ]
    }
   ],
   "source": [
    "%%node\n",
    "console.log(__dirname) // __dirname is only defined in scripts. It's not available in REPL"
   ]
  },
  {
   "cell_type": "code",
   "execution_count": 11,
   "metadata": {
    "collapsed": false
   },
   "outputs": [
    {
     "name": "stdout",
     "output_type": "stream",
     "text": [
      "C:\\Users\\simon.garisch\\node\n"
     ]
    }
   ],
   "source": [
    "%%node\n",
    "console.log(process.cwd()) // this is where any files will be saved"
   ]
  },
  {
   "cell_type": "code",
   "execution_count": 12,
   "metadata": {
    "collapsed": false
   },
   "outputs": [
    {
     "name": "stdout",
     "output_type": "stream",
     "text": [
      "... ... ... ...\n"
     ]
    }
   ],
   "source": [
    "%%node\n",
    "// writing a text file first\n",
    "var fs = require('fs');\n",
    "var stream = fs.createWriteStream(\"my_file.txt\");\n",
    "stream.once('open', function(fd) {\n",
    "  stream.write(\"My first row \\n\");\n",
    "  stream.write(\"My second row \\n\");\n",
    "  stream.end();\n",
    "});\n"
   ]
  },
  {
   "cell_type": "code",
   "execution_count": 15,
   "metadata": {
    "collapsed": false
   },
   "outputs": [
    {
     "name": "stdout",
     "output_type": "stream",
     "text": [
      "1\n",
      "\n",
      "... ..... ..... ... ...\n",
      "2\n",
      "\n",
      "My first row\n",
      "My second row\n"
     ]
    }
   ],
   "source": [
    "%%node\n",
    "console.log(\"1\")\n",
    "\n",
    "fs = require('fs')\n",
    "fs.readFile('my_file.txt', 'utf8', function (err, data) {\n",
    "  if (err) {\n",
    "    return console.log(err);\n",
    "  }\n",
    "  console.log(data);\n",
    "});\n",
    "\n",
    "console.log(\"2\")"
   ]
  },
  {
   "cell_type": "markdown",
   "metadata": {},
   "source": [
    "Looks like node continues running the rest of the code while it is reading our file."
   ]
  },
  {
   "cell_type": "markdown",
   "metadata": {},
   "source": [
    "Every call that involves an I/O call requires you to register a callback. Registering a callback is also asynchronous and returns immediately. As soon as an I/O operation is completed, its callback is pushed on the event loop. It is executed as soon as all the other callbacks that were pushed on the event loop before are executed. "
   ]
  },
  {
   "cell_type": "markdown",
   "metadata": {
    "collapsed": true
   },
   "source": [
    "Node.js does not need any additional server component as it creates its own server process. A Node application is essentially a server running on a designated port. In Node, the server and application are the same."
   ]
  },
  {
   "cell_type": "code",
   "execution_count": 1,
   "metadata": {
    "collapsed": false
   },
   "outputs": [
    {
     "data": {
      "text/plain": [
       "Server {\n",
       "  domain: null,\n",
       "  _events: \n",
       "   { connection: [Function: connectionListener],\n",
       "     request: [Function] },\n",
       "  _eventsCount: 2,\n",
       "  _maxListeners: undefined,\n",
       "  _connections: 0,\n",
       "  _handle: \n",
       "   TCP {\n",
       "     reading: false,\n",
       "     owner: [Circular],\n",
       "     onread: null,\n",
       "     onconnection: [Function: onconnection],\n",
       "     writeQueueSize: 0 },\n",
       "  _usingSlaves: false,\n",
       "  _slaves: [],\n",
       "  _unref: false,\n",
       "  allowHalfOpen: true,\n",
       "  pauseOnConnect: false,\n",
       "  httpAllowHalfOpen: false,\n",
       "  timeout: 120000,\n",
       "  keepAliveTimeout: 5000,\n",
       "  _pendingResponseData: 0,\n",
       "  maxHeadersCount: null,\n",
       "  _connectionKey: '6::::3000',\n",
       "  [Symbol(asyncId)]: 10 }"
      ]
     },
     "execution_count": 1,
     "metadata": {},
     "output_type": "execute_result"
    }
   ],
   "source": [
    "// back to the node kernel\n",
    "var http = require('http')\n",
    "\n",
    "var server = http.createServer();\n",
    "  server.on('request', function (req, res) {\n",
    "  res.writeHead(200, {'Content-Type': 'text/plain'})\n",
    "  res.end('Hello Node\\n')\n",
    "})\n",
    "  \n",
    "server.listen(3000)"
   ]
  },
  {
   "cell_type": "markdown",
   "metadata": {},
   "source": [
    "Go to http://localhost:3000/ to see the result of 'Hello Node'."
   ]
  },
  {
   "cell_type": "markdown",
   "metadata": {},
   "source": [
    "## Callbacks\n",
    "Callbacks in JavaScript usually take some time getting used to. If you are coming from some other non-asynchronous programming background, you will need to understand carefully how callbacks work. As everything is asynchronous in Node, you will be\n",
    "using callbacks for everything without trying to carefully structure them. The most important part of the Node.js project is sometimes the code organization and module management."
   ]
  },
  {
   "cell_type": "markdown",
   "metadata": {},
   "source": [
    "Callbacks are functions that are executed asynchronously at a later time. Instead of the code reading top to bottom procedurally, asynchronous programs may execute different functions at different times based on the order and speed that earlier\n",
    "functions such as HTTP requests or filesystem reads happen."
   ]
  },
  {
   "cell_type": "code",
   "execution_count": 5,
   "metadata": {
    "collapsed": false
   },
   "outputs": [
    {
     "name": "stdout",
     "output_type": "stream",
     "text": [
      "0\n",
      "100\n"
     ]
    }
   ],
   "source": [
    "// traditional synchronous code execution\n",
    "var i=0\n",
    "function add(num){\n",
    "  console.log(i)\n",
    "  i = i + num\n",
    "}\n",
    "\n",
    "add(100)\n",
    "console.log(i)"
   ]
  },
  {
   "cell_type": "code",
   "execution_count": 2,
   "metadata": {
    "collapsed": false
   },
   "outputs": [
    {
     "name": "stdout",
     "output_type": "stream",
     "text": [
      "undefined\n"
     ]
    }
   ],
   "source": [
    "// npm install request in the local directory\n",
    "var request = require('request')\n",
    "var status = undefined\n",
    "\n",
    "request('http://google.com', function (error, response, body) {\n",
    "if (!error && response.statusCode == 200) {\n",
    "  status_code = response.statusCode\n",
    "}\n",
    "})\n",
    "\n",
    "console.log(status)"
   ]
  },
  {
   "cell_type": "markdown",
   "metadata": {},
   "source": [
    "Callbacks are functions that get executed at some later time. This changes things\n",
    "in the way you organize your code. The idea around reorganizing the code is as\n",
    "follows:\n",
    "* Wrapping the asynchronous code in a function\n",
    "* Passing a callback function to the wrapper function"
   ]
  },
  {
   "cell_type": "code",
   "execution_count": 6,
   "metadata": {
    "collapsed": false
   },
   "outputs": [
    {
     "name": "stdout",
     "output_type": "stream",
     "text": [
      "200\n"
     ]
    }
   ],
   "source": [
    "var request = require('request')\n",
    "var status = undefined\n",
    "\n",
    "function getSiteStatus(callback){\n",
    "  request('http://google.com', function (error, response, body) {\n",
    "    if (!error && response.statusCode == 200) {\n",
    "      status_code = response.statusCode;\n",
    "    }\n",
    "  callback(status_code);\n",
    "}) \n",
    "}\n",
    "\n",
    "function showStatusCode(status){\n",
    " console.log(status)\n",
    "}\n",
    "\n",
    "getSiteStatus(showStatusCode)"
   ]
  },
  {
   "cell_type": "markdown",
   "metadata": {},
   "source": [
    "## Timers\n",
    "Timers are used to schedule the execution of a particular callback after a specific delay. There are two primary methods to set up such delayed execution: setTimeout and setInterval."
   ]
  },
  {
   "cell_type": "code",
   "execution_count": 8,
   "metadata": {
    "collapsed": false
   },
   "outputs": [
    {
     "data": {
      "text/plain": [
       "Timeout {\n",
       "  _called: false,\n",
       "  _idleTimeout: 3000,\n",
       "  _idlePrev: \n",
       "   TimersList {\n",
       "     _idleNext: [Circular],\n",
       "     _idlePrev: [Circular],\n",
       "     _timer: Timer { '0': [Function: listOnTimeout], _list: [Circular] },\n",
       "     _unrefed: false,\n",
       "     msecs: 3000,\n",
       "     nextTick: false },\n",
       "  _idleNext: \n",
       "   TimersList {\n",
       "     _idleNext: [Circular],\n",
       "     _idlePrev: [Circular],\n",
       "     _timer: Timer { '0': [Function: listOnTimeout], _list: [Circular] },\n",
       "     _unrefed: false,\n",
       "     msecs: 3000,\n",
       "     nextTick: false },\n",
       "  _idleStart: 398025,\n",
       "  _onTimeout: [Function],\n",
       "  _timerArgs: undefined,\n",
       "  _repeat: null,\n",
       "  _destroyed: false,\n",
       "  [Symbol(asyncId)]: 273,\n",
       "  [Symbol(triggerAsyncId)]: 270 }"
      ]
     },
     "execution_count": 8,
     "metadata": {},
     "output_type": "execute_result"
    },
    {
     "name": "stdout",
     "output_type": "stream",
     "text": [
      "This is just one time delay\n"
     ]
    }
   ],
   "source": [
    "setTimeout(function() {\n",
    "  console.log(\"This is just one time delay\")\n",
    "}, 3000)\n"
   ]
  },
  {
   "cell_type": "code",
   "execution_count": 9,
   "metadata": {
    "collapsed": false
   },
   "outputs": [
    {
     "name": "stdout",
     "output_type": "stream",
     "text": [
      "1\n",
      "2\n",
      "3\n",
      "4\n",
      "5\n",
      "6\n"
     ]
    },
    {
     "name": "stderr",
     "output_type": "stream",
     "text": [
      "ReferenceError: clearInteval is not defined\n",
      "    at Timeout._onTimeout (evalmachine.<anonymous>:6:5)\n",
      "    at ontimeout (timers.js:475:11)\n",
      "    at tryOnTimeout (timers.js:310:5)\n",
      "    at Timer.listOnTimeout (timers.js:270:5)"
     ]
    }
   ],
   "source": [
    "var count = 0\n",
    "var t = setInterval(function() {\n",
    "  count++\n",
    "  console.log(count)\n",
    "  if (count > 5){\n",
    "    clearInteval(t)\n",
    "  }\n",
    "}, 1000)"
   ]
  },
  {
   "cell_type": "markdown",
   "metadata": {},
   "source": [
    "## EventEmitters\n",
    "We discussed earlier that callbacks are great for the execution of one-off logic. EventEmitters are useful in responding to repeating events. EventEmitters fire events and include the ability to handle these events when triggered. Several important Node APIs are built on EventEmitters."
   ]
  },
  {
   "cell_type": "code",
   "execution_count": 11,
   "metadata": {
    "collapsed": true
   },
   "outputs": [],
   "source": [
    "var EventEmitter = require('events')"
   ]
  },
  {
   "cell_type": "markdown",
   "metadata": {},
   "source": [
    "## Modules\n",
    "Node modules can be published to the Node Package Manager (npm) repository. The npm repository is an online collection of Node modules."
   ]
  }
 ],
 "metadata": {
  "anaconda-cloud": {},
  "kernelspec": {
   "display_name": "Javascript (Node.js)",
   "language": "javascript",
   "name": "javascript"
  },
  "language_info": {
   "file_extension": ".js",
   "mimetype": "application/javascript",
   "name": "javascript",
   "version": "8.9.1"
  }
 },
 "nbformat": 4,
 "nbformat_minor": 2
}
