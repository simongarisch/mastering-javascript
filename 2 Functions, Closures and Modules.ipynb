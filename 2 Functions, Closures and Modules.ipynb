{
 "cells": [
  {
   "cell_type": "markdown",
   "metadata": {},
   "source": [
    "## Functions, Closures and Modules\n",
    "In JavaScript, there is a strong interconnection between objects, functions, and closures. Understanding the strong relationship between these three concepts can vastly improve our JavaScript programming ability, giving us a strong foundation for any type of application development. The most important fact about functions is that in JavaScript, functions are first-class objects. They are treated like any other JavaScript object. Just like other JavaScript data types, they can be referenced by variables, declared with literals, and even passed as function parameters."
   ]
  },
  {
   "cell_type": "code",
   "execution_count": 1,
   "metadata": {
    "collapsed": false
   },
   "outputs": [
    {
     "name": "stdout",
     "output_type": "stream",
     "text": [
      "3\n"
     ]
    }
   ],
   "source": [
    "function add(a, b){\n",
    "  return a + b\n",
    "}\n",
    "\n",
    "c = add(1, 2)\n",
    "console.log(c)"
   ]
  },
  {
   "cell_type": "code",
   "execution_count": 3,
   "metadata": {
    "collapsed": false
   },
   "outputs": [
    {
     "name": "stdout",
     "output_type": "stream",
     "text": [
      "SMALLCASE\n"
     ]
    }
   ],
   "source": [
    "function changeCase(val) {\n",
    "  return val.toUpperCase()\n",
    "}\n",
    "\n",
    "function demofunc(a, passfunction) { // functions as paramaters\n",
    "  console.log(passfunction(a))\n",
    "}\n",
    "\n",
    "demofunc(\"smallcase\", changeCase)"
   ]
  },
  {
   "cell_type": "code",
   "execution_count": 8,
   "metadata": {
    "collapsed": false
   },
   "outputs": [
    {
     "name": "stdout",
     "output_type": "stream",
     "text": [
      "1\n",
      "2\n",
      "3\n",
      "4\n",
      "6\n",
      "7\n",
      "8\n",
      "9\n"
     ]
    }
   ],
   "source": [
    "var looper = function(x){ // doesn't have to return a value\n",
    "  if (x%5===0) {\n",
    "    return\n",
    "  }\n",
    "  console.log(x)\n",
    "}\n",
    "\n",
    "for(var i=1; i<10; i++){\n",
    "  looper(i)\n",
    "}"
   ]
  },
  {
   "cell_type": "markdown",
   "metadata": {},
   "source": [
    "## Functions as data"
   ]
  },
  {
   "cell_type": "code",
   "execution_count": 9,
   "metadata": {
    "collapsed": false
   },
   "outputs": [
    {
     "name": "stdout",
     "output_type": "stream",
     "text": [
      "I can also say things\n"
     ]
    }
   ],
   "source": [
    "var say = console.log\n",
    "say(\"I can also say things\")"
   ]
  },
  {
   "cell_type": "code",
   "execution_count": 10,
   "metadata": {
    "collapsed": false
   },
   "outputs": [
    {
     "name": "stdout",
     "output_type": "stream",
     "text": [
      "myMsg!\n"
     ]
    }
   ],
   "source": [
    "var print = console.log\n",
    "print(\"myMsg!\")"
   ]
  },
  {
   "cell_type": "code",
   "execution_count": 13,
   "metadata": {
    "collapsed": false
   },
   "outputs": [
    {
     "name": "stdout",
     "output_type": "stream",
     "text": [
      "{ name: 'Albert Einstein', age: 65 } 'object'\n"
     ]
    }
   ],
   "source": [
    "var generateDataForScientist = function() {\n",
    "  return {\n",
    "    name: \"Albert Einstein\",\n",
    "    age : Math.floor(Math.random() * (100 - 1)) + 1,\n",
    "  }\n",
    "}\n",
    "\n",
    "result = generateDataForScientist()\n",
    "console.log(result, typeof result)"
   ]
  },
  {
   "cell_type": "code",
   "execution_count": 15,
   "metadata": {
    "collapsed": false
   },
   "outputs": [
    {
     "name": "stdout",
     "output_type": "stream",
     "text": [
      "{ name: 'Albert Einstein', age: 25 }\n"
     ]
    },
    {
     "data": {
      "text/plain": [
       "false"
      ]
     },
     "execution_count": 15,
     "metadata": {},
     "output_type": "execute_result"
    }
   ],
   "source": [
    "var validateDataForAge = function(data) {\n",
    "  person = data()\n",
    "  console.log(person)\n",
    "  if (person.age < 1 || person.age > 99){\n",
    "    return true\n",
    "  }else{\n",
    "    return false\n",
    "  }\n",
    "}\n",
    "\n",
    "validateDataForAge(generateDataForScientist) // pass in the function name to be evaluated"
   ]
  },
  {
   "cell_type": "code",
   "execution_count": 16,
   "metadata": {
    "collapsed": false
   },
   "outputs": [
    {
     "name": "stdout",
     "output_type": "stream",
     "text": [
      "Error while processing age\n"
     ]
    }
   ],
   "source": [
    "var errorHandlerForAge = function(error) {\n",
    "  console.log(\"Error while processing age\")\n",
    "}\n",
    "errorHandlerForAge()"
   ]
  },
  {
   "cell_type": "code",
   "execution_count": 17,
   "metadata": {
    "collapsed": false
   },
   "outputs": [
    {
     "name": "stdout",
     "output_type": "stream",
     "text": [
      "{ name: 'Albert Einstein', age: 32 }\n",
      "no errors\n"
     ]
    }
   ],
   "source": [
    "function parseRequest(data, validateData, errorHandler) {\n",
    "  /*\n",
    "  data: the data generating function. data() returns { name: 'Albert Einstein', age: 25 }\n",
    "  validateData: the validator for data() which returns false\n",
    "  errorHandler: function to call if we hit an error in validateData\n",
    "  */\n",
    "  var error = validateData(data);\n",
    "    if (!error) {\n",
    "      console.log(\"no errors\");\n",
    "    } else {\n",
    "      errorHandler();\n",
    "    }\n",
    "}\n",
    "\n",
    "parseRequest(generateDataForScientist, validateDataForAge, errorHandlerForAge)"
   ]
  },
  {
   "cell_type": "code",
   "execution_count": 21,
   "metadata": {
    "collapsed": false
   },
   "outputs": [
    {
     "name": "stdout",
     "output_type": "stream",
     "text": [
      "{ name: 'J S Bach', age: 59 }\n",
      "no errors\n"
     ]
    }
   ],
   "source": [
    "var generateDataForComposer = function() {\n",
    "  return {\n",
    "    name: \"J S Bach\",\n",
    "    age : Math.floor(Math.random() * (100 - 1)) + 1,\n",
    "  }\n",
    "}\n",
    "\n",
    "parseRequest(generateDataForComposer, validateDataForAge, errorHandlerForAge)"
   ]
  },
  {
   "cell_type": "markdown",
   "metadata": {},
   "source": [
    "## Scoping\n",
    "Scopes can be globally or locally defined."
   ]
  },
  {
   "cell_type": "code",
   "execution_count": 22,
   "metadata": {
    "collapsed": false
   },
   "outputs": [
    {
     "name": "stdout",
     "output_type": "stream",
     "text": [
      "1\n"
     ]
    }
   ],
   "source": [
    "// Here we are declaring a variable outside the function and in the global scope.\n",
    "//Global Scope\n",
    "var a = 1;\n",
    "function scopeTest() {\n",
    "  console.log(a)\n",
    "}\n",
    "scopeTest()"
   ]
  },
  {
   "cell_type": "code",
   "execution_count": 23,
   "metadata": {
    "collapsed": false
   },
   "outputs": [
    {
     "name": "stdout",
     "output_type": "stream",
     "text": [
      "1\n",
      "2\n",
      "2\n"
     ]
    }
   ],
   "source": [
    "//Global Scope\n",
    "var a = 1\n",
    "function scopeTest() {\n",
    "  a = 2 //Overwrites global variable 2, you omit 'var'\n",
    "  console.log(a)\n",
    "}\n",
    "console.log(a)  // prints 1\n",
    "scopeTest()     // prints 2\n",
    "console.log(a); // prints 2 (global value is overwritten)"
   ]
  },
  {
   "cell_type": "code",
   "execution_count": 25,
   "metadata": {
    "collapsed": false
   },
   "outputs": [
    {
     "name": "stdout",
     "output_type": "stream",
     "text": [
      "1\n",
      "2\n",
      "1\n"
     ]
    }
   ],
   "source": [
    "// this time we'll use var to declare a local variable within the function scope\n",
    "var a = 1\n",
    "function scopeTest() {\n",
    "  var a = 2 // new variable a with function scope (will not override global a)\n",
    "  console.log(a)\n",
    "}\n",
    "console.log(a)  // prints 1\n",
    "scopeTest()     // prints 2\n",
    "console.log(a); // prints 2 (global value is overwritten)"
   ]
  },
  {
   "cell_type": "markdown",
   "metadata": {},
   "source": [
    "## Local scope\n",
    "Unlike most programming languages, JavaScript does not have block-level scope (variables scoped to surrounding curly brackets); instead, JavaScript has function level scope. Variables declared within a function are local variables and are only\n",
    "accessible within that function or by functions inside that function."
   ]
  },
  {
   "cell_type": "code",
   "execution_count": 27,
   "metadata": {
    "collapsed": false
   },
   "outputs": [
    {
     "name": "stdout",
     "output_type": "stream",
     "text": [
      "Global\n",
      "Local\n"
     ]
    }
   ],
   "source": [
    "var scope_name = \"Global\"\n",
    "function showScopeName () {\n",
    "  // local variable; only accessible in this function\n",
    "  var scope_name = \"Local\"\n",
    "  console.log (scope_name) // Local\n",
    "}\n",
    "console.log (scope_name)   // Global\n",
    "showScopeName()            // Local"
   ]
  },
  {
   "cell_type": "markdown",
   "metadata": {},
   "source": [
    "## Function-level scope versus block-level scope\n",
    "JavaScript uses scope chains to establish the scope for a given function. There is typically one global scope, and each function defined has its own nested scope. When resolving a variable, JavaScript starts at the innermost scope and searches outwards."
   ]
  },
  {
   "cell_type": "markdown",
   "metadata": {},
   "source": [
    "## Inline function expressions"
   ]
  },
  {
   "cell_type": "code",
   "execution_count": 28,
   "metadata": {
    "collapsed": false
   },
   "outputs": [
    {
     "name": "stdout",
     "output_type": "stream",
     "text": [
      "Setting active tab\n"
     ]
    }
   ],
   "source": [
    "function setActiveTab(activeTabHandler, tab){\n",
    "  //set active tab\n",
    "  //call handler\n",
    "  activeTabHandler()\n",
    "}\n",
    "\n",
    "setActiveTab(function(){console.log(\"Setting active tab\")}, 1)"
   ]
  },
  {
   "cell_type": "markdown",
   "metadata": {},
   "source": [
    "## Block scopes\n",
    "As we discussed earlier, JavaScript does not have the concept of block scopes. Consider this example."
   ]
  },
  {
   "cell_type": "code",
   "execution_count": 30,
   "metadata": {
    "collapsed": false
   },
   "outputs": [
    {
     "name": "stdout",
     "output_type": "stream",
     "text": [
      "42\n"
     ]
    }
   ],
   "source": [
    "var foo = true;\n",
    "if (foo) {\n",
    "  var bar = 42\n",
    "}\n",
    "\n",
    "console.log(bar)"
   ]
  },
  {
   "cell_type": "markdown",
   "metadata": {},
   "source": [
    "ECMAScript 6 (ES6) introduces the let keyword to introduce traditional block scope."
   ]
  },
  {
   "cell_type": "code",
   "execution_count": 32,
   "metadata": {
    "collapsed": false
   },
   "outputs": [
    {
     "ename": "ReferenceError",
     "evalue": "baz is not defined",
     "output_type": "error",
     "traceback": [
      "evalmachine.<anonymous>:6",
      "console.log(baz) // ReferenceError",
      "            ^",
      "",
      "ReferenceError: baz is not defined",
      "    at evalmachine.<anonymous>:6:13",
      "    at ContextifyScript.Script.runInThisContext (vm.js:50:33)",
      "    at Object.runInThisContext (vm.js:139:38)",
      "    at run ([eval]:1002:15)",
      "    at onRunRequest ([eval]:829:18)",
      "    at onMessage ([eval]:789:13)",
      "    at emitTwo (events.js:126:13)",
      "    at process.emit (events.js:214:7)",
      "    at emit (internal/child_process.js:772:12)",
      "    at _combinedTickCallback (internal/process/next_tick.js:141:11)"
     ]
    }
   ],
   "source": [
    "var foo = true;\n",
    "if (foo) {\n",
    "  let baz = 42\n",
    "}\n",
    "\n",
    "console.log(baz) // ReferenceError"
   ]
  },
  {
   "cell_type": "markdown",
   "metadata": {},
   "source": [
    "The book notes (at the time of writing) ES6 is not supported by default in most popular browsers."
   ]
  },
  {
   "cell_type": "markdown",
   "metadata": {},
   "source": [
    "## Function declarations versus function expressions"
   ]
  },
  {
   "cell_type": "code",
   "execution_count": 34,
   "metadata": {
    "collapsed": false
   },
   "outputs": [
    {
     "ename": "TypeError",
     "evalue": "functionOne is not a function",
     "output_type": "error",
     "traceback": [
      "evalmachine.<anonymous>:1",
      "functionOne() // TypeError: functionOne is not a function",
      "^",
      "",
      "TypeError: functionOne is not a function",
      "    at evalmachine.<anonymous>:1:1",
      "    at ContextifyScript.Script.runInThisContext (vm.js:50:33)",
      "    at Object.runInThisContext (vm.js:139:38)",
      "    at run ([eval]:1002:15)",
      "    at onRunRequest ([eval]:829:18)",
      "    at onMessage ([eval]:789:13)",
      "    at emitTwo (events.js:126:13)",
      "    at process.emit (events.js:214:7)",
      "    at emit (internal/child_process.js:772:12)",
      "    at _combinedTickCallback (internal/process/next_tick.js:141:11)"
     ]
    }
   ],
   "source": [
    "functionOne() // TypeError: functionOne is not a function\n",
    "\n",
    "var functionOne = function() {\n",
    "  console.log(\"functionOne\")\n",
    "}"
   ]
  },
  {
   "cell_type": "code",
   "execution_count": 36,
   "metadata": {
    "collapsed": false
   },
   "outputs": [
    {
     "name": "stdout",
     "output_type": "stream",
     "text": [
      "functionTwo\n"
     ]
    }
   ],
   "source": [
    "functionTwo() // this works fine\n",
    "\n",
    "function functionTwo() {\n",
    "  console.log(\"functionTwo\");\n",
    "}"
   ]
  },
  {
   "cell_type": "markdown",
   "metadata": {},
   "source": [
    "A function declaration is processed when execution enters the context in which it appears before any step-by-step code is executed. The function that it creates is given a proper name (functionTwo() in the preceding example) and this name is put in the scope in which the declaration appears. As it's processed before any step-by-step code in the same context, calling functionTwo() before defining it works without an error."
   ]
  },
  {
   "cell_type": "markdown",
   "metadata": {},
   "source": [
    "However, functionOne() is an anonymous function expression, evaluated when it's reached in the step-by-step execution of the code (also called runtime execution); we have to declare it before we can invoke it."
   ]
  },
  {
   "cell_type": "markdown",
   "metadata": {},
   "source": [
    "Function declarations are allowed to appear only in the program or function body. They cannot appear in a block ({ ... }). Blocks can only contain statements and not function declarations. Due to this, almost all implementations of JavaScript have\n",
    "behavior different from this. It is always advisable to never use function declarations in a conditional block."
   ]
  },
  {
   "cell_type": "code",
   "execution_count": 41,
   "metadata": {
    "collapsed": false
   },
   "outputs": [
    {
     "data": {
      "text/plain": [
       "'trueMoo'"
      ]
     },
     "execution_count": 41,
     "metadata": {},
     "output_type": "execute_result"
    }
   ],
   "source": [
    "// Never do this - different browsers will behave differently\n",
    "var x = true\n",
    "\n",
    "if (x) {\n",
    "  function sayMoo() {\n",
    "    return 'trueMoo'\n",
    "  }\n",
    "}\n",
    "\n",
    "else {\n",
    "  function sayMoo() {\n",
    "    return 'falseMoo'\n",
    "  }\n",
    "}\n",
    "\n",
    "sayMoo()"
   ]
  },
  {
   "cell_type": "markdown",
   "metadata": {},
   "source": [
    "However, it's perfectly safe and, in fact, smart to do the same with function expressions:"
   ]
  },
  {
   "cell_type": "code",
   "execution_count": 42,
   "metadata": {
    "collapsed": false
   },
   "outputs": [
    {
     "data": {
      "text/plain": [
       "'trueMoo'"
      ]
     },
     "execution_count": 42,
     "metadata": {},
     "output_type": "execute_result"
    }
   ],
   "source": [
    "var sayMoo;\n",
    "\n",
    "if (x) {\n",
    "  sayMoo = function() {\n",
    "    return 'trueMoo';\n",
    "  }\n",
    "}\n",
    "else {\n",
    "  sayMoo = function() {\n",
    "    return 'falseMoo'\n",
    "  }\n",
    "}\n",
    "\n",
    "sayMoo()"
   ]
  },
  {
   "cell_type": "markdown",
   "metadata": {},
   "source": [
    "## The arguments parameter"
   ]
  },
  {
   "cell_type": "code",
   "execution_count": null,
   "metadata": {
    "collapsed": true
   },
   "outputs": [],
   "source": []
  }
 ],
 "metadata": {
  "anaconda-cloud": {},
  "kernelspec": {
   "display_name": "Javascript (Node.js)",
   "language": "javascript",
   "name": "javascript"
  },
  "language_info": {
   "file_extension": ".js",
   "mimetype": "application/javascript",
   "name": "javascript",
   "version": "8.9.1"
  }
 },
 "nbformat": 4,
 "nbformat_minor": 2
}
