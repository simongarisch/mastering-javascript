{
 "cells": [
  {
   "cell_type": "markdown",
   "metadata": {},
   "source": [
    "## Object-Oriented JavaScript\n",
    "JavaScript's most fundamental data type is the Object data type."
   ]
  },
  {
   "cell_type": "code",
   "execution_count": 2,
   "metadata": {
    "collapsed": false
   },
   "outputs": [
    {
     "name": "stdout",
     "output_type": "stream",
     "text": [
      "Douglas\n",
      "Crockford\n",
      "JavaScript- The Good Parts\n"
     ]
    }
   ],
   "source": [
    "var author = {\n",
    "  firstname : \"Douglas\",\n",
    "  lastname : \"Crockford\",\n",
    "  book : {\n",
    "    title:\"JavaScript- The Good Parts\",\n",
    "    pages:\"172\"\n",
    "  }\n",
    "}\n",
    "\n",
    "// Properties of an object can be accessed by using two notations: the array-like notation and dot notation.\n",
    "console.log(author['firstname'])\n",
    "console.log(author.lastname)\n",
    "console.log(author.book.title)"
   ]
  },
  {
   "cell_type": "code",
   "execution_count": 5,
   "metadata": {
    "collapsed": false
   },
   "outputs": [
    {
     "name": "stdout",
     "output_type": "stream",
     "text": [
      "Douglas\n",
      "No Age Found\n"
     ]
    }
   ],
   "source": [
    "// we can use || for default values\n",
    "console.log(author.firstname || \"No first name is provided\")\n",
    "console.log(author.age || \"No Age Found\")"
   ]
  },
  {
   "cell_type": "markdown",
   "metadata": {},
   "source": [
    "Methods are properties of an object that can hold function values as follows"
   ]
  },
  {
   "cell_type": "code",
   "execution_count": 6,
   "metadata": {
    "collapsed": false
   },
   "outputs": [
    {
     "name": "stdout",
     "output_type": "stream",
     "text": [
      "booked meeting room -VL\n"
     ]
    }
   ],
   "source": [
    "var meetingRoom = {}\n",
    "meetingRoom.book = function(roomId){\n",
    "  console.log(\"booked meeting room -\" + roomId)\n",
    "}\n",
    "meetingRoom.book(\"VL\")"
   ]
  },
  {
   "cell_type": "markdown",
   "metadata": {},
   "source": [
    "## Prototypes\n",
    "Apart from the properties that we add to an object, there is one default property for almost all objects, called a prototype. When an object does not have a requested property, JavaScript goes to its prototype to look for it. The Object.\n",
    "getPrototypeOf() function returns the prototype of an object. Prototypes can be seen as blueprints for object creation.\n",
    "They can be seen as analogous to classes in object-oriented languages. Prototypes in JavaScript are used to write a classical style object-oriented code and mimic classical inheritance."
   ]
  },
  {
   "cell_type": "code",
   "execution_count": 14,
   "metadata": {
    "collapsed": false
   },
   "outputs": [
    {
     "data": {
      "text/plain": [
       "[Function]"
      ]
     },
     "execution_count": 14,
     "metadata": {},
     "output_type": "execute_result"
    }
   ],
   "source": [
    "function Player() {}\n",
    "\n",
    "//Add a function to the prototype property of the function\n",
    "Player.prototype.usesBat = function() {\n",
    "  return true\n",
    "}\n"
   ]
  },
  {
   "cell_type": "code",
   "execution_count": 15,
   "metadata": {
    "collapsed": false
   },
   "outputs": [
    {
     "data": {
      "text/plain": [
       "[Function: Player]"
      ]
     },
     "execution_count": 15,
     "metadata": {},
     "output_type": "execute_result"
    }
   ],
   "source": [
    "Player"
   ]
  },
  {
   "cell_type": "code",
   "execution_count": 16,
   "metadata": {
    "collapsed": false
   },
   "outputs": [
    {
     "name": "stdout",
     "output_type": "stream",
     "text": [
      "CrazyBob is not defined\n"
     ]
    }
   ],
   "source": [
    "var crazyBob = Player()\n",
    "if(crazyBob === undefined){\n",
    "  console.log(\"CrazyBob is not defined\")\n",
    "}"
   ]
  },
  {
   "cell_type": "code",
   "execution_count": 17,
   "metadata": {
    "collapsed": false
   },
   "outputs": [
    {
     "name": "stdout",
     "output_type": "stream",
     "text": [
      "SwingJay exists and can use bat\n"
     ]
    }
   ],
   "source": [
    "//Now we call player() as a constructor along with 'new'\n",
    "//1. The instance is created\n",
    "//2. method usesBat() is derived from the prototype of the function\n",
    "\n",
    "var swingJay = new Player()\n",
    "if(swingJay && swingJay.usesBat && swingJay.usesBat()){\n",
    "  console.log(\"SwingJay exists and can use bat\")\n",
    "}"
   ]
  },
  {
   "cell_type": "markdown",
   "metadata": {},
   "source": [
    "## Instance properties versus prototype properties\n",
    "When we have the same functions defined as an instance property and also as a prototype, the instance property takes precedence.\n",
    "* Properties are tied to the object instance from the prototype\n",
    "* Properties are tied to the object instance in the constructor function"
   ]
  },
  {
   "cell_type": "code",
   "execution_count": 21,
   "metadata": {
    "collapsed": false
   },
   "outputs": [
    {
     "name": "stdout",
     "output_type": "stream",
     "text": [
      "Instance method says - he is hired\n"
     ]
    }
   ],
   "source": [
    "// Instance properties are the properties that are part of the object instance itself\n",
    "function Player() {\n",
    "  this.isAvailable = function() {\n",
    "    return \"Instance method says - he is hired\"\n",
    "  }\n",
    "}\n",
    "\n",
    "Player.prototype.isAvailable = function() {\n",
    "  return \"Prototype method says - he is Not hired\"\n",
    "}\n",
    "\n",
    "var crazyBob = new Player()\n",
    "console.log(crazyBob.isAvailable())"
   ]
  },
  {
   "cell_type": "markdown",
   "metadata": {},
   "source": [
    "In JavaScript, the value of this is determined by the invocation context of a function and where it is called. Let's see how this behavior needs to be carefully understood."
   ]
  },
  {
   "cell_type": "code",
   "execution_count": 26,
   "metadata": {
    "collapsed": false
   },
   "outputs": [
    {
     "name": "stdout",
     "output_type": "stream",
     "text": [
      "15\n"
     ]
    }
   ],
   "source": [
    "console.log(String(this).length) // When this is called in a global context, it is bound to the global context"
   ]
  },
  {
   "cell_type": "code",
   "execution_count": 27,
   "metadata": {
    "collapsed": false
   },
   "outputs": [
    {
     "name": "stdout",
     "output_type": "stream",
     "text": [
      "{ name: 'f', func: [Function: func] }\n"
     ]
    }
   ],
   "source": [
    "// When this is used in an object method: In this case, this is assigned or bound to the enclosing object.\n",
    "var f = {\n",
    "  name: \"f\",\n",
    "  func: function () {\n",
    "    return this;\n",
    "  }\n",
    "}\n",
    "\n",
    "console.log(f.func())"
   ]
  },
  {
   "cell_type": "markdown",
   "metadata": {},
   "source": [
    "function, when invoked without any object, does not get any context. By default, it is bound to the global context. When you\n",
    "use this in such a function, it is also bound to the global context. As we saw earlier, when a function is called with a new keyword, it acts as a constructor. In the case of a constructor, this points to the object being constructed."
   ]
  },
  {
   "cell_type": "code",
   "execution_count": 30,
   "metadata": {
    "collapsed": false
   },
   "outputs": [
    {
     "name": "stdout",
     "output_type": "stream",
     "text": [
      "f\n"
     ]
    }
   ],
   "source": [
    "var member = \"global\"\n",
    "function f(){\n",
    "  this.member = \"f\"\n",
    "}\n",
    "var o = new f();\n",
    "console.log(o.member)"
   ]
  },
  {
   "cell_type": "code",
   "execution_count": 31,
   "metadata": {
    "collapsed": false
   },
   "outputs": [
    {
     "name": "stdout",
     "output_type": "stream",
     "text": [
      "false\n"
     ]
    }
   ],
   "source": [
    "function Player() {\n",
    "  isAvailable=false\n",
    "}\n",
    "\n",
    "var crazyBob = new Player()\n",
    "Player.prototype.isAvailable = function() {\n",
    "  return isAvailable\n",
    "}\n",
    "console.log(crazyBob.isAvailable())"
   ]
  },
  {
   "cell_type": "code",
   "execution_count": 2,
   "metadata": {
    "collapsed": false
   },
   "outputs": [
    {
     "name": "stdout",
     "output_type": "stream",
     "text": [
      "So far there are 2 in the guild\n"
     ]
    }
   ],
   "source": [
    "function Player(name,sport,age,country){\n",
    "  this.constructor.noOfPlayers++\n",
    "     \n",
    "  // Private Properties and Functions can only be viewed, edited or invoked by privileged members\n",
    "  var retirementAge = 40\n",
    "  var available = true\n",
    "  var playerAge = age ? age : 18\n",
    "     \n",
    "  function isAvailable(){ \n",
    "    return available && (playerAge < retirementAge)\n",
    "  }\n",
    "\n",
    "  var playerName = name ? name : \"Unknown\"\n",
    "  var playerSport = sport ? sport : \"Unknown\"\n",
    "  \n",
    "  // Privileged Methods can be invoked from outside and can access private members\n",
    "  // Can be replaced with public counterparts\n",
    "  this.book=function(){\n",
    "    if (!isAvailable()){\n",
    "      this.available=false\n",
    "    } else {\n",
    "      console.log(\"Player is unavailable\")\n",
    "    } \n",
    "  }\n",
    "\n",
    "  this.getSport=function(){ return playerSport }\n",
    "\n",
    "  // Public properties, modifiable from anywhere\n",
    "  this.batPreference = \"Lefty\"\n",
    "  this.hasCelebGirlfriend =false\n",
    "  this.endorses=\"Super Brand\"\n",
    "}\n",
    "\n",
    "// Public methods - can be read or written by anyone\n",
    "// Can only access public and prototype properties\n",
    "Player.prototype.switchHands = function(){ this. batPreference = \"righty\" }\n",
    "Player.prototype.dateCeleb = function(){ this.hasCelebGirlfriend = true }\n",
    "Player.prototype.fixEyes = function(){ this.wearGlasses = false }\n",
    "\n",
    "// Prototype Properties - can be read or written by anyone (or overridden)\n",
    "Player.prototype.wearsGlasses = true\n",
    "// Static Properties - anyone can read or write\n",
    "Player.noOfPlayers = 0;\n",
    "\n",
    "(function PlayerTest(){\n",
    "  //New instance of the Player object created\n",
    "  var cricketer=new Player(\"Vivian\", \"Cricket\", 23, \"England\")\n",
    "  var golfer =new Player(\"Pete\",\"Golf\",32,\"USA\");\n",
    "  console.log(\"So far there are \" + Player.noOfPlayers + \" in the guild\")\n",
    "  \n",
    "  // Both these functions share the common 'Player.prototype. wearsGlasses' variable\n",
    "  cricketer.fixEyes()\n",
    "  golfer.fixEyes()\n",
    "  \n",
    "  cricketer.endorses = \"Other Brand\" //public variable can be updated\n",
    "  // Both Player's public method is now changed via their prototype\n",
    "  Player.prototype.fixEyes=function(){\n",
    "    this.wearGlasses = true\n",
    "  }\n",
    "  \n",
    "  // Only Cricketer's function is changed\n",
    "  cricketer.switchHands=function(){\n",
    "    this.batPreference = \"undecided\"\n",
    "  }\n",
    "})();"
   ]
  },
  {
   "cell_type": "markdown",
   "metadata": {
    "collapsed": true
   },
   "source": [
    "## Inheritance\n",
    "To understand prototype chains better, let's consider the following example"
   ]
  },
  {
   "cell_type": "code",
   "execution_count": 5,
   "metadata": {
    "collapsed": false
   },
   "outputs": [
    {
     "name": "stdout",
     "output_type": "stream",
     "text": [
      "Crying\n",
      ".........\n",
      "true\n",
      "false\n",
      "true\n"
     ]
    }
   ],
   "source": [
    "function Person() {}\n",
    "Person.prototype.cry = function() {\n",
    "  console.log(\"Crying\")\n",
    "}\n",
    "\n",
    "function Child() {}\n",
    "Child.prototype = {cry: Person.prototype.cry}\n",
    "\n",
    "var aChild = new Child()\n",
    "aChild.cry()\n",
    "console.log(\".........\")\n",
    "console.log(aChild instanceof Child)  // true\n",
    "console.log(aChild instanceof Person) // false\n",
    "console.log(aChild instanceof Object) // true"
   ]
  },
  {
   "cell_type": "markdown",
   "metadata": {},
   "source": [
    "Just by copying a behavior, we could not really make Child an instance of Person. The changed line below uses an instance of Person as the prototype of Child. This is an important distinction from the earlier method. Here we are declaring that child IS-A person."
   ]
  },
  {
   "cell_type": "code",
   "execution_count": 7,
   "metadata": {
    "collapsed": false
   },
   "outputs": [
    {
     "name": "stdout",
     "output_type": "stream",
     "text": [
      "Crying\n",
      ".........\n",
      "true\n",
      "true\n",
      "true\n"
     ]
    }
   ],
   "source": [
    "function Person() {}\n",
    "Person.prototype.cry = function() {\n",
    "  console.log(\"Crying\")\n",
    "}\n",
    "\n",
    "function Child() {}\n",
    "Child.prototype = new Person()\n",
    "var aChild = new Child()\n",
    "aChild.cry()\n",
    "console.log(\".........\")\n",
    "console.log(aChild instanceof Child)   // true\n",
    "console.log(aChild instanceof Person)  // true\n",
    "console.log(aChild instanceof Object)  // true"
   ]
  },
  {
   "cell_type": "markdown",
   "metadata": {
    "collapsed": true
   },
   "source": [
    "Here is another example..."
   ]
  },
  {
   "cell_type": "code",
   "execution_count": 30,
   "metadata": {
    "collapsed": false
   },
   "outputs": [
    {
     "name": "stdout",
     "output_type": "stream",
     "text": [
      "Employee { name: '', dept: 'None', salary: 0 }\n"
     ]
    }
   ],
   "source": [
    "function Employee() {\n",
    "  this.name = ''\n",
    "  this.dept = 'None'\n",
    "  this.salary = 0.00\n",
    "}\n",
    "\n",
    "var e = new Employee()\n",
    "console.log(e)"
   ]
  },
  {
   "cell_type": "code",
   "execution_count": 31,
   "metadata": {
    "collapsed": false
   },
   "outputs": [
    {
     "name": "stdout",
     "output_type": "stream",
     "text": [
      "Employee { name: '', dept: 'None', salary: 0, reports: [] }\n"
     ]
    }
   ],
   "source": [
    "function Manager() {\n",
    "  Employee.call(this)\n",
    "  this.reports = []\n",
    "}\n",
    "\n",
    "Manager.prototype = Object.create(Employee.prototype);\n",
    "var m = new Manager()\n",
    "console.log(m)"
   ]
  },
  {
   "cell_type": "markdown",
   "metadata": {},
   "source": [
    "* First, we are calling Employee.call(this). If you come from a Java background, this is analogous to the super() method call in the constructor.\n",
    "* The other thing we see is Object.create() instead of calling new. Object.create() creates an object with a specified prototype.\n",
    "\n",
    "To have a side effect free inheritance mechanism we need to make sure:\n",
    "* Setting the prototype to an instance of the parent initializes the prototype chain (inheritance); this is done only once (as the prototype object is shared)\n",
    "* Calling the parent's constructor initializes the object itself; this is done with every instantiation"
   ]
  },
  {
   "cell_type": "code",
   "execution_count": 32,
   "metadata": {
    "collapsed": false
   },
   "outputs": [
    {
     "name": "stdout",
     "output_type": "stream",
     "text": [
      "Employee { name: '', dept: 'None', salary: 0, active_projects: [] }\n"
     ]
    }
   ],
   "source": [
    "function IndividualContributor() {\n",
    "  Employee.call(this)\n",
    "  this.active_projects = []\n",
    "}\n",
    "\n",
    "IndividualContributor.prototype = Object.create(Employee.prototype)\n",
    "console.log(new IndividualContributor())"
   ]
  },
  {
   "cell_type": "code",
   "execution_count": 33,
   "metadata": {
    "collapsed": false
   },
   "outputs": [
    {
     "name": "stdout",
     "output_type": "stream",
     "text": [
      "Employee { name: '', dept: 'Software', salary: 100000, reports: [] }\n"
     ]
    }
   ],
   "source": [
    "function TeamLead() {\n",
    "  Manager.call(this)\n",
    "  this.dept = \"Software\"\n",
    "  this.salary = 100000\n",
    "}\n",
    "TeamLead.prototype = Object.create(Manager.prototype)\n",
    "console.log(new TeamLead())"
   ]
  },
  {
   "cell_type": "code",
   "execution_count": 34,
   "metadata": {
    "collapsed": false
   },
   "outputs": [
    {
     "name": "stdout",
     "output_type": "stream",
     "text": [
      "Employee {\n",
      "  name: '',\n",
      "  dept: 'JavaScript',\n",
      "  salary: 80000,\n",
      "  reports: [],\n",
      "  desktop_id: '8822' }\n"
     ]
    }
   ],
   "source": [
    "function Engineer() {\n",
    "  TeamLead.call(this)\n",
    "  this.dept = \"JavaScript\"\n",
    "  this.desktop_id = \"8822\"\n",
    "  this.salary = 80000\n",
    "}\n",
    "Engineer.prototype = Object.create(TeamLead.prototype)\n",
    "console.log(new Engineer())"
   ]
  },
  {
   "cell_type": "code",
   "execution_count": 35,
   "metadata": {
    "collapsed": false
   },
   "outputs": [
    {
     "name": "stdout",
     "output_type": "stream",
     "text": [
      "Employee { name: '', dept: 'None', salary: 0 }\n"
     ]
    }
   ],
   "source": [
    "var genericEmployee = new Employee()\n",
    "console.log(genericEmployee)"
   ]
  },
  {
   "cell_type": "code",
   "execution_count": 36,
   "metadata": {
    "collapsed": false
   },
   "outputs": [
    {
     "name": "stdout",
     "output_type": "stream",
     "text": [
      "Employee { name: 'Karen', dept: 'None', salary: 0, reports: [ 1, 2, 3 ] }\n"
     ]
    }
   ],
   "source": [
    "var karen = new Manager()\n",
    "karen.name = \"Karen\"\n",
    "karen.reports = [1, 2, 3]\n",
    "console.log(karen)"
   ]
  },
  {
   "cell_type": "code",
   "execution_count": 38,
   "metadata": {
    "collapsed": false
   },
   "outputs": [
    {
     "name": "stdout",
     "output_type": "stream",
     "text": [
      "Employee { name: 'Jason', dept: 'Software', salary: 100000, reports: [] }\n"
     ]
    }
   ],
   "source": [
    "var jason = new TeamLead()\n",
    "jason.name = \"Jason\"\n",
    "console.log(jason)"
   ]
  },
  {
   "cell_type": "code",
   "execution_count": 42,
   "metadata": {
    "collapsed": false
   },
   "outputs": [
    {
     "name": "stdout",
     "output_type": "stream",
     "text": [
      "Junk\n",
      "Junk\n",
      "*****************\n",
      "Another\n",
      "Another\n"
     ]
    }
   ],
   "source": [
    "// Here you'll see the name property of both sandy and karen has changed to Junk.\n",
    "\n",
    "function Employee() {\n",
    "  this.dept = 'None'\n",
    "  this.salary = 0.00\n",
    "}\n",
    "\n",
    "Employee.prototype.name = ''\n",
    "\n",
    "function Manager() {\n",
    "  this.reports = []\n",
    "}\n",
    "\n",
    "Manager.prototype = new Employee();\n",
    "var sandy = new Manager()\n",
    "var karen = new Manager()\n",
    "Employee.prototype.name = \"Junk\"\n",
    "console.log(sandy.name)\n",
    "console.log(karen.name)\n",
    "console.log(\"*****************\")\n",
    "\n",
    "// when you change the value of name in the Employee's prototype, it propagates to all the descendants\n",
    "Employee.prototype.name = \"Another\"\n",
    "console.log(sandy.name)\n",
    "console.log(karen.name)"
   ]
  },
  {
   "cell_type": "markdown",
   "metadata": {},
   "source": [
    "For example, the following snippet extends the String object to add a reverse() method to reverse a string. This method does not exist in the native String object but by manipulating String's prototype, we add this method to String:"
   ]
  },
  {
   "cell_type": "code",
   "execution_count": 43,
   "metadata": {
    "collapsed": false
   },
   "outputs": [
    {
     "name": "stdout",
     "output_type": "stream",
     "text": [
      "tpircSavaJ\n"
     ]
    }
   ],
   "source": [
    "String.prototype.reverse = function() {\n",
    "  return Array.prototype.reverse.apply(this.split('')).join('')\n",
    "}\n",
    "\n",
    "var str = 'JavaScript'\n",
    "console.log(str.reverse()) //\"tpircSavaJ\""
   ]
  },
  {
   "cell_type": "markdown",
   "metadata": {},
   "source": [
    "Though this is a very powerful technique, care should be taken not to overuse it. Refer to http://perfectionkills.com/extending-native-builtins/ to understand the pitfalls of extending native built-ins and what care should be taken if you intend to do so."
   ]
  },
  {
   "cell_type": "markdown",
   "metadata": {},
   "source": [
    "## Getters and Setters"
   ]
  },
  {
   "cell_type": "code",
   "execution_count": 45,
   "metadata": {
    "collapsed": false
   },
   "outputs": [
    {
     "name": "stdout",
     "output_type": "stream",
     "text": [
      "Issac Newton\n"
     ]
    }
   ],
   "source": [
    "var person = {\n",
    "  firstname: \"Albert\",\n",
    "  lastname: \"Einstein\",\n",
    "  \n",
    "  setLastName: function(_lastname){\n",
    "    this.lastname= _lastname\n",
    "  },\n",
    "    \n",
    "  setFirstName: function (_firstname){\n",
    "    this.firstname= _firstname\n",
    "  },\n",
    "    \n",
    "  getFullName: function (){\n",
    "    return this.firstname + ' '+ this.lastname\n",
    "  }\n",
    "}\n",
    "\n",
    "person.setLastName('Newton')\n",
    "person.setFirstName('Issac')\n",
    "console.log(person.getFullName())"
   ]
  },
  {
   "cell_type": "markdown",
   "metadata": {},
   "source": [
    "This is a very common use case and ECMAScript 5 now provides you with a default syntax for getters and setters."
   ]
  },
  {
   "cell_type": "code",
   "execution_count": 46,
   "metadata": {
    "collapsed": false
   },
   "outputs": [
    {
     "name": "stdout",
     "output_type": "stream",
     "text": [
      "Issac\n",
      "Newton\n",
      "Issac Newton\n"
     ]
    }
   ],
   "source": [
    "var person = {\n",
    "  firstname: \"Albert\",\n",
    "  lastname: \"Einstein\",\n",
    "  \n",
    "  get fullname() {\n",
    "    return this.firstname + \" \" + this.lastname\n",
    "  },\n",
    "\n",
    "  set fullname(_name){\n",
    "    var words = _name.toString().split(' ')\n",
    "    this.firstname = words[0]\n",
    "    this.lastname = words[1]\n",
    "  }\n",
    "}\n",
    "\n",
    "person.fullname = \"Issac Newton\"\n",
    "console.log(person.firstname) // \"Issac\"\n",
    "console.log(person.lastname)  // \"Newton\"\n",
    "console.log(person.fullname)  // \"Issac Newton\""
   ]
  },
  {
   "cell_type": "markdown",
   "metadata": {},
   "source": [
    "Another way of declaring getters and setters is using the Object.defineProperty() method"
   ]
  },
  {
   "cell_type": "code",
   "execution_count": 47,
   "metadata": {
    "collapsed": false
   },
   "outputs": [
    {
     "name": "stdout",
     "output_type": "stream",
     "text": [
      "Issac\n",
      "Newton\n",
      "Issac Newton\n"
     ]
    }
   ],
   "source": [
    "var person = {\n",
    "  firstname: \"Albert\",\n",
    "  lastname: \"Einstein\",\n",
    "}\n",
    "\n",
    "Object.defineProperty(person, 'fullname', {\n",
    "  get: function() {\n",
    "    return this.firstname + ' ' + this.lastname\n",
    "  },\n",
    "  set: function(name) {\n",
    "    var words = name.split(' ')\n",
    "    this.firstname = words[0]\n",
    "    this.lastname = words[1]\n",
    "  }\n",
    "})\n",
    "\n",
    "person.fullname = \"Issac Newton\"\n",
    "console.log(person.firstname)  // \"Issac\"\n",
    "console.log(person.lastname)   // \"Newton\"\n",
    "console.log(person.fullname)   // \"Issac Newton\""
   ]
  },
  {
   "cell_type": "markdown",
   "metadata": {},
   "source": [
    "JavaScript object-orientation is based on the function prototypes and prototypal inheritance."
   ]
  }
 ],
 "metadata": {
  "anaconda-cloud": {},
  "kernelspec": {
   "display_name": "Javascript (Node.js)",
   "language": "javascript",
   "name": "javascript"
  },
  "language_info": {
   "file_extension": ".js",
   "mimetype": "application/javascript",
   "name": "javascript",
   "version": "8.9.1"
  }
 },
 "nbformat": 4,
 "nbformat_minor": 2
}
