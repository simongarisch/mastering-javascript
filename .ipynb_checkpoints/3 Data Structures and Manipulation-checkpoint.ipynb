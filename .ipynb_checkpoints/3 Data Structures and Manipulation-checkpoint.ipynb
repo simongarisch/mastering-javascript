{
 "cells": [
  {
   "cell_type": "markdown",
   "metadata": {},
   "source": [
    "# Data Structures and Manipulation\n",
    "## Regular expressions\n",
    "Some flags for RegEx:\n",
    "* i is case-insensitive\n",
    "* g matches all instances of the pattern as opposed to the default of local\n",
    "* m allows matches across multiple lines"
   ]
  },
  {
   "cell_type": "code",
   "execution_count": 3,
   "metadata": {},
   "outputs": [
    {
     "data": {
      "application/javascript": [
       "\n",
       "var pattern = /orange/\n",
       "alert(pattern.test(\"orange\")) // true\n",
       "\n",
       "var patternIgnoreCase = /orange/i\n",
       "alert(patternIgnoreCase.test(\"Orange\")) // true\n",
       "\n",
       "var patternGlobal = /orange/ig\n",
       "alert(patternGlobal.test(\"Orange Juice\")) // true"
      ],
      "text/plain": [
       "<IPython.core.display.Javascript object>"
      ]
     },
     "metadata": {},
     "output_type": "display_data"
    }
   ],
   "source": [
    "%%javascript\n",
    "\n",
    "var pattern = /orange/\n",
    "alert(pattern.test(\"orange\")) // true\n",
    "\n",
    "var patternIgnoreCase = /orange/i\n",
    "alert(patternIgnoreCase.test(\"Orange\")) // true\n",
    "\n",
    "var patternGlobal = /orange/ig\n",
    "alert(patternGlobal.test(\"Orange Juice\")) // true\n"
   ]
  },
  {
   "cell_type": "code",
   "execution_count": 6,
   "metadata": {},
   "outputs": [
    {
     "data": {
      "application/javascript": [
       "\n",
       "var pattern = /[abc]/    // match against a set of characters\n",
       "alert(pattern.test('a')) // true\n",
       "alert(pattern.test('c')) // true\n",
       "alert(pattern.test('d')) // false"
      ],
      "text/plain": [
       "<IPython.core.display.Javascript object>"
      ]
     },
     "metadata": {},
     "output_type": "display_data"
    }
   ],
   "source": [
    "%%javascript\n",
    "\n",
    "var pattern = /[abc]/    // match against a set of characters\n",
    "alert(pattern.test('a')) // true\n",
    "alert(pattern.test('c')) // true\n",
    "alert(pattern.test('d')) // false\n"
   ]
  },
  {
   "cell_type": "code",
   "execution_count": 8,
   "metadata": {},
   "outputs": [
    {
     "data": {
      "application/javascript": [
       "\n",
       "var pattern = /[^abc]/   // the caret signals to match anything but the pattern\n",
       "alert(pattern.test('a')) // false\n",
       "alert(pattern.test('c')) // false\n",
       "alert(pattern.test('d')) // true"
      ],
      "text/plain": [
       "<IPython.core.display.Javascript object>"
      ]
     },
     "metadata": {},
     "output_type": "display_data"
    }
   ],
   "source": [
    "%%javascript\n",
    "\n",
    "var pattern = /[^abc]/   // the caret signals to match anything but the pattern\n",
    "alert(pattern.test('a')) // false\n",
    "alert(pattern.test('c')) // false\n",
    "alert(pattern.test('d')) // true\n"
   ]
  },
  {
   "cell_type": "code",
   "execution_count": 9,
   "metadata": {},
   "outputs": [
    {
     "data": {
      "application/javascript": [
       "\n",
       "var pattern = /[0-5]/\n",
       "console.log(pattern.test(3))      // true\n",
       "console.log(pattern.test(12345))  // true\n",
       "console.log(pattern.test(9))      // false\n",
       "console.log(pattern.test(6789))   //false\n",
       "console.log(/[0123456789]/.test(\"This is year 2015\")) //true"
      ],
      "text/plain": [
       "<IPython.core.display.Javascript object>"
      ]
     },
     "metadata": {},
     "output_type": "display_data"
    }
   ],
   "source": [
    "%%javascript\n",
    "\n",
    "var pattern = /[0-5]/\n",
    "console.log(pattern.test(3))      // true\n",
    "console.log(pattern.test(12345))  // true\n",
    "console.log(pattern.test(9))      // false\n",
    "console.log(pattern.test(6789))   //false\n",
    "console.log(/[0123456789]/.test(\"This is year 2015\")) //true\n"
   ]
  },
  {
   "cell_type": "code",
   "execution_count": 13,
   "metadata": {},
   "outputs": [
    {
     "data": {
      "application/javascript": [
       "var strToMatch = 'A Toyota! Race fast, safe car! A Toyota!'\n",
       "var regExAt = /Toy/g;\n",
       "var arrMatches = regExAt.exec(strToMatch)\n",
       "alert(arrMatches)"
      ],
      "text/plain": [
       "<IPython.core.display.Javascript object>"
      ]
     },
     "metadata": {},
     "output_type": "display_data"
    }
   ],
   "source": [
    "%%javascript\n",
    "var strToMatch = 'A Toyota! Race fast, safe car! A Toyota!'\n",
    "var regExAt = /Toy/g\n",
    "var arrMatches = regExAt.exec(strToMatch)\n",
    "alert(arrMatches)\n"
   ]
  },
  {
   "cell_type": "code",
   "execution_count": null,
   "metadata": {
    "collapsed": true
   },
   "outputs": [],
   "source": []
  }
 ],
 "metadata": {
  "kernelspec": {
   "display_name": "Python 2",
   "language": "python",
   "name": "python2"
  },
  "language_info": {
   "codemirror_mode": {
    "name": "ipython",
    "version": 2
   },
   "file_extension": ".py",
   "mimetype": "text/x-python",
   "name": "python",
   "nbconvert_exporter": "python",
   "pygments_lexer": "ipython2",
   "version": "2.7.14"
  }
 },
 "nbformat": 4,
 "nbformat_minor": 2
}
