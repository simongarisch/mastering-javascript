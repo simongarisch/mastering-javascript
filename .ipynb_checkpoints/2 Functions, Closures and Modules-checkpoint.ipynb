{
 "cells": [
  {
   "cell_type": "markdown",
   "metadata": {},
   "source": [
    "## Functions, Closures and Modules\n",
    "In JavaScript, there is a strong interconnection between objects, functions, and closures. Understanding the strong relationship between these three concepts can vastly improve our JavaScript programming ability, giving us a strong foundation for any type of application development. The most important fact about functions is that in JavaScript, functions are first-class objects. They are treated like any other JavaScript object. Just like other JavaScript data types, they can be referenced by variables, declared with literals, and even passed as function parameters."
   ]
  },
  {
   "cell_type": "code",
   "execution_count": 1,
   "metadata": {},
   "outputs": [
    {
     "name": "stdout",
     "output_type": "stream",
     "text": [
      "3\n"
     ]
    }
   ],
   "source": [
    "function add(a, b){\n",
    "  return a + b\n",
    "}\n",
    "\n",
    "c = add(1, 2)\n",
    "console.log(c)"
   ]
  },
  {
   "cell_type": "code",
   "execution_count": 3,
   "metadata": {},
   "outputs": [
    {
     "name": "stdout",
     "output_type": "stream",
     "text": [
      "SMALLCASE\n"
     ]
    }
   ],
   "source": [
    "function changeCase(val) {\n",
    "  return val.toUpperCase()\n",
    "}\n",
    "\n",
    "function demofunc(a, passfunction) { // functions as paramaters\n",
    "  console.log(passfunction(a))\n",
    "}\n",
    "\n",
    "demofunc(\"smallcase\", changeCase)"
   ]
  },
  {
   "cell_type": "code",
   "execution_count": 8,
   "metadata": {},
   "outputs": [
    {
     "name": "stdout",
     "output_type": "stream",
     "text": [
      "1\n",
      "2\n",
      "3\n",
      "4\n",
      "6\n",
      "7\n",
      "8\n",
      "9\n"
     ]
    }
   ],
   "source": [
    "var looper = function(x){ // doesn't have to return a value\n",
    "  if (x%5===0) {\n",
    "    return\n",
    "  }\n",
    "  console.log(x)\n",
    "}\n",
    "\n",
    "for(var i=1; i<10; i++){\n",
    "  looper(i)\n",
    "}"
   ]
  },
  {
   "cell_type": "markdown",
   "metadata": {},
   "source": [
    "## Functions as data"
   ]
  },
  {
   "cell_type": "code",
   "execution_count": 9,
   "metadata": {},
   "outputs": [
    {
     "name": "stdout",
     "output_type": "stream",
     "text": [
      "I can also say things\n"
     ]
    }
   ],
   "source": [
    "var say = console.log\n",
    "say(\"I can also say things\")"
   ]
  },
  {
   "cell_type": "code",
   "execution_count": 10,
   "metadata": {},
   "outputs": [
    {
     "name": "stdout",
     "output_type": "stream",
     "text": [
      "myMsg!\n"
     ]
    }
   ],
   "source": [
    "var print = console.log\n",
    "print(\"myMsg!\")"
   ]
  },
  {
   "cell_type": "code",
   "execution_count": 13,
   "metadata": {},
   "outputs": [
    {
     "name": "stdout",
     "output_type": "stream",
     "text": [
      "{ name: 'Albert Einstein', age: 65 } 'object'\n"
     ]
    }
   ],
   "source": [
    "var generateDataForScientist = function() {\n",
    "  return {\n",
    "    name: \"Albert Einstein\",\n",
    "    age : Math.floor(Math.random() * (100 - 1)) + 1,\n",
    "  }\n",
    "}\n",
    "\n",
    "result = generateDataForScientist()\n",
    "console.log(result, typeof result)"
   ]
  },
  {
   "cell_type": "code",
   "execution_count": 15,
   "metadata": {},
   "outputs": [
    {
     "name": "stdout",
     "output_type": "stream",
     "text": [
      "{ name: 'Albert Einstein', age: 25 }\n"
     ]
    },
    {
     "data": {
      "text/plain": [
       "false"
      ]
     },
     "execution_count": 15,
     "metadata": {},
     "output_type": "execute_result"
    }
   ],
   "source": [
    "var validateDataForAge = function(data) {\n",
    "  person = data()\n",
    "  console.log(person)\n",
    "  if (person.age < 1 || person.age > 99){\n",
    "    return true\n",
    "  }else{\n",
    "    return false\n",
    "  }\n",
    "}\n",
    "\n",
    "validateDataForAge(generateDataForScientist) // pass in the function name to be evaluated"
   ]
  },
  {
   "cell_type": "code",
   "execution_count": 16,
   "metadata": {},
   "outputs": [
    {
     "name": "stdout",
     "output_type": "stream",
     "text": [
      "Error while processing age\n"
     ]
    }
   ],
   "source": [
    "var errorHandlerForAge = function(error) {\n",
    "  console.log(\"Error while processing age\")\n",
    "}\n",
    "errorHandlerForAge()"
   ]
  },
  {
   "cell_type": "code",
   "execution_count": 17,
   "metadata": {},
   "outputs": [
    {
     "name": "stdout",
     "output_type": "stream",
     "text": [
      "{ name: 'Albert Einstein', age: 32 }\n",
      "no errors\n"
     ]
    }
   ],
   "source": [
    "function parseRequest(data, validateData, errorHandler) {\n",
    "  /*\n",
    "  data: the data generating function. data() returns { name: 'Albert Einstein', age: 25 }\n",
    "  validateData: the validator for data() which returns false\n",
    "  errorHandler: function to call if we hit an error in validateData\n",
    "  */\n",
    "  var error = validateData(data);\n",
    "    if (!error) {\n",
    "      console.log(\"no errors\");\n",
    "    } else {\n",
    "      errorHandler();\n",
    "    }\n",
    "}\n",
    "\n",
    "parseRequest(generateDataForScientist, validateDataForAge, errorHandlerForAge)"
   ]
  },
  {
   "cell_type": "code",
   "execution_count": 21,
   "metadata": {},
   "outputs": [
    {
     "name": "stdout",
     "output_type": "stream",
     "text": [
      "{ name: 'J S Bach', age: 59 }\n",
      "no errors\n"
     ]
    }
   ],
   "source": [
    "var generateDataForComposer = function() {\n",
    "  return {\n",
    "    name: \"J S Bach\",\n",
    "    age : Math.floor(Math.random() * (100 - 1)) + 1,\n",
    "  }\n",
    "}\n",
    "\n",
    "parseRequest(generateDataForComposer, validateDataForAge, errorHandlerForAge)"
   ]
  },
  {
   "cell_type": "markdown",
   "metadata": {},
   "source": [
    "## Scoping\n",
    "Scopes can be globally or locally defined."
   ]
  },
  {
   "cell_type": "code",
   "execution_count": 22,
   "metadata": {},
   "outputs": [
    {
     "name": "stdout",
     "output_type": "stream",
     "text": [
      "1\n"
     ]
    }
   ],
   "source": [
    "// Here we are declaring a variable outside the function and in the global scope.\n",
    "//Global Scope\n",
    "var a = 1;\n",
    "function scopeTest() {\n",
    "  console.log(a)\n",
    "}\n",
    "scopeTest()"
   ]
  },
  {
   "cell_type": "code",
   "execution_count": 23,
   "metadata": {},
   "outputs": [
    {
     "name": "stdout",
     "output_type": "stream",
     "text": [
      "1\n",
      "2\n",
      "2\n"
     ]
    }
   ],
   "source": [
    "//Global Scope\n",
    "var a = 1\n",
    "function scopeTest() {\n",
    "  a = 2 //Overwrites global variable 2, you omit 'var'\n",
    "  console.log(a)\n",
    "}\n",
    "console.log(a)  // prints 1\n",
    "scopeTest()     // prints 2\n",
    "console.log(a); // prints 2 (global value is overwritten)"
   ]
  },
  {
   "cell_type": "code",
   "execution_count": 25,
   "metadata": {},
   "outputs": [
    {
     "name": "stdout",
     "output_type": "stream",
     "text": [
      "1\n",
      "2\n",
      "1\n"
     ]
    }
   ],
   "source": [
    "// this time we'll use var to declare a local variable within the function scope\n",
    "var a = 1\n",
    "function scopeTest() {\n",
    "  var a = 2 // new variable a with function scope (will not override global a)\n",
    "  console.log(a)\n",
    "}\n",
    "console.log(a)  // prints 1\n",
    "scopeTest()     // prints 2\n",
    "console.log(a); // prints 2 (global value is overwritten)"
   ]
  },
  {
   "cell_type": "markdown",
   "metadata": {},
   "source": [
    "## Local scope\n",
    "Unlike most programming languages, JavaScript does not have block-level scope (variables scoped to surrounding curly brackets); instead, JavaScript has function level scope. Variables declared within a function are local variables and are only\n",
    "accessible within that function or by functions inside that function."
   ]
  },
  {
   "cell_type": "code",
   "execution_count": 27,
   "metadata": {},
   "outputs": [
    {
     "name": "stdout",
     "output_type": "stream",
     "text": [
      "Global\n",
      "Local\n"
     ]
    }
   ],
   "source": [
    "var scope_name = \"Global\"\n",
    "function showScopeName () {\n",
    "  // local variable; only accessible in this function\n",
    "  var scope_name = \"Local\"\n",
    "  console.log (scope_name) // Local\n",
    "}\n",
    "console.log (scope_name)   // Global\n",
    "showScopeName()            // Local"
   ]
  },
  {
   "cell_type": "markdown",
   "metadata": {},
   "source": [
    "## Function-level scope versus block-level scope\n",
    "JavaScript uses scope chains to establish the scope for a given function. There is typically one global scope, and each function defined has its own nested scope. When resolving a variable, JavaScript starts at the innermost scope and searches outwards."
   ]
  },
  {
   "cell_type": "markdown",
   "metadata": {},
   "source": [
    "## Inline function expressions"
   ]
  },
  {
   "cell_type": "code",
   "execution_count": 28,
   "metadata": {},
   "outputs": [
    {
     "name": "stdout",
     "output_type": "stream",
     "text": [
      "Setting active tab\n"
     ]
    }
   ],
   "source": [
    "function setActiveTab(activeTabHandler, tab){\n",
    "  //set active tab\n",
    "  //call handler\n",
    "  activeTabHandler()\n",
    "}\n",
    "\n",
    "setActiveTab(function(){console.log(\"Setting active tab\")}, 1)"
   ]
  },
  {
   "cell_type": "markdown",
   "metadata": {},
   "source": [
    "## Block scopes\n",
    "As we discussed earlier, JavaScript does not have the concept of block scopes. Consider this example."
   ]
  },
  {
   "cell_type": "code",
   "execution_count": 30,
   "metadata": {},
   "outputs": [
    {
     "name": "stdout",
     "output_type": "stream",
     "text": [
      "42\n"
     ]
    }
   ],
   "source": [
    "var foo = true;\n",
    "if (foo) {\n",
    "  var bar = 42\n",
    "}\n",
    "\n",
    "console.log(bar)"
   ]
  },
  {
   "cell_type": "markdown",
   "metadata": {},
   "source": [
    "ECMAScript 6 (ES6) introduces the let keyword to introduce traditional block scope."
   ]
  },
  {
   "cell_type": "code",
   "execution_count": 32,
   "metadata": {},
   "outputs": [
    {
     "ename": "ReferenceError",
     "evalue": "baz is not defined",
     "output_type": "error",
     "traceback": [
      "evalmachine.<anonymous>:6",
      "console.log(baz) // ReferenceError",
      "            ^",
      "",
      "ReferenceError: baz is not defined",
      "    at evalmachine.<anonymous>:6:13",
      "    at ContextifyScript.Script.runInThisContext (vm.js:50:33)",
      "    at Object.runInThisContext (vm.js:139:38)",
      "    at run ([eval]:1002:15)",
      "    at onRunRequest ([eval]:829:18)",
      "    at onMessage ([eval]:789:13)",
      "    at emitTwo (events.js:126:13)",
      "    at process.emit (events.js:214:7)",
      "    at emit (internal/child_process.js:772:12)",
      "    at _combinedTickCallback (internal/process/next_tick.js:141:11)"
     ]
    }
   ],
   "source": [
    "var foo = true;\n",
    "if (foo) {\n",
    "  let baz = 42\n",
    "}\n",
    "\n",
    "console.log(baz) // ReferenceError"
   ]
  },
  {
   "cell_type": "markdown",
   "metadata": {},
   "source": [
    "The book notes (at the time of writing) ES6 is not supported by default in most popular browsers."
   ]
  },
  {
   "cell_type": "markdown",
   "metadata": {},
   "source": [
    "## Function declarations versus function expressions"
   ]
  },
  {
   "cell_type": "code",
   "execution_count": 34,
   "metadata": {},
   "outputs": [
    {
     "ename": "TypeError",
     "evalue": "functionOne is not a function",
     "output_type": "error",
     "traceback": [
      "evalmachine.<anonymous>:1",
      "functionOne() // TypeError: functionOne is not a function",
      "^",
      "",
      "TypeError: functionOne is not a function",
      "    at evalmachine.<anonymous>:1:1",
      "    at ContextifyScript.Script.runInThisContext (vm.js:50:33)",
      "    at Object.runInThisContext (vm.js:139:38)",
      "    at run ([eval]:1002:15)",
      "    at onRunRequest ([eval]:829:18)",
      "    at onMessage ([eval]:789:13)",
      "    at emitTwo (events.js:126:13)",
      "    at process.emit (events.js:214:7)",
      "    at emit (internal/child_process.js:772:12)",
      "    at _combinedTickCallback (internal/process/next_tick.js:141:11)"
     ]
    }
   ],
   "source": [
    "functionOne() // TypeError: functionOne is not a function\n",
    "\n",
    "var functionOne = function() {\n",
    "  console.log(\"functionOne\")\n",
    "}"
   ]
  },
  {
   "cell_type": "code",
   "execution_count": 36,
   "metadata": {},
   "outputs": [
    {
     "name": "stdout",
     "output_type": "stream",
     "text": [
      "functionTwo\n"
     ]
    }
   ],
   "source": [
    "functionTwo() // this works fine\n",
    "\n",
    "function functionTwo() {\n",
    "  console.log(\"functionTwo\");\n",
    "}"
   ]
  },
  {
   "cell_type": "markdown",
   "metadata": {},
   "source": [
    "A function declaration is processed when execution enters the context in which it appears before any step-by-step code is executed. The function that it creates is given a proper name (functionTwo() in the preceding example) and this name is put in the scope in which the declaration appears. As it's processed before any step-by-step code in the same context, calling functionTwo() before defining it works without an error."
   ]
  },
  {
   "cell_type": "markdown",
   "metadata": {},
   "source": [
    "However, functionOne() is an anonymous function expression, evaluated when it's reached in the step-by-step execution of the code (also called runtime execution); we have to declare it before we can invoke it."
   ]
  },
  {
   "cell_type": "markdown",
   "metadata": {},
   "source": [
    "Function declarations are allowed to appear only in the program or function body. They cannot appear in a block ({ ... }). Blocks can only contain statements and not function declarations. Due to this, almost all implementations of JavaScript have\n",
    "behavior different from this. It is always advisable to never use function declarations in a conditional block."
   ]
  },
  {
   "cell_type": "code",
   "execution_count": 41,
   "metadata": {},
   "outputs": [
    {
     "data": {
      "text/plain": [
       "'trueMoo'"
      ]
     },
     "execution_count": 41,
     "metadata": {},
     "output_type": "execute_result"
    }
   ],
   "source": [
    "// Never do this - different browsers will behave differently\n",
    "var x = true\n",
    "\n",
    "if (x) {\n",
    "  function sayMoo() {\n",
    "    return 'trueMoo'\n",
    "  }\n",
    "}\n",
    "\n",
    "else {\n",
    "  function sayMoo() {\n",
    "    return 'falseMoo'\n",
    "  }\n",
    "}\n",
    "\n",
    "sayMoo()"
   ]
  },
  {
   "cell_type": "markdown",
   "metadata": {},
   "source": [
    "However, it's perfectly safe and, in fact, smart to do the same with function expressions:"
   ]
  },
  {
   "cell_type": "code",
   "execution_count": 42,
   "metadata": {},
   "outputs": [
    {
     "data": {
      "text/plain": [
       "'trueMoo'"
      ]
     },
     "execution_count": 42,
     "metadata": {},
     "output_type": "execute_result"
    }
   ],
   "source": [
    "var sayMoo;\n",
    "\n",
    "if (x) {\n",
    "  sayMoo = function() {\n",
    "    return 'trueMoo';\n",
    "  }\n",
    "}\n",
    "else {\n",
    "  sayMoo = function() {\n",
    "    return 'falseMoo'\n",
    "  }\n",
    "}\n",
    "\n",
    "sayMoo()"
   ]
  },
  {
   "cell_type": "markdown",
   "metadata": {},
   "source": [
    "## The arguments parameter\n",
    "The arguments parameter is a collection of all the arguments passed to the function."
   ]
  },
  {
   "cell_type": "code",
   "execution_count": 10,
   "metadata": {},
   "outputs": [
    {
     "name": "stdout",
     "output_type": "stream",
     "text": [
      "{ '0': 1, '1': 2, '2': 3, '3': 'testing' }\n",
      "1\n",
      "testing\n",
      "object\n",
      "**************\n",
      "object\n",
      "[ 1, 2, 3, 'testing' ]\n"
     ]
    }
   ],
   "source": [
    "function sum(){\n",
    "  console.log(arguments)\n",
    "  console.log(arguments[\"0\"])\n",
    "  console.log(arguments[\"3\"])\n",
    "  console.log(typeof arguments) // it's an object\n",
    "  console.log(\"**************\")\n",
    "  \n",
    "  var args = Array.prototype.slice.call(arguments)\n",
    "  console.log(typeof args)\n",
    "  console.log(args)\n",
    "}\n",
    "\n",
    "sum(1, 2, 3, \"testing\") // not a Javascript array, but an array like structure"
   ]
  },
  {
   "cell_type": "markdown",
   "metadata": {},
   "source": [
    "## The 'this' parameter\n",
    "Whenever a function is invoked, in addition to the parameters that represent the explicit arguments that were provided on the function call, an implicit parameter named this is also passed to the function. It refers to an object that's implicitly associated with the function invocation, termed as a function context."
   ]
  },
  {
   "cell_type": "code",
   "execution_count": 12,
   "metadata": {},
   "outputs": [
    {
     "name": "stdout",
     "output_type": "stream",
     "text": [
      "{ DTRACE_NET_SERVER_CONNECTION: [Function],\n",
      "  DTRACE_NET_STREAM_END: [Function],\n",
      "  DTRACE_HTTP_SERVER_REQUEST: [Function],\n",
      "  DTRACE_HTTP_SERVER_RESPONSE: [Function],\n",
      "  DTRACE_HTTP_CLIENT_REQUEST: [Function],\n",
      "  DTRACE_HTTP_CLIENT_RESPONSE: [Function],\n",
      "  COUNTER_NET_SERVER_CONNECTION: [Function],\n",
      "  COUNTER_NET_SERVER_CONNECTION_CLOSE: [Function],\n",
      "  COUNTER_HTTP_SERVER_REQUEST: [Function],\n",
      "  COUNTER_HTTP_SERVER_RESPONSE: [Function],\n",
      "  COUNTER_HTTP_CLIENT_REQUEST: [Function],\n",
      "  COUNTER_HTTP_CLIENT_RESPONSE: [Function],\n",
      "  global: [Circular],\n",
      "  process: \n",
      "   process {\n",
      "     title: 'C:\\\\Windows\\\\System32\\\\cmd.exe - jupyter  notebook',\n",
      "     version: 'v8.9.1',\n",
      "     moduleLoadList: \n",
      "      [ 'Binding contextify',\n",
      "        'Binding natives',\n",
      "        'Binding config',\n",
      "        'NativeModule events',\n",
      "        'Binding async_wrap',\n",
      "        'Binding icu',\n",
      "        'NativeModule util',\n",
      "        'NativeModule internal/errors',\n",
      "        'NativeModule internal/encoding',\n",
      "        'NativeModule internal/util',\n",
      "        'Binding util',\n",
      "        'Binding constants',\n",
      "        'NativeModule internal/util/types',\n",
      "        'Binding buffer',\n",
      "        'NativeModule buffer',\n",
      "        'NativeModule internal/buffer',\n",
      "        'Binding uv',\n",
      "        'NativeModule internal/process',\n",
      "        'NativeModule internal/process/warning',\n",
      "        'NativeModule internal/process/next_tick',\n",
      "        'NativeModule async_hooks',\n",
      "        'NativeModule internal/process/promises',\n",
      "        'NativeModule internal/process/stdio',\n",
      "        'Binding performance',\n",
      "        'NativeModule perf_hooks',\n",
      "        'NativeModule internal/linkedlist',\n",
      "        'NativeModule internal/inspector_async_hook',\n",
      "        'Binding inspector',\n",
      "        'NativeModule child_process',\n",
      "        'Binding spawn_sync',\n",
      "        'Binding pipe_wrap',\n",
      "        'NativeModule internal/child_process',\n",
      "        'NativeModule string_decoder',\n",
      "        'NativeModule net',\n",
      "        'NativeModule stream',\n",
      "        'NativeModule internal/streams/legacy',\n",
      "        'NativeModule _stream_readable',\n",
      "        'NativeModule internal/streams/BufferList',\n",
      "        'NativeModule internal/streams/destroy',\n",
      "        'NativeModule _stream_writable',\n",
      "        'NativeModule _stream_duplex',\n",
      "        'NativeModule _stream_transform',\n",
      "        'NativeModule _stream_passthrough',\n",
      "        'NativeModule timers',\n",
      "        'Binding timer_wrap',\n",
      "        'NativeModule assert',\n",
      "        'NativeModule internal/net',\n",
      "        'Binding cares_wrap',\n",
      "        'Binding tty_wrap',\n",
      "        'Binding tcp_wrap',\n",
      "        'Binding stream_wrap',\n",
      "        'NativeModule dns',\n",
      "        'NativeModule dgram',\n",
      "        'Binding udp_wrap',\n",
      "        'Binding process_wrap',\n",
      "        'NativeModule internal/socket_list',\n",
      "        'NativeModule module',\n",
      "        'NativeModule internal/module',\n",
      "        'NativeModule internal/url',\n",
      "        'NativeModule internal/querystring',\n",
      "        'NativeModule querystring',\n",
      "        'Binding url',\n",
      "        'NativeModule vm',\n",
      "        'NativeModule fs',\n",
      "        'NativeModule path',\n",
      "        'Binding fs',\n",
      "        'Binding fs_event_wrap',\n",
      "        'NativeModule internal/fs',\n",
      "        'NativeModule internal/loader/Loader',\n",
      "        'NativeModule internal/loader/ModuleWrap',\n",
      "        'Internal Binding module_wrap',\n",
      "        'NativeModule internal/loader/ModuleMap',\n",
      "        'NativeModule internal/loader/ModuleJob',\n",
      "        'NativeModule internal/safe_globals',\n",
      "        'NativeModule internal/loader/ModuleRequest',\n",
      "        'NativeModule url',\n",
      "        'NativeModule internal/loader/search',\n",
      "        'NativeModule console' ],\n",
      "     versions: { http_parser: '2.7.0',\n",
      "  node: '8.9.1',\n",
      "  v8: '6.1.534.47',\n",
      "  uv: '1.15.0',\n",
      "  zlib: '1.2.11',\n",
      "  ares: '1.10.1-DEV',\n",
      "  modules: '57',\n",
      "  nghttp2: '1.25.0',\n",
      "  openssl: '1.0.2m',\n",
      "  icu: '59.1',\n",
      "  unicode: '9.0',\n",
      "  cldr: '31.0.1',\n",
      "  tz: '2017b' },\n",
      "     arch: 'x64',\n",
      "     platform: 'win32',\n",
      "     release: \n",
      "      { name: 'node',\n",
      "        lts: 'Carbon',\n",
      "        sourceUrl: 'https://nodejs.org/download/release/v8.9.1/node-v8.9.1.tar.gz',\n",
      "        headersUrl: 'https://nodejs.org/download/release/v8.9.1/node-v8.9.1-headers.tar.gz',\n",
      "        libUrl: 'https://nodejs.org/download/release/v8.9.1/win-x64/node.lib' },\n",
      "     argv: [ 'C:\\\\Program Files\\\\nodejs\\\\node.exe' ],\n",
      "     execArgv: \n",
      "      [ '--eval',\n",
      "        '(function() {\\n/*\\n * BSD 3-Clause License\\n *\\n * Copyright (c) 2015, Nicolas Riesco and others as credited in the AUTHORS file\\n * All rights reserved.\\n *\\n * Redistribution and use in source and binary forms, with or without\\n * modification, are permitted provided that the following conditions are met:\\n *\\n * 1. Redistributions of source code must retain the above copyright notice,\\n * this list of conditions and the following disclaimer.\\n *\\n * 2. Redistributions in binary form must reproduce the above copyright notice,\\n * this list of conditions and the following disclaimer in the documentation\\n * and/or other materials provided with the distribution.\\n *\\n * 3. Neither the name of the copyright holder nor the names of its contributors\\n * may be used to endorse or promote products derived from this software without\\n * specific prior written permission.\\n *\\n * THIS SOFTWARE IS PROVIDED BY THE COPYRIGHT HOLDERS AND CONTRIBUTORS \"AS IS\"\\n * AND ANY EXPRESS OR IMPLIED WARRANTIES, INCLUDING, BUT NOT LIMITED TO, THE\\n * IMPLIED WARRANTIES OF MERCHANTABILITY AND FITNESS FOR A PARTICULAR PURPOSE\\n * ARE DISCLAIMED. IN NO EVENT SHALL THE COPYRIGHT HOLDER OR CONTRIBUTORS BE\\n * LIABLE FOR ANY DIRECT, INDIRECT, INCIDENTAL, SPECIAL, EXEMPLARY, OR\\n * CONSEQUENTIAL DAMAGES (INCLUDING, BUT NOT LIMITED TO, PROCUREMENT OF\\n * SUBSTITUTE GOODS OR SERVICES; LOSS OF USE, DATA, OR PROFITS; OR BUSINESS\\n * INTERRUPTION) HOWEVER CAUSED AND ON ANY THEORY OF LIABILITY, WHETHER IN\\n * CONTRACT, STRICT LIABILITY, OR TORT (INCLUDING NEGLIGENCE OR OTHERWISE)\\n * ARISING IN ANY WAY OUT OF THE USE OF THIS SOFTWARE, EVEN IF ADVISED OF THE\\n * POSSIBILITY OF SUCH DAMAGE.\\n *\\n */\\n\\nvar console = require(\"console\");\\nvar stream = require(\"stream\");\\nvar util = require(\"util\");\\n\\nfunction Stdout(id, opt) {\\n    stream.Transform.call(this, opt);\\n\\n    this._id = id;\\n}\\n\\nStdout.prototype = Object.create(stream.Transform.prototype);\\n\\nStdout.prototype._transform = function(data, encoding, callback) {\\n    var response = {\\n        id: this._id,\\n        stdout: data.toString(),\\n    };\\n    log(\"STDOUT:\", response);\\n    process.send(response);\\n    this.push(data);\\n    callback();\\n};\\n\\nfunction Stderr(id, opt) {\\n    stream.Transform.call(this, opt);\\n\\n    this._id = id;\\n}\\n\\nStderr.prototype = Object.create(stream.Transform.prototype);\\n\\nStderr.prototype._transform = function(data, encoding, callback) {\\n    var response = {\\n        id: this._id,\\n        stderr: data.toString(),\\n    };\\n    log(\"STDERR:\", response);\\n    process.send(response);\\n    this.push(data);\\n    callback();\\n};\\n\\nfunction Context(requester, id) {\\n    this.requester = requester;\\n    this.id = id;\\n\\n    this.stdout = new Stdout(this.id);\\n    this.stderr = new Stderr(this.id);\\n    this.console = new console.Console(this.stdout, this.stderr);\\n\\n    this._capturedStdout = null;\\n    this._capturedStderr = null;\\n    this._capturedConsole = null;\\n\\n    this._async = false;\\n    this._done = false;\\n\\n    // `$$` provides an interface for users to access the execution context\\n    this.$$ = Object.create(null);\\n\\n    this.$$.async = (function async(value) {\\n        this._async = (arguments.length === 0) ? true : !!value;\\n        return this._async;\\n    }).bind(this);\\n\\n    this.$$.done = (function done(result) {\\n        this.send((arguments.length === 0) ? {\\n            end: true,\\n        } : {\\n            mime: toMime(result),\\n            end: true,\\n        });\\n    }).bind(this);\\n\\n    this.$$.sendResult = resolvePromise.call(this,\\n        function sendResult(result, keepAlive) {\\n            if (keepAlive) this.$$.async();\\n\\n            this.send({\\n                mime: toMime(result),\\n                end: !keepAlive,\\n            });\\n        }\\n    );\\n\\n    this.$$.sendError = resolvePromise.call(this,\\n        function sendError(error, keepAlive) {\\n            if (keepAlive) this.$$.async();\\n\\n            this.send({\\n                error: formatError(error),\\n                end: !keepAlive,\\n            });\\n        }\\n    );\\n\\n    this.$$.mime = resolvePromise.call(this,\\n        function sendMime(mimeBundle, keepAlive) {\\n            if (keepAlive) this.$$.async();\\n\\n            this.send({\\n                mime: mimeBundle,\\n                end: !keepAlive,\\n            });\\n        }\\n    );\\n\\n    this.$$.text = resolvePromise.call(this,\\n        function sendText(text, keepAlive) {\\n            if (keepAlive) this.$$.async();\\n\\n            this.send({\\n                mime: {\\n                    \"text/plain\": text,\\n                },\\n                end: !keepAlive,\\n            });\\n        }\\n    );\\n\\n    this.$$.html = resolvePromise.call(this,\\n        function sendHtml(html, keepAlive) {\\n            if (keepAlive) this.$$.async();\\n\\n            this.send({\\n                mime: {\\n                    \"text/html\": html,\\n                },\\n                end: !keepAlive,\\n            });\\n        }\\n    );\\n\\n    this.$$.svg = resolvePromise.call(this,\\n        function sendSvg(svg, keepAlive) {\\n            if (keepAlive) this.$$.async();\\n\\n            this.send({\\n                mime: {\\n                    \"image/svg+xml\": svg,\\n                },\\n                end: !keepAlive,\\n            });\\n        }\\n    );\\n\\n    this.$$.png = resolvePromise.call(this,\\n        function sendPng(png, keepAlive) {\\n            if (keepAlive) this.$$.async();\\n\\n            this.send({\\n                mime: {\\n                    \"image/png\": png,\\n                },\\n                end: !keepAlive,\\n            });\\n        }\\n    );\\n\\n    this.$$.jpeg = resolvePromise.call(this,\\n        function sendJpeg(jpeg, keepAlive) {\\n            if (keepAlive) this.$$.async();\\n\\n            this.send({\\n                mime: {\\n                    \"image/jpeg\": jpeg,\\n                },\\n                end: !keepAlive,\\n            });\\n        }\\n    );\\n\\n    this.$$.json = resolvePromise.call(this,\\n        function sendJson(json, keepAlive) {\\n            if (keepAlive) this.$$.async();\\n\\n            this.send({\\n                mime: {\\n                    \"application/json\": json,\\n                },\\n                end: !keepAlive,\\n            });\\n        }\\n    );\\n\\n    this.$$.input = (function input(options, callback) {\\n        this.$$.async();\\n\\n        var inputRequest = {\\n            input: options,\\n        };\\n\\n        var inputCallback;\\n        if (typeof callback === \\'function\\') {\\n            inputCallback = function inputCallback(error, reply) {\\n                callback(error, reply.input);\\n            };\\n        }\\n\\n        var promise = this.requester.send(this, inputRequest, inputCallback);\\n        if (promise) {\\n            return promise.then(function(reply) { return reply.input; });\\n        }\\n    }).bind(this);\\n\\n    this.$$.display = (function createDisplay(id) {\\n        return (arguments.length === 0) ?\\n            new Display(this.id) :\\n            new Display(this.id, id);\\n    }).bind(this);\\n\\n    function isPromise(output) {\\n        if (!global.Promise || typeof global.Promise !== \"function\") {\\n            return false;\\n        }\\n        return output instanceof global.Promise;\\n    }\\n\\n    function resolvePromise(outputHandler) {\\n        return function(output, keepAlive) {\\n            if (isPromise(output)) {\\n                this.$$.async();\\n\\n                output.then(function(resolvedOutput) {\\n                    outputHandler.call(this, resolvedOutput, keepAlive);\\n                }.bind(this)).catch(function(error) {\\n                    this.send({\\n                        error: formatError(error),\\n                        end: true,\\n                    });\\n                }.bind(this));\\n\\n                return;\\n            }\\n\\n            outputHandler.apply(this, arguments);\\n        }.bind(this);\\n    }\\n}\\n\\nContext.prototype.send = function send(message) {\\n    message.id = this.id;\\n\\n    if (this._done) {\\n        log(\"SEND: DROPPED:\", message);\\n        return;\\n    }\\n\\n    if(message.end) {\\n        this._done = true;\\n        this._async = false;\\n    }\\n\\n    log(\"SEND:\", message);\\n\\n    process.send(message);\\n};\\n\\nContext.prototype.captureGlobalContext = function captureGlobalContext() {\\n    this._capturedStdout = process.stdout;\\n    this._capturedStderr = process.stderr;\\n    this._capturedConsole = console;\\n\\n    this.stdout.pipe(this._capturedStdout);\\n    this.stderr.pipe(this._capturedStderr);\\n    this.console.Console = this._capturedConsole.Console;\\n\\n    delete process.stdout;\\n    process.stdout = this.stdout;\\n\\n    delete process.stderr;\\n    process.stderr = this.stderr;\\n\\n    delete global.console;\\n    global.console = this.console;\\n\\n    delete global.$$;\\n    global.$$ = this.$$;\\n\\n    if (typeof global.$$mimer$$ !== \"function\") {\\n        global.$$mimer$$ = defaultMimer;\\n    }\\n\\n    delete global.$$mime$$;\\n    Object.defineProperty(global, \"$$mime$$\", {\\n        set: this.$$.mime,\\n        configurable: true,\\n        enumerable: false,\\n    });\\n\\n    delete global.$$html$$;\\n    Object.defineProperty(global, \"$$html$$\", {\\n        set: this.$$.html,\\n        configurable: true,\\n        enumerable: false,\\n    });\\n\\n    delete global.$$svg$$;\\n    Object.defineProperty(global, \"$$svg$$\", {\\n        set: this.$$.svg,\\n        configurable: true,\\n        enumerable: false,\\n    });\\n\\n    delete global.$$png$$;\\n    Object.defineProperty(global, \"$$png$$\", {\\n        set: this.$$.png,\\n        configurable: true,\\n        enumerable: false,\\n    });\\n\\n    delete global.$$jpeg$$;\\n    Object.defineProperty(global, \"$$jpeg$$\", {\\n        set: this.$$.jpeg,\\n        configurable: true,\\n        enumerable: false,\\n    });\\n\\n    delete global.$$async$$;\\n    Object.defineProperty(global, \"$$async$$\", {\\n        get: (function() {\\n            return this._async;\\n        }).bind(this),\\n        set: (function(value) {\\n            this._async = !!value;\\n        }).bind(this),\\n        configurable: true,\\n        enumerable: false,\\n    });\\n\\n    global.$$done$$ = this.$$.done.bind(this);\\n\\n    if (!global.hasOwnProperty(\"$$defaultMimer$$\")) {\\n        Object.defineProperty(global, \"$$defaultMimer$$\", {\\n            value: defaultMimer,\\n            configurable: false,\\n            writable: false,\\n            enumerable: false,\\n        });\\n    }\\n};\\n\\nContext.prototype.releaseGlobalContext = function releaseGlobalContext() {\\n    if (process.stdout === this.stdout) {\\n        this.stdout.unpipe();\\n\\n        delete process.stdout;\\n        process.stdout = this._capturedStdout;\\n\\n        this._capturedStdout = null;\\n    }\\n\\n    if (process.stderr === this.stderr) {\\n        this.stderr.unpipe();\\n\\n        delete process.stderr;\\n        process.stderr = this._capturedStderr;\\n\\n        this._capturedStderr = null;\\n    }\\n\\n    if (global.console === this.console) {\\n        delete global.console;\\n        global.console = this._capturedConsole;\\n\\n        this._capturedConsole = null;\\n    }\\n};\\n\\nfunction formatError(error) {\\n    return {\\n        ename: (error && error.name) ?\\n            error.name : typeof error,\\n        evalue: (error && error.message) ?\\n            error.message : util.inspect(error),\\n        traceback: (error && error.stack) ?\\n            error.stack.split(\"\\\\n\") : \"\",\\n    };\\n}\\n\\nfunction toMime(result) {\\n    var mimer = (typeof global.$$mimer$$ === \"function\") ?\\n        global.$$mimer$$ :\\n        defaultMimer;\\n    return mimer(result);\\n}\\n\\nfunction defaultMimer(result) {\\n    if (typeof result === \"undefined\") {\\n        return {\\n            \"text/plain\": \"undefined\"\\n        };\\n    }\\n\\n    if (result === null) {\\n        return {\\n            \"text/plain\": \"null\"\\n        };\\n    }\\n\\n    var mime;\\n    if (result._toMime) {\\n        try {\\n            mime = result._toMime();\\n        } catch (error) {}\\n    }\\n    if (typeof mime !== \"object\") {\\n        mime = {};\\n    }\\n\\n    if (!(\"text/plain\" in mime)) {\\n        try {\\n            mime[\"text/plain\"] = util.inspect(result);\\n        } catch (error) {}\\n    }\\n\\n    if (result._toHtml && !(\"text/html\" in mime)) {\\n        try {\\n            mime[\"text/html\"] = result._toHtml();\\n        } catch (error) {}\\n    }\\n\\n    if (result._toSvg && !(\"image/svg+xml\" in mime)) {\\n        try {\\n            mime[\"image/svg+xml\"] = result._toSvg();\\n        } catch (error) {}\\n    }\\n\\n    if (result._toPng && !(\"image/png\" in mime)) {\\n        try {\\n            mime[\"image/png\"] = result._toPng();\\n        } catch (error) {}\\n    }\\n\\n    if (result._toJpeg && !(\"image/jpeg\" in mime)) {\\n        try {\\n            mime[\"image/jpeg\"] = result._toJpeg();\\n        } catch (error) {}\\n    }\\n\\n    return mime;\\n}\\n\\n/*\\n * BSD 3-Clause License\\n *\\n * Copyright (c) 2017, Nicolas Riesco and others as credited in the AUTHORS file\\n * All rights reserved.\\n *\\n * Redistribution and use in source and binary forms, with or without\\n * modification, are permitted provided that the following conditions are met:\\n *\\n * 1. Redistributions of source code must retain the above copyright notice,\\n * this list of conditions and the following disclaimer.\\n *\\n * 2. Redistributions in binary form must reproduce the above copyright notice,\\n * this list of conditions and the following disclaimer in the documentation\\n * and/or other materials provided with the distribution.\\n *\\n * 3. Neither the name of the copyright holder nor the names of its contributors\\n * may be used to endorse or promote products derived from this software without\\n * specific prior written permission.\\n *\\n * THIS SOFTWARE IS PROVIDED BY THE COPYRIGHT HOLDERS AND CONTRIBUTORS \"AS IS\"\\n * AND ANY EXPRESS OR IMPLIED WARRANTIES, INCLUDING, BUT NOT LIMITED TO, THE\\n * IMPLIED WARRANTIES OF MERCHANTABILITY AND FITNESS FOR A PARTICULAR PURPOSE\\n * ARE DISCLAIMED. IN NO EVENT SHALL THE COPYRIGHT HOLDER OR CONTRIBUTORS BE\\n * LIABLE FOR ANY DIRECT, INDIRECT, INCIDENTAL, SPECIAL, EXEMPLARY, OR\\n * CONSEQUENTIAL DAMAGES (INCLUDING, BUT NOT LIMITED TO, PROCUREMENT OF\\n * SUBSTITUTE GOODS OR SERVICES; LOSS OF USE, DATA, OR PROFITS; OR BUSINESS\\n * INTERRUPTION) HOWEVER CAUSED AND ON ANY THEORY OF LIABILITY, WHETHER IN\\n * CONTRACT, STRICT LIABILITY, OR TORT (INCLUDING NEGLIGENCE OR OTHERWISE)\\n * ARISING IN ANY WAY OUT OF THE USE OF THIS SOFTWARE, EVEN IF ADVISED OF THE\\n * POSSIBILITY OF SUCH DAMAGE.\\n *\\n */\\n\\nfunction Display(context_id, display_id) {\\n    var send;\\n\\n    this.mime = function mime(mimeBundle) {\\n        send(mimeBundle);\\n    };\\n\\n    this.text = function text(text) {\\n        send({\"text/plain\": text});\\n    };\\n\\n    this.html = function html(html) {\\n        send({\"text/html\": html});\\n    };\\n\\n    this.svg = function svg(svg) {\\n        send({\"image/svg+xml\": svg});\\n    };\\n\\n    this.png = function png(png) {\\n        send({\"image/png\": png});\\n    };\\n\\n    this.jpeg = function jpeg(jpeg) {\\n        send({\"image/jpeg\": jpeg});\\n    };\\n\\n    this.json = function json(json) {\\n        send({\"application/json\": json});\\n    };\\n\\n    this.close = function close() {\\n        process.send({\\n            id: context_id,\\n            display: {\\n                close: display_id,\\n            },\\n        });\\n    };\\n\\n    if (arguments.length < 2) {\\n        // case: without a display_id\\n        send = function send(mime) {\\n            process.send({\\n                id: context_id,\\n                display: {\\n                    mime: mime,\\n                },\\n            });\\n        };\\n    } else {\\n        // case: with a display_id\\n        send = function send(mime) {\\n            process.send({\\n                id: context_id,\\n                display: {\\n                    display_id: display_id,\\n                    mime: mime,\\n                },\\n            });\\n        };\\n\\n        // open the display_id\\n        process.send({\\n            id: context_id,\\n            display: {\\n                open: display_id,\\n            },\\n        });\\n    }\\n}\\n\\n/*\\n * BSD 3-Clause License\\n *\\n * Copyright (c) 2017, Nicolas Riesco and others as credited in the AUTHORS file\\n * All rights reserved.\\n *\\n * Redistribution and use in source and binary forms, with or without\\n * modification, are permitted provided that the following conditions are met:\\n *\\n * 1. Redistributions of source code must retain the above copyright notice,\\n * this list of conditions and the following disclaimer.\\n *\\n * 2. Redistributions in binary form must reproduce the above copyright notice,\\n * this list of conditions and the following disclaimer in the documentation\\n * and/or other materials provided with the distribution.\\n *\\n * 3. Neither the name of the copyright holder nor the names of its contributors\\n * may be used to endorse or promote products derived from this software without\\n * specific prior written permission.\\n *\\n * THIS SOFTWARE IS PROVIDED BY THE COPYRIGHT HOLDERS AND CONTRIBUTORS \"AS IS\"\\n * AND ANY EXPRESS OR IMPLIED WARRANTIES, INCLUDING, BUT NOT LIMITED TO, THE\\n * IMPLIED WARRANTIES OF MERCHANTABILITY AND FITNESS FOR A PARTICULAR PURPOSE\\n * ARE DISCLAIMED. IN NO EVENT SHALL THE COPYRIGHT HOLDER OR CONTRIBUTORS BE\\n * LIABLE FOR ANY DIRECT, INDIRECT, INCIDENTAL, SPECIAL, EXEMPLARY, OR\\n * CONSEQUENTIAL DAMAGES (INCLUDING, BUT NOT LIMITED TO, PROCUREMENT OF\\n * SUBSTITUTE GOODS OR SERVICES; LOSS OF USE, DATA, OR PROFITS; OR BUSINESS\\n * INTERRUPTION) HOWEVER CAUSED AND ON ANY THEORY OF LIABILITY, WHETHER IN\\n * CONTRACT, STRICT LIABILITY, OR TORT (INCLUDING NEGLIGENCE OR OTHERWISE)\\n * ARISING IN ANY WAY OUT OF THE USE OF THIS SOFTWARE, EVEN IF ADVISED OF THE\\n * POSSIBILITY OF SUCH DAMAGE.\\n *\\n */\\n\\nfunction Requester() {\\n    // id for next request\\n    this.id = 0;\\n\\n    // callback associated with a request (indexed by id)\\n    this.callbacks = {};\\n\\n    // the Promise resolve callback associated with a request (indexed by id)\\n    this.resolves = {};\\n\\n    // the Promise reject callback associated with a request (indexed by id)\\n    this.rejects = {};\\n\\n    // the string to be returned to a request (indexed by id)\\n    this.responses = {};\\n}\\n\\n// send a request\\nRequester.prototype.send = function send(context, request, callback) {\\n    var id = this.id++;\\n\\n    if (callback) {\\n        this.callbacks[id] = callback;\\n    }\\n\\n    var promise;\\n    if (global.Promise) {\\n        promise = new Promise(function(resolve, reject) {\\n            if (!this.responses.hasOwnProperty(id)) {\\n                this.resolves[id] = resolve;\\n                this.rejects[id] = reject;\\n                return;\\n            }\\n\\n            var response = this.responses[id];\\n            delete this.responses[id];\\n            resolve(response);\\n        }.bind(this));\\n    }\\n\\n    request.id = id;\\n\\n    context.send({\\n        request: request,\\n    });\\n\\n    return promise;\\n};\\n\\n// pass reply to the callbacks associated with a request\\nRequester.prototype.receive = function receive(id, reply) {\\n    var callback = this.callbacks[id];\\n    if (callback) {\\n        delete this.callbacks[id];\\n        callback(null, reply);\\n    }\\n    \\n    var resolve = this.resolves[id];\\n    if (resolve) {\\n        delete this.resolves[id];\\n        delete this.rejects[id];\\n        resolve(reply);\\n    }\\n};\\n\\n/*\\n * BSD 3-Clause License\\n *\\n * Copyright (c) 2015, Nicolas Riesco and others as credited in the AUTHORS file\\n * All rights reserved.\\n *\\n * Redistribution and use in source and binary forms, with or without\\n * modification, are permitted provided that the following conditions are met:\\n *\\n * 1. Redistributions of source code must retain the above copyright notice,\\n * this list of conditions and the following disclaimer.\\n *\\n * 2. Redistributions in binary form must reproduce the above copyright notice,\\n * this list of conditions and the following disclaimer in the documentation\\n * and/or other materials provided with the distribution.\\n *\\n * 3. Neither the name of the copyright holder nor the names of its contributors\\n * may be used to endorse or promote products derived from this software without\\n * specific prior written permission.\\n *\\n * THIS SOFTWARE IS PROVIDED BY THE COPYRIGHT HOLDERS AND CONTRIBUTORS \"AS IS\"\\n * AND ANY EXPRESS OR IMPLIED WARRANTIES, INCLUDING, BUT NOT LIMITED TO, THE\\n * IMPLIED WARRANTIES OF MERCHANTABILITY AND FITNESS FOR A PARTICULAR PURPOSE\\n * ARE DISCLAIMED. IN NO EVENT SHALL THE COPYRIGHT HOLDER OR CONTRIBUTORS BE\\n * LIABLE FOR ANY DIRECT, INDIRECT, INCIDENTAL, SPECIAL, EXEMPLARY, OR\\n * CONSEQUENTIAL DAMAGES (INCLUDING, BUT NOT LIMITED TO, PROCUREMENT OF\\n * SUBSTITUTE GOODS OR SERVICES; LOSS OF USE, DATA, OR PROFITS; OR BUSINESS\\n * INTERRUPTION) HOWEVER CAUSED AND ON ANY THEORY OF LIABILITY, WHETHER IN\\n * CONTRACT, STRICT LIABILITY, OR TORT (INCLUDING NEGLIGENCE OR OTHERWISE)\\n * ARISING IN ANY WAY OUT OF THE USE OF THIS SOFTWARE, EVEN IF ADVISED OF THE\\n * POSSIBILITY OF SUCH DAMAGE.\\n *\\n */\\n\\nvar vm = require(\"vm\");\\n\\n// Shared variables\\nvar DEBUG = !!process.env.DEBUG;\\nvar log;\\nvar requester;\\nvar initialContext;\\n\\n// Init IPC server\\ninit();\\n\\nreturn;\\n\\nfunction init() {\\n    // Setup logger\\n    log = DEBUG ?\\n        function log() {\\n            process.send({\\n                log: \"SERVER: \" + util.format.apply(this, arguments),\\n            });\\n        } :\\n        function noop() {};\\n\\n    // Create instance to send requests\\n    requester = new Requester();\\n\\n    // Capture the initial context\\n    // (id left undefined to indicate this is the initial context)\\n    initialContext = new Context(requester);\\n    initialContext.captureGlobalContext();\\n\\n    Object.defineProperty(global, \"$$defaultMimer$$\", {\\n        value: defaultMimer,\\n        configurable: false,\\n        writable: false,\\n        enumerable: false,\\n    });\\n\\n    process.on(\"message\", onMessage.bind(this));\\n\\n    process.on(\"uncaughtException\", onUncaughtException.bind(this));\\n\\n    process.send({\\n        status: \"online\",\\n    });\\n}\\n\\nfunction onUncaughtException(error) {\\n    log(\"UNCAUGHTEXCEPTION:\", error.stack);\\n    process.send({\\n        stderr: error.stack.toString(),\\n    });\\n}\\n\\nfunction onMessage(message) {\\n    log(\"RECEIVED:\", message);\\n\\n    var action = message[0];\\n    var code = message[1];\\n    var id = message[2];\\n\\n    initialContext.releaseGlobalContext();\\n    var context = new Context(requester, id);\\n    context.captureGlobalContext();\\n\\n    try {\\n        if (action === \"getAllPropertyNames\") {\\n            onNameRequest(code, context);\\n        } else if (action === \"inspect\") {\\n            onInspectRequest(code, context);\\n        } else if (action === \"run\") {\\n            onRunRequest(code, context);\\n        } else if (action === \"reply\") {\\n            onReply(message);\\n        } else {\\n            throw new Error(\"NEL: Unhandled action: \" + action);\\n        }\\n    } catch (error) {\\n        context.$$.sendError(error);\\n    }\\n\\n    context.releaseGlobalContext();\\n    initialContext.captureGlobalContext();\\n    initialContext._done = false;\\n}\\n\\nfunction onReply(message) {\\n    var reply = message[1];\\n    var id = message[3];\\n    requester.receive(id, reply);\\n}\\n\\nfunction onNameRequest(code, context) {\\n    var message = {\\n        id: context.id,\\n        names: getAllPropertyNames(run(code)),\\n        end: true,\\n    };\\n    context.send(message);\\n}\\n\\nfunction onInspectRequest(code, context) {\\n    var message = {\\n        id: context.id,\\n        inspection: inspect(run(code)),\\n        end: true,\\n    };\\n    context.send(message);\\n}\\n\\nfunction onRunRequest(code, context) {\\n    var result = run(code);\\n\\n    // If a result has already been sent, do not send this result.\\n    if (context._done) {\\n        return;\\n    }\\n\\n    // If the result is a Promise, send the result fulfilled by the promise\\n    if (isPromise(result)) {\\n        context.$$.sendResult(result);\\n        return;\\n    }\\n\\n    // If async mode has been enabled (and the result is not a Promise),\\n    // do not send this result.\\n    if (context._async) {\\n        return;\\n    }\\n\\n    // If no result has been sent yet and async mode has not been enabled,\\n    // send this result.\\n    context.$$.sendResult(result);\\n\\n    return;\\n\\n    function isPromise(output) {\\n        if (!global.Promise || typeof global.Promise !== \"function\") {\\n            return false;\\n        }\\n        return output instanceof global.Promise;\\n    }\\n}\\n\\nfunction getAllPropertyNames(object) {\\n    var propertyList = [];\\n\\n    if (object === undefined) {\\n        return [];\\n    }\\n\\n    if (object === null) {\\n        return [];\\n    }\\n\\n    var prototype;\\n    if (typeof object === \"boolean\") {\\n        prototype = Boolean.prototype;\\n    } else if (typeof object === \"number\") {\\n        prototype = Number.prototype;\\n    } else if (typeof object === \"string\") {\\n        prototype = String.prototype;\\n    } else {\\n        prototype = object;\\n    }\\n\\n    var prototypeList = [prototype];\\n\\n    function pushToPropertyList(e) {\\n        if (propertyList.indexOf(e) === -1) {\\n            propertyList.push(e);\\n        }\\n    }\\n\\n    while (true) {\\n        var names;\\n        try {\\n            names = Object.getOwnPropertyNames(prototype).sort();\\n        } catch (e) {\\n            break;\\n        }\\n        names.forEach(pushToPropertyList);\\n\\n        prototype = Object.getPrototypeOf(prototype);\\n        if (prototype === null) {\\n            break;\\n        }\\n\\n        if (prototypeList.indexOf(prototype) === -1) {\\n            prototypeList.push(prototype);\\n        }\\n    }\\n\\n    return propertyList;\\n}\\n\\nfunction inspect(object) {\\n    if (object === undefined) {\\n        return {\\n            string: \"undefined\",\\n            type: \"Undefined\",\\n        };\\n    }\\n\\n    if (object === null) {\\n        return {\\n            string: \"null\",\\n            type: \"Null\",\\n        };\\n    }\\n\\n    if (typeof object === \"boolean\") {\\n        return {\\n            string: object ? \"true\" : \"false\",\\n            type: \"Boolean\",\\n            constructorList: [\"Boolean\", \"Object\"],\\n        };\\n    }\\n\\n    if (typeof object === \"number\") {\\n        return {\\n            string: util.inspect(object),\\n            type: \"Number\",\\n            constructorList: [\"Number\", \"Object\"],\\n        };\\n    }\\n\\n    if (typeof object === \"string\") {\\n        return {\\n            string: object,\\n            type: \"String\",\\n            constructorList: [\"String\", \"Object\"],\\n            length: object.length,\\n        };\\n    }\\n\\n    if (typeof object === \"function\") {\\n        return {\\n            string: object.toString(),\\n            type: \"Function\",\\n            constructorList: [\"Function\", \"Object\"],\\n            length: object.length,\\n        };\\n    }\\n\\n    var constructorList = getConstructorList(object);\\n    var result = {\\n        string: toString(object),\\n        type: constructorList[0] || \"\",\\n        constructorList: constructorList,\\n    };\\n\\n    if (\"length\" in object) {\\n        result.length = object.length;\\n    }\\n\\n    return result;\\n\\n    function toString(object) {\\n        try {\\n            return util.inspect(object.valueOf());\\n        } catch (e) {\\n            return util.inspect(object);\\n        }\\n    }\\n\\n    function getConstructorList(object) {\\n        var constructorList = [];\\n\\n        var prototype = Object.getPrototypeOf(object);\\n        while (true) {\\n            try {\\n                constructorList.push(prototype.constructor.name);\\n            } catch (e) {\\n                break;\\n            }\\n            prototype = Object.getPrototypeOf(prototype);\\n        }\\n\\n        return constructorList;\\n    }\\n}\\n\\nfunction run(code) {\\n    return vm.runInThisContext(code);\\n}\\n\\n})();' ],\n",
      "     env: \n",
      "      { ALLUSERSPROFILE: 'C:\\\\ProgramData',\n",
      "        ANACONDA_ENVS: 'C:\\\\Anaconda2\\\\envs',\n",
      "        APPDATA: 'C:\\\\Users\\\\simon.garisch\\\\AppData\\\\Roaming',\n",
      "        'ASL.LOG': 'Destination=file',\n",
      "        BLPAPI_ROOT: 'C:\\\\blp\\\\API\\\\API\\\\APIv3\\\\C++API\\\\v3.8.18.1',\n",
      "        COMMONPROGRAMFILES: 'C:\\\\Program Files\\\\Common Files',\n",
      "        'COMMONPROGRAMFILES(X86)': 'C:\\\\Program Files (x86)\\\\Common Files',\n",
      "        COMMONPROGRAMW6432: 'C:\\\\Program Files\\\\Common Files',\n",
      "        COMPUTERNAME: 'MAM-WS217',\n",
      "        COMSPEC: 'C:\\\\Windows\\\\system32\\\\cmd.exe',\n",
      "        CONDA_DEFAULT_ENV: 'r',\n",
      "        EZEINI: 'C:\\\\Program Files (x86)\\\\Eze Castle Software\\\\Client\\\\Bin',\n",
      "        FPPUILANG: 'en-US',\n",
      "        FP_NO_HOST_CHECK: 'NO',\n",
      "        FSHARPINSTALLDIR: 'C:\\\\Program Files (x86)\\\\Microsoft SDKs\\\\F#\\\\10.1\\\\Framework\\\\v4.0\\\\',\n",
      "        GNUPLOT_LIB: 'C:\\\\Program Files (x86)\\\\gnuplot\\\\demo;C:\\\\Program Files (x86)\\\\gnuplot\\\\demo\\\\games;C:\\\\Program Files (x86)\\\\gnuplot\\\\share',\n",
      "        GRAPHVIZ_DOT: 'C:\\\\Program Files (x86)\\\\Graphviz2.38\\\\bin\\\\dot',\n",
      "        GTK_BASEPATH: 'C:\\\\Program Files (x86)\\\\GtkSharp\\\\2.12\\\\',\n",
      "        HOMEDRIVE: 'U:',\n",
      "        HOMEPATH: '\\\\',\n",
      "        HOMESHARE: '\\\\\\\\mam-fs01\\\\Home\\\\simon.garisch',\n",
      "        IPY_INTERRUPT_EVENT: '1196',\n",
      "        JPY_INTERRUPT_EVENT: '1196',\n",
      "        JPY_PARENT_PID: '1244',\n",
      "        LOCALAPPDATA: 'C:\\\\Users\\\\simon.garisch\\\\AppData\\\\Local',\n",
      "        LOGONSERVER: '\\\\\\\\MAM-S150',\n",
      "        LUA_DEV: 'C:\\\\Program Files (x86)\\\\Lua\\\\5.1',\n",
      "        LUA_PATH: ';;C:\\\\Program Files (x86)\\\\Lua\\\\5.1\\\\lua\\\\?.luac',\n",
      "        NUMBER_OF_PROCESSORS: '8',\n",
      "        OCTAVE_EXECUTABLE: 'C:\\\\Octave\\\\Octave-4.0.0\\\\bin\\\\octave-cli-4.0.0.exe',\n",
      "        ONEDRIVE: 'C:\\\\Users\\\\simon.garisch\\\\OneDrive - MAGELLAN ASSET MANAGEMENT LIMITED',\n",
      "        ONLINESERVICES: 'Online Services',\n",
      "        OOBEUILANG: 'en-US',\n",
      "        OS: 'Windows_NT',\n",
      "        PATH: 'C:\\\\Anaconda2\\\\envs\\\\r\\\\Library\\\\bin;c:\\\\anaconda2\\\\envs\\\\r\\\\Library\\\\bin;C:\\\\Anaconda2\\\\envs\\\\r;C:\\\\Anaconda2\\\\envs\\\\r\\\\Scripts;C:\\\\blp\\\\API;C:\\\\blp\\\\API\\\\dde;c:\\\\Program Files (x86)\\\\Intel\\\\iCLS Client\\\\;c:\\\\Program Files\\\\Intel\\\\iCLS Client\\\\;C:\\\\Windows\\\\system32;C:\\\\Windows;C:\\\\Windows\\\\System32\\\\Wbem;C:\\\\Windows\\\\System32\\\\WindowsPowerShell\\\\v1.0\\\\;C:\\\\Program Files\\\\Intel\\\\Intel(R) Management Engine Components\\\\DAL;C:\\\\Program Files\\\\Intel\\\\Intel(R) Management Engine Components\\\\IPT;C:\\\\Program Files (x86)\\\\Intel\\\\Intel(R) Management Engine Components\\\\DAL;C:\\\\Program Files (x86)\\\\Intel\\\\Intel(R) Management Engine Components\\\\IPT;c:\\\\Program Files (x86)\\\\Hewlett-Packard\\\\HP Performance Advisor;C:\\\\Program Files\\\\Symantec.cloud\\\\PlatformAgent\\\\;C:\\\\Program Files (x86)\\\\AMD\\\\ATI.ACE\\\\Core-Static;C:\\\\Python27;C:\\\\Program Files\\\\Microsoft SQL Server\\\\Client SDK\\\\ODBC\\\\110\\\\Tools\\\\Binn\\\\;C:\\\\Program Files (x86)\\\\Microsoft SQL Server\\\\120\\\\Tools\\\\Binn\\\\;C:\\\\Program Files\\\\Microsoft SQL Server\\\\120\\\\Tools\\\\Binn\\\\;C:\\\\Program Files\\\\Microsoft SQL Server\\\\120\\\\DTS\\\\Binn\\\\;C:\\\\Program Files\\\\Microsoft SQL Server\\\\110\\\\Tools\\\\Binn\\\\;C:\\\\Program Files\\\\MiKTeX 2.9\\\\miktex\\\\bin\\\\x64\\\\;C:\\\\Anaconda;C:\\\\Anaconda\\\\Scripts;C:\\\\Anaconda\\\\Library\\\\bin;C:\\\\Program Files (x86)\\\\Lua\\\\5.1;C:\\\\Program Files (x86)\\\\Lua\\\\5.1\\\\clibs;C:\\\\Users\\\\simon.garisch\\\\.dnx\\\\bin;C:\\\\Program Files\\\\Microsoft DNX\\\\Dnvm\\\\;C:\\\\Anaconda2;C:\\\\Anaconda2\\\\Scripts;C:\\\\Anaconda2\\\\Library\\\\bin;C:\\\\Program Files (x86)\\\\Microsoft SQL Server\\\\120\\\\Tools\\\\Binn\\\\ManagementStudio\\\\;C:\\\\Program Files (x86)\\\\Microsoft SQL Server\\\\120\\\\DTS\\\\Binn\\\\;C:\\\\Program Files (x86)\\\\Sennheiser\\\\SoftphoneSDK\\\\;C:\\\\Windows\\\\System32\\\\WindowsPowerShell\\\\v1.0\\\\;C:\\\\Program Files (x86)\\\\Pandoc\\\\;C:\\\\Program Files (x86)\\\\scala\\\\bin;C:\\\\Program Files (x86)\\\\sbt\\\\bin;C:\\\\Program Files (x86)\\\\GtkSharp\\\\2.12\\\\bin;C:\\\\StorageData\\\\R-3.3.1\\\\bin\\\\x64;C:\\\\Program Files (x86)\\\\Graphviz2.38\\\\bin;C:\\\\Program Files (x86)\\\\Skype\\\\Phone\\\\;C:\\\\Program Files\\\\PuTTY\\\\;C:\\\\Program Files\\\\nodejs\\\\;C:\\\\Program Files (x86)\\\\Eze Castle Software\\\\Common;C:\\\\Program Files (x86)\\\\Eze Castle Software\\\\Client\\\\Bin;C:\\\\Program Files\\\\Git\\\\cmd;C:\\\\Program Files\\\\dotnet\\\\;C:\\\\Program Files\\\\Microsoft SQL Server\\\\130\\\\Tools\\\\Binn\\\\;C:\\\\blp\\\\DAPI;C:\\\\blp\\\\DAPI\\\\DDE;C:\\\\Program Files\\\\MongoDB\\\\Server\\\\3.0\\\\bin;C:\\\\Program Files\\\\Java\\\\jdk1.8.0_60\\\\bin;C:\\\\jython2.7.0\\\\bin;C:\\\\MinGW\\\\bin;C:\\\\Bernstein\\\\Cube21;C:\\\\MinGW\\\\bin;C:\\\\Program Files (x86)\\\\Pandoc;C:\\\\Users\\\\simon.garisch\\\\AppData\\\\Local\\\\Programs\\\\Git\\\\cmd;C:\\\\Users\\\\simon.garisch\\\\AppData\\\\Local\\\\atom\\\\bin;C:\\\\blp\\\\API\\\\API\\\\APIv3\\\\C++API\\\\v3.8.18.1\\\\bin;C:\\\\Users\\\\simon.garisch\\\\AppData\\\\Roaming\\\\npm',\n",
      "        PATHEXT: '.COM;.EXE;.BAT;.CMD;.VBS;.VBE;.JSE;.WSF;.WSH;.MSC;.wlua;.lexe',\n",
      "        PCBRAND: 'Pavilion',\n",
      "        PLATFORM: 'BWS',\n",
      "        PROCESSOR_ARCHITECTURE: 'AMD64',\n",
      "        PROCESSOR_IDENTIFIER: 'Intel64 Family 6 Model 60 Stepping 3, GenuineIntel',\n",
      "        PROCESSOR_LEVEL: '6',\n",
      "        PROCESSOR_REVISION: '3c03',\n",
      "        PROGRAMDATA: 'C:\\\\ProgramData',\n",
      "        PROGRAMFILES: 'C:\\\\Program Files',\n",
      "        'PROGRAMFILES(X86)': 'C:\\\\Program Files (x86)',\n",
      "        PROGRAMW6432: 'C:\\\\Program Files',\n",
      "        PROMPT: '[r] $P$G',\n",
      "        PSMODULEPATH: 'C:\\\\Windows\\\\system32\\\\WindowsPowerShell\\\\v1.0\\\\Modules\\\\;C:\\\\Program Files (x86)\\\\Microsoft SQL Server\\\\120\\\\Tools\\\\PowerShell\\\\Modules\\\\',\n",
      "        PUBLIC: 'C:\\\\Users\\\\Public',\n",
      "        SBT_HOME: 'C:\\\\Program Files (x86)\\\\sbt\\\\',\n",
      "        SESSIONNAME: 'Console',\n",
      "        SYSTEMDRIVE: 'C:',\n",
      "        SYSTEMROOT: 'C:\\\\Windows',\n",
      "        TEMP: 'C:\\\\Users\\\\SIMON~1.GAR\\\\AppData\\\\Local\\\\Temp',\n",
      "        TMP: 'C:\\\\Users\\\\SIMON~1.GAR\\\\AppData\\\\Local\\\\Temp',\n",
      "        USERDNSDOMAIN: 'MAGELLAN.SYDNEY',\n",
      "        USERDOMAIN: 'MAGELLAN',\n",
      "        USERNAME: 'simon.garisch',\n",
      "        USERPROFILE: 'C:\\\\Users\\\\simon.garisch',\n",
      "        VBOX_MSI_INSTALL_PATH: 'C:\\\\Program Files\\\\Oracle\\\\VirtualBox\\\\',\n",
      "        VS140COMNTOOLS: 'C:\\\\Program Files (x86)\\\\Microsoft Visual Studio 14.0\\\\Common7\\\\Tools\\\\',\n",
      "        VS90COMNTOOLS: 'C:\\\\Program Files (x86)\\\\Microsoft Visual Studio 9.0\\\\Common7\\\\Tools\\\\',\n",
      "        WINDIR: 'C:\\\\Windows',\n",
      "        WINDOWS_TRACING_FLAGS: '3',\n",
      "        WINDOWS_TRACING_LOGFILE: 'C:\\\\BVTBin\\\\Tests\\\\installpackage\\\\csilogfile.log' },\n",
      "     pid: 20184,\n",
      "     features: \n",
      "      { debug: false,\n",
      "        uv: true,\n",
      "        ipv6: true,\n",
      "        tls_npn: true,\n",
      "        tls_alpn: true,\n",
      "        tls_sni: true,\n",
      "        tls_ocsp: true,\n",
      "        tls: true },\n",
      "     _needImmediateCallback: false,\n",
      "     _eval: '(function() {\\n/*\\n * BSD 3-Clause License\\n *\\n * Copyright (c) 2015, Nicolas Riesco and others as credited in the AUTHORS file\\n * All rights reserved.\\n *\\n * Redistribution and use in source and binary forms, with or without\\n * modification, are permitted provided that the following conditions are met:\\n *\\n * 1. Redistributions of source code must retain the above copyright notice,\\n * this list of conditions and the following disclaimer.\\n *\\n * 2. Redistributions in binary form must reproduce the above copyright notice,\\n * this list of conditions and the following disclaimer in the documentation\\n * and/or other materials provided with the distribution.\\n *\\n * 3. Neither the name of the copyright holder nor the names of its contributors\\n * may be used to endorse or promote products derived from this software without\\n * specific prior written permission.\\n *\\n * THIS SOFTWARE IS PROVIDED BY THE COPYRIGHT HOLDERS AND CONTRIBUTORS \"AS IS\"\\n * AND ANY EXPRESS OR IMPLIED WARRANTIES, INCLUDING, BUT NOT LIMITED TO, THE\\n * IMPLIED WARRANTIES OF MERCHANTABILITY AND FITNESS FOR A PARTICULAR PURPOSE\\n * ARE DISCLAIMED. IN NO EVENT SHALL THE COPYRIGHT HOLDER OR CONTRIBUTORS BE\\n * LIABLE FOR ANY DIRECT, INDIRECT, INCIDENTAL, SPECIAL, EXEMPLARY, OR\\n * CONSEQUENTIAL DAMAGES (INCLUDING, BUT NOT LIMITED TO, PROCUREMENT OF\\n * SUBSTITUTE GOODS OR SERVICES; LOSS OF USE, DATA, OR PROFITS; OR BUSINESS\\n * INTERRUPTION) HOWEVER CAUSED AND ON ANY THEORY OF LIABILITY, WHETHER IN\\n * CONTRACT, STRICT LIABILITY, OR TORT (INCLUDING NEGLIGENCE OR OTHERWISE)\\n * ARISING IN ANY WAY OUT OF THE USE OF THIS SOFTWARE, EVEN IF ADVISED OF THE\\n * POSSIBILITY OF SUCH DAMAGE.\\n *\\n */\\n\\nvar console = require(\"console\");\\nvar stream = require(\"stream\");\\nvar util = require(\"util\");\\n\\nfunction Stdout(id, opt) {\\n    stream.Transform.call(this, opt);\\n\\n    this._id = id;\\n}\\n\\nStdout.prototype = Object.create(stream.Transform.prototype);\\n\\nStdout.prototype._transform = function(data, encoding, callback) {\\n    var response = {\\n        id: this._id,\\n        stdout: data.toString(),\\n    };\\n    log(\"STDOUT:\", response);\\n    process.send(response);\\n    this.push(data);\\n    callback();\\n};\\n\\nfunction Stderr(id, opt) {\\n    stream.Transform.call(this, opt);\\n\\n    this._id = id;\\n}\\n\\nStderr.prototype = Object.create(stream.Transform.prototype);\\n\\nStderr.prototype._transform = function(data, encoding, callback) {\\n    var response = {\\n        id: this._id,\\n        stderr: data.toString(),\\n    };\\n    log(\"STDERR:\", response);\\n    process.send(response);\\n    this.push(data);\\n    callback();\\n};\\n\\nfunction Context(requester, id) {\\n    this.requester = requester;\\n    this.id = id;\\n\\n    this.stdout = new Stdout(this.id);\\n    this.stderr = new Stderr(this.id);\\n    this.console = new console.Console(this.stdout, this.stderr);\\n\\n    this._capturedStdout = null;\\n    this._capturedStderr = null;\\n    this._capturedConsole = null;\\n\\n    this._async = false;\\n    this._done = false;\\n\\n    // `$$` provides an interface for users to access the execution context\\n    this.$$ = Object.create(null);\\n\\n    this.$$.async = (function async(value) {\\n        this._async = (arguments.length === 0) ? true : !!value;\\n        return this._async;\\n    }).bind(this);\\n\\n    this.$$.done = (function done(result) {\\n        this.send((arguments.length === 0) ? {\\n            end: true,\\n        } : {\\n            mime: toMime(result),\\n            end: true,\\n        });\\n    }).bind(this);\\n\\n    this.$$.sendResult = resolvePromise.call(this,\\n        function sendResult(result, keepAlive) {\\n            if (keepAlive) this.$$.async();\\n\\n            this.send({\\n                mime: toMime(result),\\n                end: !keepAlive,\\n            });\\n        }\\n    );\\n\\n    this.$$.sendError = resolvePromise.call(this,\\n        function sendError(error, keepAlive) {\\n            if (keepAlive) this.$$.async();\\n\\n            this.send({\\n                error: formatError(error),\\n                end: !keepAlive,\\n            });\\n        }\\n    );\\n\\n    this.$$.mime = resolvePromise.call(this,\\n        function sendMime(mimeBundle, keepAlive) {\\n            if (keepAlive) this.$$.async();\\n\\n            this.send({\\n                mime: mimeBundle,\\n                end: !keepAlive,\\n            });\\n        }\\n    );\\n\\n    this.$$.text = resolvePromise.call(this,\\n        function sendText(text, keepAlive) {\\n            if (keepAlive) this.$$.async();\\n\\n            this.send({\\n                mime: {\\n                    \"text/plain\": text,\\n                },\\n                end: !keepAlive,\\n            });\\n        }\\n    );\\n\\n    this.$$.html = resolvePromise.call(this,\\n        function sendHtml(html, keepAlive) {\\n            if (keepAlive) this.$$.async();\\n\\n            this.send({\\n                mime: {\\n                    \"text/html\": html,\\n                },\\n                end: !keepAlive,\\n            });\\n        }\\n    );\\n\\n    this.$$.svg = resolvePromise.call(this,\\n        function sendSvg(svg, keepAlive) {\\n            if (keepAlive) this.$$.async();\\n\\n            this.send({\\n                mime: {\\n                    \"image/svg+xml\": svg,\\n                },\\n                end: !keepAlive,\\n            });\\n        }\\n    );\\n\\n    this.$$.png = resolvePromise.call(this,\\n        function sendPng(png, keepAlive) {\\n            if (keepAlive) this.$$.async();\\n\\n            this.send({\\n                mime: {\\n                    \"image/png\": png,\\n                },\\n                end: !keepAlive,\\n            });\\n        }\\n    );\\n\\n    this.$$.jpeg = resolvePromise.call(this,\\n        function sendJpeg(jpeg, keepAlive) {\\n            if (keepAlive) this.$$.async();\\n\\n            this.send({\\n                mime: {\\n                    \"image/jpeg\": jpeg,\\n                },\\n                end: !keepAlive,\\n            });\\n        }\\n    );\\n\\n    this.$$.json = resolvePromise.call(this,\\n        function sendJson(json, keepAlive) {\\n            if (keepAlive) this.$$.async();\\n\\n            this.send({\\n                mime: {\\n                    \"application/json\": json,\\n                },\\n                end: !keepAlive,\\n            });\\n        }\\n    );\\n\\n    this.$$.input = (function input(options, callback) {\\n        this.$$.async();\\n\\n        var inputRequest = {\\n            input: options,\\n        };\\n\\n        var inputCallback;\\n        if (typeof callback === \\'function\\') {\\n            inputCallback = function inputCallback(error, reply) {\\n                callback(error, reply.input);\\n            };\\n        }\\n\\n        var promise = this.requester.send(this, inputRequest, inputCallback);\\n        if (promise) {\\n            return promise.then(function(reply) { return reply.input; });\\n        }\\n    }).bind(this);\\n\\n    this.$$.display = (function createDisplay(id) {\\n        return (arguments.length === 0) ?\\n            new Display(this.id) :\\n            new Display(this.id, id);\\n    }).bind(this);\\n\\n    function isPromise(output) {\\n        if (!global.Promise || typeof global.Promise !== \"function\") {\\n            return false;\\n        }\\n        return output instanceof global.Promise;\\n    }\\n\\n    function resolvePromise(outputHandler) {\\n        return function(output, keepAlive) {\\n            if (isPromise(output)) {\\n                this.$$.async();\\n\\n                output.then(function(resolvedOutput) {\\n                    outputHandler.call(this, resolvedOutput, keepAlive);\\n                }.bind(this)).catch(function(error) {\\n                    this.send({\\n                        error: formatError(error),\\n                        end: true,\\n                    });\\n                }.bind(this));\\n\\n                return;\\n            }\\n\\n            outputHandler.apply(this, arguments);\\n        }.bind(this);\\n    }\\n}\\n\\nContext.prototype.send = function send(message) {\\n    message.id = this.id;\\n\\n    if (this._done) {\\n        log(\"SEND: DROPPED:\", message);\\n        return;\\n    }\\n\\n    if(message.end) {\\n        this._done = true;\\n        this._async = false;\\n    }\\n\\n    log(\"SEND:\", message);\\n\\n    process.send(message);\\n};\\n\\nContext.prototype.captureGlobalContext = function captureGlobalContext() {\\n    this._capturedStdout = process.stdout;\\n    this._capturedStderr = process.stderr;\\n    this._capturedConsole = console;\\n\\n    this.stdout.pipe(this._capturedStdout);\\n    this.stderr.pipe(this._capturedStderr);\\n    this.console.Console = this._capturedConsole.Console;\\n\\n    delete process.stdout;\\n    process.stdout = this.stdout;\\n\\n    delete process.stderr;\\n    process.stderr = this.stderr;\\n\\n    delete global.console;\\n    global.console = this.console;\\n\\n    delete global.$$;\\n    global.$$ = this.$$;\\n\\n    if (typeof global.$$mimer$$ !== \"function\") {\\n        global.$$mimer$$ = defaultMimer;\\n    }\\n\\n    delete global.$$mime$$;\\n    Object.defineProperty(global, \"$$mime$$\", {\\n        set: this.$$.mime,\\n        configurable: true,\\n        enumerable: false,\\n    });\\n\\n    delete global.$$html$$;\\n    Object.defineProperty(global, \"$$html$$\", {\\n        set: this.$$.html,\\n        configurable: true,\\n        enumerable: false,\\n    });\\n\\n    delete global.$$svg$$;\\n    Object.defineProperty(global, \"$$svg$$\", {\\n        set: this.$$.svg,\\n        configurable: true,\\n        enumerable: false,\\n    });\\n\\n    delete global.$$png$$;\\n    Object.defineProperty(global, \"$$png$$\", {\\n        set: this.$$.png,\\n        configurable: true,\\n        enumerable: false,\\n    });\\n\\n    delete global.$$jpeg$$;\\n    Object.defineProperty(global, \"$$jpeg$$\", {\\n        set: this.$$.jpeg,\\n        configurable: true,\\n        enumerable: false,\\n    });\\n\\n    delete global.$$async$$;\\n    Object.defineProperty(global, \"$$async$$\", {\\n        get: (function() {\\n            return this._async;\\n        }).bind(this),\\n        set: (function(value) {\\n            this._async = !!value;\\n        }).bind(this),\\n        configurable: true,\\n        enumerable: false,\\n    });\\n\\n    global.$$done$$ = this.$$.done.bind(this);\\n\\n    if (!global.hasOwnProperty(\"$$defaultMimer$$\")) {\\n        Object.defineProperty(global, \"$$defaultMimer$$\", {\\n            value: defaultMimer,\\n            configurable: false,\\n            writable: false,\\n            enumerable: false,\\n        });\\n    }\\n};\\n\\nContext.prototype.releaseGlobalContext = function releaseGlobalContext() {\\n    if (process.stdout === this.stdout) {\\n        this.stdout.unpipe();\\n\\n        delete process.stdout;\\n        process.stdout = this._capturedStdout;\\n\\n        this._capturedStdout = null;\\n    }\\n\\n    if (process.stderr === this.stderr) {\\n        this.stderr.unpipe();\\n\\n        delete process.stderr;\\n        process.stderr = this._capturedStderr;\\n\\n        this._capturedStderr = null;\\n    }\\n\\n    if (global.console === this.console) {\\n        delete global.console;\\n        global.console = this._capturedConsole;\\n\\n        this._capturedConsole = null;\\n    }\\n};\\n\\nfunction formatError(error) {\\n    return {\\n        ename: (error && error.name) ?\\n            error.name : typeof error,\\n        evalue: (error && error.message) ?\\n            error.message : util.inspect(error),\\n        traceback: (error && error.stack) ?\\n            error.stack.split(\"\\\\n\") : \"\",\\n    };\\n}\\n\\nfunction toMime(result) {\\n    var mimer = (typeof global.$$mimer$$ === \"function\") ?\\n        global.$$mimer$$ :\\n        defaultMimer;\\n    return mimer(result);\\n}\\n\\nfunction defaultMimer(result) {\\n    if (typeof result === \"undefined\") {\\n        return {\\n            \"text/plain\": \"undefined\"\\n        };\\n    }\\n\\n    if (result === null) {\\n        return {\\n            \"text/plain\": \"null\"\\n        };\\n    }\\n\\n    var mime;\\n    if (result._toMime) {\\n        try {\\n            mime = result._toMime();\\n        } catch (error) {}\\n    }\\n    if (typeof mime !== \"object\") {\\n        mime = {};\\n    }\\n\\n    if (!(\"text/plain\" in mime)) {\\n        try {\\n            mime[\"text/plain\"] = util.inspect(result);\\n        } catch (error) {}\\n    }\\n\\n    if (result._toHtml && !(\"text/html\" in mime)) {\\n        try {\\n            mime[\"text/html\"] = result._toHtml();\\n        } catch (error) {}\\n    }\\n\\n    if (result._toSvg && !(\"image/svg+xml\" in mime)) {\\n        try {\\n            mime[\"image/svg+xml\"] = result._toSvg();\\n        } catch (error) {}\\n    }\\n\\n    if (result._toPng && !(\"image/png\" in mime)) {\\n        try {\\n            mime[\"image/png\"] = result._toPng();\\n        } catch (error) {}\\n    }\\n\\n    if (result._toJpeg && !(\"image/jpeg\" in mime)) {\\n        try {\\n            mime[\"image/jpeg\"] = result._toJpeg();\\n        } catch (error) {}\\n    }\\n\\n    return mime;\\n}\\n\\n/*\\n * BSD 3-Clause License\\n *\\n * Copyright (c) 2017, Nicolas Riesco and others as credited in the AUTHORS file\\n * All rights reserved.\\n *\\n * Redistribution and use in source and binary forms, with or without\\n * modification, are permitted provided that the following conditions are met:\\n *\\n * 1. Redistributions of source code must retain the above copyright notice,\\n * this list of conditions and the following disclaimer.\\n *\\n * 2. Redistributions in binary form must reproduce the above copyright notice,\\n * this list of conditions and the following disclaimer in the documentation\\n * and/or other materials provided with the distribution.\\n *\\n * 3. Neither the name of the copyright holder nor the names of its contributors\\n * may be used to endorse or promote products derived from this software without\\n * specific prior written permission.\\n *\\n * THIS SOFTWARE IS PROVIDED BY THE COPYRIGHT HOLDERS AND CONTRIBUTORS \"AS IS\"\\n * AND ANY EXPRESS OR IMPLIED WARRANTIES, INCLUDING, BUT NOT LIMITED TO, THE\\n * IMPLIED WARRANTIES OF MERCHANTABILITY AND FITNESS FOR A PARTICULAR PURPOSE\\n * ARE DISCLAIMED. IN NO EVENT SHALL THE COPYRIGHT HOLDER OR CONTRIBUTORS BE\\n * LIABLE FOR ANY DIRECT, INDIRECT, INCIDENTAL, SPECIAL, EXEMPLARY, OR\\n * CONSEQUENTIAL DAMAGES (INCLUDING, BUT NOT LIMITED TO, PROCUREMENT OF\\n * SUBSTITUTE GOODS OR SERVICES; LOSS OF USE, DATA, OR PROFITS; OR BUSINESS\\n * INTERRUPTION) HOWEVER CAUSED AND ON ANY THEORY OF LIABILITY, WHETHER IN\\n * CONTRACT, STRICT LIABILITY, OR TORT (INCLUDING NEGLIGENCE OR OTHERWISE)\\n * ARISING IN ANY WAY OUT OF THE USE OF THIS SOFTWARE, EVEN IF ADVISED OF THE\\n * POSSIBILITY OF SUCH DAMAGE.\\n *\\n */\\n\\nfunction Display(context_id, display_id) {\\n    var send;\\n\\n    this.mime = function mime(mimeBundle) {\\n        send(mimeBundle);\\n    };\\n\\n    this.text = function text(text) {\\n        send({\"text/plain\": text});\\n    };\\n\\n    this.html = function html(html) {\\n        send({\"text/html\": html});\\n    };\\n\\n    this.svg = function svg(svg) {\\n        send({\"image/svg+xml\": svg});\\n    };\\n\\n    this.png = function png(png) {\\n        send({\"image/png\": png});\\n    };\\n\\n    this.jpeg = function jpeg(jpeg) {\\n        send({\"image/jpeg\": jpeg});\\n    };\\n\\n    this.json = function json(json) {\\n        send({\"application/json\": json});\\n    };\\n\\n    this.close = function close() {\\n        process.send({\\n            id: context_id,\\n            display: {\\n                close: display_id,\\n            },\\n        });\\n    };\\n\\n    if (arguments.length < 2) {\\n        // case: without a display_id\\n        send = function send(mime) {\\n            process.send({\\n                id: context_id,\\n                display: {\\n                    mime: mime,\\n                },\\n            });\\n        };\\n    } else {\\n        // case: with a display_id\\n        send = function send(mime) {\\n            process.send({\\n                id: context_id,\\n                display: {\\n                    display_id: display_id,\\n                    mime: mime,\\n                },\\n            });\\n        };\\n\\n        // open the display_id\\n        process.send({\\n            id: context_id,\\n            display: {\\n                open: display_id,\\n            },\\n        });\\n    }\\n}\\n\\n/*\\n * BSD 3-Clause License\\n *\\n * Copyright (c) 2017, Nicolas Riesco and others as credited in the AUTHORS file\\n * All rights reserved.\\n *\\n * Redistribution and use in source and binary forms, with or without\\n * modification, are permitted provided that the following conditions are met:\\n *\\n * 1. Redistributions of source code must retain the above copyright notice,\\n * this list of conditions and the following disclaimer.\\n *\\n * 2. Redistributions in binary form must reproduce the above copyright notice,\\n * this list of conditions and the following disclaimer in the documentation\\n * and/or other materials provided with the distribution.\\n *\\n * 3. Neither the name of the copyright holder nor the names of its contributors\\n * may be used to endorse or promote products derived from this software without\\n * specific prior written permission.\\n *\\n * THIS SOFTWARE IS PROVIDED BY THE COPYRIGHT HOLDERS AND CONTRIBUTORS \"AS IS\"\\n * AND ANY EXPRESS OR IMPLIED WARRANTIES, INCLUDING, BUT NOT LIMITED TO, THE\\n * IMPLIED WARRANTIES OF MERCHANTABILITY AND FITNESS FOR A PARTICULAR PURPOSE\\n * ARE DISCLAIMED. IN NO EVENT SHALL THE COPYRIGHT HOLDER OR CONTRIBUTORS BE\\n * LIABLE FOR ANY DIRECT, INDIRECT, INCIDENTAL, SPECIAL, EXEMPLARY, OR\\n * CONSEQUENTIAL DAMAGES (INCLUDING, BUT NOT LIMITED TO, PROCUREMENT OF\\n * SUBSTITUTE GOODS OR SERVICES; LOSS OF USE, DATA, OR PROFITS; OR BUSINESS\\n * INTERRUPTION) HOWEVER CAUSED AND ON ANY THEORY OF LIABILITY, WHETHER IN\\n * CONTRACT, STRICT LIABILITY, OR TORT (INCLUDING NEGLIGENCE OR OTHERWISE)\\n * ARISING IN ANY WAY OUT OF THE USE OF THIS SOFTWARE, EVEN IF ADVISED OF THE\\n * POSSIBILITY OF SUCH DAMAGE.\\n *\\n */\\n\\nfunction Requester() {\\n    // id for next request\\n    this.id = 0;\\n\\n    // callback associated with a request (indexed by id)\\n    this.callbacks = {};\\n\\n    // the Promise resolve callback associated with a request (indexed by id)\\n    this.resolves = {};\\n\\n    // the Promise reject callback associated with a request (indexed by id)\\n    this.rejects = {};\\n\\n    // the string to be returned to a request (indexed by id)\\n    this.responses = {};\\n}\\n\\n// send a request\\nRequester.prototype.send = function send(context, request, callback) {\\n    var id = this.id++;\\n\\n    if (callback) {\\n        this.callbacks[id] = callback;\\n    }\\n\\n    var promise;\\n    if (global.Promise) {\\n        promise = new Promise(function(resolve, reject) {\\n            if (!this.responses.hasOwnProperty(id)) {\\n                this.resolves[id] = resolve;\\n                this.rejects[id] = reject;\\n                return;\\n            }\\n\\n            var response = this.responses[id];\\n            delete this.responses[id];\\n            resolve(response);\\n        }.bind(this));\\n    }\\n\\n    request.id = id;\\n\\n    context.send({\\n        request: request,\\n    });\\n\\n    return promise;\\n};\\n\\n// pass reply to the callbacks associated with a request\\nRequester.prototype.receive = function receive(id, reply) {\\n    var callback = this.callbacks[id];\\n    if (callback) {\\n        delete this.callbacks[id];\\n        callback(null, reply);\\n    }\\n    \\n    var resolve = this.resolves[id];\\n    if (resolve) {\\n        delete this.resolves[id];\\n        delete this.rejects[id];\\n        resolve(reply);\\n    }\\n};\\n\\n/*\\n * BSD 3-Clause License\\n *\\n * Copyright (c) 2015, Nicolas Riesco and others as credited in the AUTHORS file\\n * All rights reserved.\\n *\\n * Redistribution and use in source and binary forms, with or without\\n * modification, are permitted provided that the following conditions are met:\\n *\\n * 1. Redistributions of source code must retain the above copyright notice,\\n * this list of conditions and the following disclaimer.\\n *\\n * 2. Redistributions in binary form must reproduce the above copyright notice,\\n * this list of conditions and the following disclaimer in the documentation\\n * and/or other materials provided with the distribution.\\n *\\n * 3. Neither the name of the copyright holder nor the names of its contributors\\n * may be used to endorse or promote products derived from this software without\\n * specific prior written permission.\\n *\\n * THIS SOFTWARE IS PROVIDED BY THE COPYRIGHT HOLDERS AND CONTRIBUTORS \"AS IS\"\\n * AND ANY EXPRESS OR IMPLIED WARRANTIES, INCLUDING, BUT NOT LIMITED TO, THE\\n * IMPLIED WARRANTIES OF MERCHANTABILITY AND FITNESS FOR A PARTICULAR PURPOSE\\n * ARE DISCLAIMED. IN NO EVENT SHALL THE COPYRIGHT HOLDER OR CONTRIBUTORS BE\\n * LIABLE FOR ANY DIRECT, INDIRECT, INCIDENTAL, SPECIAL, EXEMPLARY, OR\\n * CONSEQUENTIAL DAMAGES (INCLUDING, BUT NOT LIMITED TO, PROCUREMENT OF\\n * SUBSTITUTE GOODS OR SERVICES; LOSS OF USE, DATA, OR PROFITS; OR BUSINESS\\n * INTERRUPTION) HOWEVER CAUSED AND ON ANY THEORY OF LIABILITY, WHETHER IN\\n * CONTRACT, STRICT LIABILITY, OR TORT (INCLUDING NEGLIGENCE OR OTHERWISE)\\n * ARISING IN ANY WAY OUT OF THE USE OF THIS SOFTWARE, EVEN IF ADVISED OF THE\\n * POSSIBILITY OF SUCH DAMAGE.\\n *\\n */\\n\\nvar vm = require(\"vm\");\\n\\n// Shared variables\\nvar DEBUG = !!process.env.DEBUG;\\nvar log;\\nvar requester;\\nvar initialContext;\\n\\n// Init IPC server\\ninit();\\n\\nreturn;\\n\\nfunction init() {\\n    // Setup logger\\n    log = DEBUG ?\\n        function log() {\\n            process.send({\\n                log: \"SERVER: \" + util.format.apply(this, arguments),\\n            });\\n        } :\\n        function noop() {};\\n\\n    // Create instance to send requests\\n    requester = new Requester();\\n\\n    // Capture the initial context\\n    // (id left undefined to indicate this is the initial context)\\n    initialContext = new Context(requester);\\n    initialContext.captureGlobalContext();\\n\\n    Object.defineProperty(global, \"$$defaultMimer$$\", {\\n        value: defaultMimer,\\n        configurable: false,\\n        writable: false,\\n        enumerable: false,\\n    });\\n\\n    process.on(\"message\", onMessage.bind(this));\\n\\n    process.on(\"uncaughtException\", onUncaughtException.bind(this));\\n\\n    process.send({\\n        status: \"online\",\\n    });\\n}\\n\\nfunction onUncaughtException(error) {\\n    log(\"UNCAUGHTEXCEPTION:\", error.stack);\\n    process.send({\\n        stderr: error.stack.toString(),\\n    });\\n}\\n\\nfunction onMessage(message) {\\n    log(\"RECEIVED:\", message);\\n\\n    var action = message[0];\\n    var code = message[1];\\n    var id = message[2];\\n\\n    initialContext.releaseGlobalContext();\\n    var context = new Context(requester, id);\\n    context.captureGlobalContext();\\n\\n    try {\\n        if (action === \"getAllPropertyNames\") {\\n            onNameRequest(code, context);\\n        } else if (action === \"inspect\") {\\n            onInspectRequest(code, context);\\n        } else if (action === \"run\") {\\n            onRunRequest(code, context);\\n        } else if (action === \"reply\") {\\n            onReply(message);\\n        } else {\\n            throw new Error(\"NEL: Unhandled action: \" + action);\\n        }\\n    } catch (error) {\\n        context.$$.sendError(error);\\n    }\\n\\n    context.releaseGlobalContext();\\n    initialContext.captureGlobalContext();\\n    initialContext._done = false;\\n}\\n\\nfunction onReply(message) {\\n    var reply = message[1];\\n    var id = message[3];\\n    requester.receive(id, reply);\\n}\\n\\nfunction onNameRequest(code, context) {\\n    var message = {\\n        id: context.id,\\n        names: getAllPropertyNames(run(code)),\\n        end: true,\\n    };\\n    context.send(message);\\n}\\n\\nfunction onInspectRequest(code, context) {\\n    var message = {\\n        id: context.id,\\n        inspection: inspect(run(code)),\\n        end: true,\\n    };\\n    context.send(message);\\n}\\n\\nfunction onRunRequest(code, context) {\\n    var result = run(code);\\n\\n    // If a result has already been sent, do not send this result.\\n    if (context._done) {\\n        return;\\n    }\\n\\n    // If the result is a Promise, send the result fulfilled by the promise\\n    if (isPromise(result)) {\\n        context.$$.sendResult(result);\\n        return;\\n    }\\n\\n    // If async mode has been enabled (and the result is not a Promise),\\n    // do not send this result.\\n    if (context._async) {\\n        return;\\n    }\\n\\n    // If no result has been sent yet and async mode has not been enabled,\\n    // send this result.\\n    context.$$.sendResult(result);\\n\\n    return;\\n\\n    function isPromise(output) {\\n        if (!global.Promise || typeof global.Promise !== \"function\") {\\n            return false;\\n        }\\n        return output instanceof global.Promise;\\n    }\\n}\\n\\nfunction getAllPropertyNames(object) {\\n    var propertyList = [];\\n\\n    if (object === undefined) {\\n        return [];\\n    }\\n\\n    if (object === null) {\\n        return [];\\n    }\\n\\n    var prototype;\\n    if (typeof object === \"boolean\") {\\n        prototype = Boolean.prototype;\\n    } else if (typeof object === \"number\") {\\n        prototype = Number.prototype;\\n    } else if (typeof object === \"string\") {\\n        prototype = String.prototype;\\n    } else {\\n        prototype = object;\\n    }\\n\\n    var prototypeList = [prototype];\\n\\n    function pushToPropertyList(e) {\\n        if (propertyList.indexOf(e) === -1) {\\n            propertyList.push(e);\\n        }\\n    }\\n\\n    while (true) {\\n        var names;\\n        try {\\n            names = Object.getOwnPropertyNames(prototype).sort();\\n        } catch (e) {\\n            break;\\n        }\\n        names.forEach(pushToPropertyList);\\n\\n        prototype = Object.getPrototypeOf(prototype);\\n        if (prototype === null) {\\n            break;\\n        }\\n\\n        if (prototypeList.indexOf(prototype) === -1) {\\n            prototypeList.push(prototype);\\n        }\\n    }\\n\\n    return propertyList;\\n}\\n\\nfunction inspect(object) {\\n    if (object === undefined) {\\n        return {\\n            string: \"undefined\",\\n            type: \"Undefined\",\\n        };\\n    }\\n\\n    if (object === null) {\\n        return {\\n            string: \"null\",\\n            type: \"Null\",\\n        };\\n    }\\n\\n    if (typeof object === \"boolean\") {\\n        return {\\n            string: object ? \"true\" : \"false\",\\n            type: \"Boolean\",\\n            constructorList: [\"Boolean\", \"Object\"],\\n        };\\n    }\\n\\n    if (typeof object === \"number\") {\\n        return {\\n            string: util.inspect(object),\\n            type: \"Number\",\\n            constructorList: [\"Number\", \"Object\"],\\n        };\\n    }\\n\\n    if (typeof object === \"string\") {\\n        return {\\n            string: object,\\n            type: \"String\",\\n            constructorList: [\"String\", \"Object\"],\\n            length: object.length,\\n        };\\n    }\\n\\n    if (typeof object === \"function\") {\\n        return {\\n            string: object.toString(),\\n            type: \"Function\",\\n            constructorList: [\"Function\", \"Object\"],\\n            length: object.length,\\n        };\\n    }\\n\\n    var constructorList = getConstructorList(object);\\n    var result = {\\n        string: toString(object),\\n        type: constructorList[0] || \"\",\\n        constructorList: constructorList,\\n    };\\n\\n    if (\"length\" in object) {\\n        result.length = object.length;\\n    }\\n\\n    return result;\\n\\n    function toString(object) {\\n        try {\\n            return util.inspect(object.valueOf());\\n        } catch (e) {\\n            return util.inspect(object);\\n        }\\n    }\\n\\n    function getConstructorList(object) {\\n        var constructorList = [];\\n\\n        var prototype = Object.getPrototypeOf(object);\\n        while (true) {\\n            try {\\n                constructorList.push(prototype.constructor.name);\\n            } catch (e) {\\n                break;\\n            }\\n            prototype = Object.getPrototypeOf(prototype);\\n        }\\n\\n        return constructorList;\\n    }\\n}\\n\\nfunction run(code) {\\n    return vm.runInThisContext(code);\\n}\\n\\n})();',\n",
      "     execPath: 'C:\\\\Program Files\\\\nodejs\\\\node.exe',\n",
      "     debugPort: 9229,\n",
      "     _startProfilerIdleNotifier: [Function: _startProfilerIdleNotifier],\n",
      "     _stopProfilerIdleNotifier: [Function: _stopProfilerIdleNotifier],\n",
      "     _getActiveRequests: [Function: _getActiveRequests],\n",
      "     _getActiveHandles: [Function: _getActiveHandles],\n",
      "     reallyExit: [Function: reallyExit],\n",
      "     abort: [Function: abort],\n",
      "     chdir: [Function: chdir],\n",
      "     cwd: [Function: cwd],\n",
      "     umask: [Function: umask],\n",
      "     _kill: [Function: _kill],\n",
      "     _debugProcess: [Function: _debugProcess],\n",
      "     _debugPause: [Function: _debugPause],\n",
      "     _debugEnd: [Function: _debugEnd],\n",
      "     hrtime: [Function: hrtime],\n",
      "     cpuUsage: [Function: cpuUsage],\n",
      "     dlopen: [Function: dlopen],\n",
      "     uptime: [Function: uptime],\n",
      "     memoryUsage: [Function: memoryUsage],\n",
      "     binding: [Function: binding],\n",
      "     _linkedBinding: [Function: _linkedBinding],\n",
      "     _setupDomainUse: [Function: _setupDomainUse],\n",
      "     _events: \n",
      "      { warning: [Function],\n",
      "        newListener: [Array],\n",
      "        removeListener: [Array],\n",
      "        internalMessage: [Function],\n",
      "        message: [Function: bound onMessage],\n",
      "        uncaughtException: [Function: bound onUncaughtException] },\n",
      "     _rawDebug: [Function],\n",
      "     _eventsCount: 6,\n",
      "     domain: null,\n",
      "     _maxListeners: undefined,\n",
      "     _fatalException: [Function],\n",
      "     _exiting: false,\n",
      "     assert: [Function],\n",
      "     config: { target_defaults: [Object], variables: [Object] },\n",
      "     emitWarning: [Function],\n",
      "     nextTick: [Function: nextTick],\n",
      "     _tickCallback: [Function: _tickCallback],\n",
      "     _tickDomainCallback: [Function: _tickDomainCallback],\n",
      "     stdin: [Getter],\n",
      "     openStdin: [Function],\n",
      "     exit: [Function],\n",
      "     kill: [Function],\n",
      "     channel: \n",
      "      Pipe {\n",
      "        writeQueueSize: 0,\n",
      "        buffering: false,\n",
      "        onread: [Function],\n",
      "        sockets: [Object] },\n",
      "     _channel: [Getter/Setter],\n",
      "     _handleQueue: null,\n",
      "     _pendingMessage: null,\n",
      "     send: [Function],\n",
      "     _send: [Function],\n",
      "     connected: true,\n",
      "     disconnect: [Function],\n",
      "     _disconnect: [Function],\n",
      "     argv0: 'C:\\\\Program Files\\\\nodejs\\\\node.exe',\n",
      "     stdout: \n",
      "      Transform {\n",
      "        _readableState: [Object],\n",
      "        readable: true,\n",
      "        domain: null,\n",
      "        _events: [Object],\n",
      "        _eventsCount: 3,\n",
      "        _maxListeners: undefined,\n",
      "        _writableState: [Object],\n",
      "        writable: true,\n",
      "        allowHalfOpen: true,\n",
      "        _transformState: [Object],\n",
      "        _id: 12 },\n",
      "     stderr: \n",
      "      Transform {\n",
      "        _readableState: [Object],\n",
      "        readable: true,\n",
      "        domain: null,\n",
      "        _events: [Object],\n",
      "        _eventsCount: 3,\n",
      "        _maxListeners: undefined,\n",
      "        _writableState: [Object],\n",
      "        writable: true,\n",
      "        allowHalfOpen: true,\n",
      "        _transformState: [Object],\n",
      "        _id: 12 } },\n",
      "  Buffer: \n",
      "   { [Function: Buffer]\n",
      "     poolSize: 8192,\n",
      "     from: [Function],\n",
      "     alloc: [Function],\n",
      "     allocUnsafe: [Function],\n",
      "     allocUnsafeSlow: [Function],\n",
      "     isBuffer: [Function: isBuffer],\n",
      "     compare: [Function: compare],\n",
      "     isEncoding: [Function],\n",
      "     concat: [Function],\n",
      "     byteLength: [Function: byteLength],\n",
      "     [Symbol(node.isEncoding)]: [Function] },\n",
      "  clearImmediate: [Function],\n",
      "  clearInterval: [Function],\n",
      "  clearTimeout: [Function],\n",
      "  setImmediate: { [Function: setImmediate] [Symbol(util.promisify.custom)]: [Function] },\n",
      "  setInterval: [Function],\n",
      "  setTimeout: { [Function: setTimeout] [Symbol(util.promisify.custom)]: [Function] },\n",
      "  __filename: '[eval]',\n",
      "  exports: {},\n",
      "  module: \n",
      "   Module {\n",
      "     id: '[eval]',\n",
      "     exports: {},\n",
      "     parent: undefined,\n",
      "     filename: 'U:\\\\git\\\\mastering-javascript\\\\[eval]',\n",
      "     loaded: false,\n",
      "     children: [],\n",
      "     paths: \n",
      "      [ 'U:\\\\git\\\\mastering-javascript\\\\node_modules',\n",
      "        'U:\\\\git\\\\node_modules',\n",
      "        'U:\\\\node_modules' ] },\n",
      "  __dirname: '.',\n",
      "  require: \n",
      "   { [Function: require]\n",
      "     resolve: { [Function: resolve] paths: [Function: paths] },\n",
      "     main: undefined,\n",
      "     extensions: { '.js': [Function], '.json': [Function], '.node': [Function] },\n",
      "     cache: {} },\n",
      "  '$$mimer$$': [Function: defaultMimer],\n",
      "  '$$done$$': [Function: bound bound done],\n",
      "  sum: [Function: sum],\n",
      "  console: \n",
      "   Console {\n",
      "     log: [Function: bound log],\n",
      "     info: [Function: bound log],\n",
      "     warn: [Function: bound warn],\n",
      "     error: [Function: bound warn],\n",
      "     dir: [Function: bound dir],\n",
      "     time: [Function: bound time],\n",
      "     timeEnd: [Function: bound timeEnd],\n",
      "     trace: [Function: bound trace],\n",
      "     assert: [Function: bound assert],\n",
      "     clear: [Function: bound clear],\n",
      "     count: [Function: bound count],\n",
      "     countReset: [Function: bound countReset],\n",
      "     group: [Function: bound group],\n",
      "     groupCollapsed: [Function: bound group],\n",
      "     groupEnd: [Function: bound groupEnd],\n",
      "     Console: [Function: Console],\n",
      "     [Symbol(counts)]: Map {} },\n",
      "  '$$': \n",
      "   { async: [Function: bound async],\n",
      "     done: [Function: bound done],\n",
      "     sendResult: [Function: bound ],\n",
      "     sendError: [Function: bound ],\n",
      "     mime: [Function: bound ],\n",
      "     text: [Function: bound ],\n",
      "     html: [Function: bound ],\n",
      "     svg: [Function: bound ],\n",
      "     png: [Function: bound ],\n",
      "     jpeg: [Function: bound ],\n",
      "     json: [Function: bound ],\n",
      "     input: [Function: bound input],\n",
      "     display: [Function: bound createDisplay] } }\n"
     ]
    }
   ],
   "source": [
    "function sum(){\n",
    "  console.log(this)\n",
    "}\n",
    "\n",
    "sum() // there is a lot contained within 'this'"
   ]
  },
  {
   "cell_type": "markdown",
   "metadata": {},
   "source": [
    "If a function is not invoked as a method, constructor, or via apply() or call(), it's simply invoked as a function. When a function is invoked with this pattern, this is bound to the global object."
   ]
  },
  {
   "cell_type": "code",
   "execution_count": 13,
   "metadata": {
    "collapsed": true
   },
   "outputs": [],
   "source": [
    "function add() {}\n",
    "add()\n",
    "\n",
    "var substract = function() {}\n",
    "substract()"
   ]
  },
  {
   "cell_type": "markdown",
   "metadata": {},
   "source": [
    "## Invocation as a method\n",
    "A method is a function tied to a property on an object. For methods, this is bound to the object on invocation:"
   ]
  },
  {
   "cell_type": "code",
   "execution_count": 14,
   "metadata": {},
   "outputs": [
    {
     "name": "stdout",
     "output_type": "stream",
     "text": [
      "Albert Einstein\n"
     ]
    }
   ],
   "source": [
    "var person = {\n",
    "  name: 'Albert Einstein',\n",
    "  age: 66,\n",
    "  greet: function () {\n",
    "      console.log(this.name)\n",
    "  }\n",
    "}\n",
    "\n",
    "person.greet()"
   ]
  },
  {
   "cell_type": "markdown",
   "metadata": {},
   "source": [
    "## Invocation as a constructor\n",
    "To invoke the function as a constructor, we precede the function invocation with the new keyword. When this happens, this is bound to the new object."
   ]
  },
  {
   "cell_type": "code",
   "execution_count": 15,
   "metadata": {},
   "outputs": [
    {
     "name": "stdout",
     "output_type": "stream",
     "text": [
      "Albert Einstein\n"
     ]
    }
   ],
   "source": [
    "var Person = function (name) {\n",
    "  this.name = name;\n",
    "}\n",
    "\n",
    "Person.prototype.greet = function () {\n",
    "  return this.name\n",
    "}\n",
    "\n",
    "var albert = new Person('Albert Einstein')\n",
    "console.log(albert.greet())"
   ]
  },
  {
   "cell_type": "markdown",
   "metadata": {},
   "source": [
    "## Invocation using apply() and call() methods"
   ]
  },
  {
   "cell_type": "code",
   "execution_count": 17,
   "metadata": {},
   "outputs": [
    {
     "data": {
      "text/plain": [
       "'Mary Doe'"
      ]
     },
     "execution_count": 17,
     "metadata": {},
     "output_type": "execute_result"
    }
   ],
   "source": [
    "// from w3schools\n",
    "var person = {\n",
    "    fullName: function() {\n",
    "        return this.firstName + \" \" + this.lastName;\n",
    "    }\n",
    "}\n",
    "\n",
    "var person1 = {\n",
    "    firstName: \"Mary\",\n",
    "    lastName: \"Doe\",\n",
    "}\n",
    "\n",
    "person.fullName.apply(person1);  // Will return 'Mary Doe'"
   ]
  },
  {
   "cell_type": "code",
   "execution_count": 18,
   "metadata": {},
   "outputs": [
    {
     "data": {
      "text/plain": [
       "'John Doe'"
      ]
     },
     "execution_count": 18,
     "metadata": {},
     "output_type": "execute_result"
    }
   ],
   "source": [
    "var person = {\n",
    "    fullName: function() {\n",
    "        return this.firstName + \" \" + this.lastName;\n",
    "    }\n",
    "}\n",
    "var person1 = {\n",
    "    firstName:\"John\",\n",
    "    lastName: \"Doe\",\n",
    "}\n",
    "\n",
    "var person2 = {\n",
    "    firstName:\"Mary\",\n",
    "    lastName: \"Doe\",\n",
    "}\n",
    "\n",
    "person.fullName.call(person1)  // Will return \"John Doe\""
   ]
  },
  {
   "cell_type": "code",
   "execution_count": 19,
   "metadata": {},
   "outputs": [
    {
     "data": {
      "text/plain": [
       "'Mary Doe'"
      ]
     },
     "execution_count": 19,
     "metadata": {},
     "output_type": "execute_result"
    }
   ],
   "source": [
    "person.fullName.call(person2)"
   ]
  },
  {
   "cell_type": "markdown",
   "metadata": {},
   "source": [
    "## Anonymous functions while creating an object\n",
    "An anonymous function can be assigned to an object property. When we do that, we can call that function with a dot (.) operator."
   ]
  },
  {
   "cell_type": "code",
   "execution_count": 20,
   "metadata": {},
   "outputs": [
    {
     "name": "stdout",
     "output_type": "stream",
     "text": [
      "ho ho ho\n"
     ]
    }
   ],
   "source": [
    "var santa = {\n",
    "  say : function(){\n",
    "          console.log(\"ho ho ho\");\n",
    "        }\n",
    "}\n",
    "\n",
    "santa.say()"
   ]
  },
  {
   "cell_type": "markdown",
   "metadata": {},
   "source": [
    "## Anonymous functions as a parameter to another function\n",
    "You are passing the anonymous function to another function. In the receiving function, you are executing the function passed as a parameter. This can be very convenient if you are creating single-use functions such as object methods or event handlers."
   ]
  },
  {
   "cell_type": "code",
   "execution_count": 1,
   "metadata": {},
   "outputs": [
    {
     "name": "stdout",
     "output_type": "stream",
     "text": [
      "Event fired\n"
     ]
    }
   ],
   "source": [
    "// function statement\n",
    "function eventHandler(event){\n",
    "  event()\n",
    "}\n",
    "\n",
    "eventHandler(function(){\n",
    "  //do a lot of event related things\n",
    "  console.log(\"Event fired\")\n",
    "})\n"
   ]
  },
  {
   "cell_type": "markdown",
   "metadata": {},
   "source": [
    "## Anonymous functions in conditional logic"
   ]
  },
  {
   "cell_type": "code",
   "execution_count": 7,
   "metadata": {},
   "outputs": [
    {
     "name": "stdout",
     "output_type": "stream",
     "text": [
      "xxx\n"
     ]
    }
   ],
   "source": [
    "var shape_name = \"SQUARE\"\n",
    "var shape\n",
    "\n",
    "if(shape_name === \"SQUARE\") {\n",
    "  shape = function() {\n",
    "    return \"xxx\"\n",
    "  }\n",
    "}\n",
    "else {\n",
    "  shape = function() {\n",
    "    return \"yyy\"\n",
    "  }\n",
    "}\n",
    "\n",
    "console.log(shape())"
   ]
  },
  {
   "cell_type": "markdown",
   "metadata": {},
   "source": [
    "## Closures\n",
    "Traditionally, closures have been a feature of purely functional programming languages. JavaScript shows its affinity with such functional programming languages by considering closures integral to the core language constructs. We discussed in great detail how lexical scope is determined at the function level in JavaScript. Lexical scope essentially determines where and how all identifiers are declared and predicts how they will be looked up during execution."
   ]
  },
  {
   "cell_type": "code",
   "execution_count": 8,
   "metadata": {},
   "outputs": [
    {
     "name": "stdout",
     "output_type": "stream",
     "text": [
      "I am outer\n"
     ]
    }
   ],
   "source": [
    "var outer = 'I am outer' // Define a value in global scope\n",
    "function outerFn() {     // Declare a a function in global scope\n",
    "  console.log(outer)\n",
    "}\n",
    "\n",
    "outerFn()"
   ]
  },
  {
   "cell_type": "markdown",
   "metadata": {},
   "source": [
    "This is really the most ordinary case of a closure. Some more examples: https://developer.mozilla.org/en-US/docs/Web/JavaScript/Closures. The word \"lexical\" refers to the fact that lexical scoping uses the location where a variable is declared within the source code to determine where that variable is available. Nested functions have access to variables declared in their outer scope."
   ]
  },
  {
   "cell_type": "code",
   "execution_count": 6,
   "metadata": {},
   "outputs": [
    {
     "data": {
      "application/javascript": [
       "function init() {\n",
       "  var name = \"Mozilla\"     // name is a local variable created by init\n",
       "  function displayName() { // displayName() is the inner function, a closure\n",
       "    alert (name);          // displayName() uses variable declared in the parent function    \n",
       "  }\n",
       "  displayName()    \n",
       "}\n",
       "\n",
       "init() // creates an alert with 'Mozilla'"
      ],
      "text/plain": [
       "<IPython.core.display.Javascript object>"
      ]
     },
     "metadata": {},
     "output_type": "display_data"
    }
   ],
   "source": [
    "%%javascript\n",
    "function init() {\n",
    "  var name = \"Mozilla\"     // name is a local variable created by init\n",
    "  function displayName() { // displayName() is the inner function, a closure\n",
    "    alert (name);          // displayName() uses variable declared in the parent function    \n",
    "  }\n",
    "  displayName()    \n",
    "}\n",
    "\n",
    "init() // creates an alert with 'Mozilla'"
   ]
  },
  {
   "cell_type": "code",
   "execution_count": 7,
   "metadata": {},
   "outputs": [
    {
     "data": {
      "application/javascript": [
       "// and the same here\n",
       "function makeFunc() {\n",
       "  var name = 'Mozilla'\n",
       "  function displayName() {\n",
       "    alert(name)\n",
       "  }\n",
       "  return displayName\n",
       "}\n",
       "\n",
       "var myFunc = makeFunc()\n",
       "myFunc()"
      ],
      "text/plain": [
       "<IPython.core.display.Javascript object>"
      ]
     },
     "metadata": {},
     "output_type": "display_data"
    }
   ],
   "source": [
    "%%javascript\n",
    "// and the same here\n",
    "function makeFunc() {\n",
    "  var name = 'Mozilla'\n",
    "  function displayName() {\n",
    "    alert(name)\n",
    "  }\n",
    "  return displayName\n",
    "}\n",
    "\n",
    "var myFunc = makeFunc()\n",
    "myFunc()"
   ]
  },
  {
   "cell_type": "markdown",
   "metadata": {},
   "source": [
    "The reason this works is that functions in JavaScript form closures. A closure is the combination of a function and the lexical environment within which that function was declared, so the variable 'name' is not destroyed."
   ]
  },
  {
   "cell_type": "code",
   "execution_count": 8,
   "metadata": {},
   "outputs": [
    {
     "data": {
      "application/javascript": [
       "// a further example\n",
       "function makeAdder(x) {\n",
       "  return function(y) {\n",
       "    return x + y\n",
       "  }\n",
       "}\n",
       "\n",
       "var add5 = makeAdder(5)\n",
       "alert(add5(2))  // 7"
      ],
      "text/plain": [
       "<IPython.core.display.Javascript object>"
      ]
     },
     "metadata": {},
     "output_type": "display_data"
    }
   ],
   "source": [
    "%%javascript\n",
    "// a further example\n",
    "function makeAdder(x) {\n",
    "  return function(y) {\n",
    "    return x + y\n",
    "  }\n",
    "}\n",
    "\n",
    "var add5 = makeAdder(5)\n",
    "alert(add5(2))  // 7"
   ]
  },
  {
   "cell_type": "code",
   "execution_count": 1,
   "metadata": {},
   "outputs": [
    {
     "data": {
      "application/javascript": [
       "// an example from the book\n",
       "var outer = 'Outer'\n",
       "var copy\n",
       "function outerFn(){\n",
       " var inner = 'Inner'\n",
       " function innerFn(){\n",
       "   alert(outer + \" \" + inner)\n",
       " }\n",
       " copy=innerFn\n",
       "}\n",
       "outerFn()\n",
       "copy() //Cant invoke innerFn() directly but can invoke via a variable declared in global scope\n",
       "// alerts \"Outer Inner\""
      ],
      "text/plain": [
       "<IPython.core.display.Javascript object>"
      ]
     },
     "metadata": {},
     "output_type": "display_data"
    }
   ],
   "source": [
    "%%javascript\n",
    "// an example from the book\n",
    "var outer = 'Outer'\n",
    "var copy\n",
    "function outerFn(){\n",
    " var inner = 'Inner'\n",
    " function innerFn(){\n",
    "   alert(outer + \" \" + inner)\n",
    " }\n",
    " copy=innerFn\n",
    "}\n",
    "outerFn()\n",
    "copy() //Cant invoke innerFn() directly but can invoke via a variable declared in global scope\n",
    "// alerts \"Outer Inner\""
   ]
  },
  {
   "cell_type": "markdown",
   "metadata": {
    "collapsed": true
   },
   "source": [
    "A closure was created that encompasses not only the function declaration, but also all the variables that are in scope at the point of the declaration."
   ]
  },
  {
   "cell_type": "markdown",
   "metadata": {},
   "source": [
    "## Timers and callbacks"
   ]
  },
  {
   "cell_type": "code",
   "execution_count": 3,
   "metadata": {},
   "outputs": [
    {
     "data": {
      "application/javascript": [
       "function delay(message) {\n",
       "  setTimeout(function timerFn(){alert(message)}, 1000)\n",
       "}\n",
       "delay(\"Hello World\")"
      ],
      "text/plain": [
       "<IPython.core.display.Javascript object>"
      ]
     },
     "metadata": {},
     "output_type": "display_data"
    }
   ],
   "source": [
    "%%javascript\n",
    "function delay(message) {\n",
    "  setTimeout(function timerFn(){alert(message)}, 1000)\n",
    "}\n",
    "delay(\"Hello World\")"
   ]
  },
  {
   "cell_type": "markdown",
   "metadata": {},
   "source": [
    "## Private variables\n",
    "By using closures, we can achieve similar encapsulation."
   ]
  },
  {
   "cell_type": "code",
   "execution_count": 7,
   "metadata": {},
   "outputs": [
    {
     "data": {
      "application/javascript": [
       "function privateTest(){\n",
       "  var points = 0\n",
       "  this.getPoints = function(){return points}\n",
       "  this.score = function(){points++}\n",
       "}\n",
       "\n",
       "var p = new privateTest()\n",
       "p.score()\n",
       "alert(p.points)      // undefined\n",
       "alert(p.getPoints()) // 1"
      ],
      "text/plain": [
       "<IPython.core.display.Javascript object>"
      ]
     },
     "metadata": {},
     "output_type": "display_data"
    }
   ],
   "source": [
    "%%javascript\n",
    "function privateTest(){\n",
    "  var points = 0\n",
    "  this.getPoints = function(){return points}\n",
    "  this.score = function(){points++}\n",
    "}\n",
    "\n",
    "var p = new privateTest()\n",
    "p.score()\n",
    "alert(p.points)      // undefined\n",
    "alert(p.getPoints()) // 1"
   ]
  },
  {
   "cell_type": "markdown",
   "metadata": {},
   "source": [
    "## Loops and closures"
   ]
  },
  {
   "cell_type": "code",
   "execution_count": 10,
   "metadata": {},
   "outputs": [
    {
     "data": {
      "application/javascript": [
       "for (var i=1; i<=3; i++) {\n",
       "  setTimeout(function delay(){alert(i)}, i*100)\n",
       "}"
      ],
      "text/plain": [
       "<IPython.core.display.Javascript object>"
      ]
     },
     "metadata": {},
     "output_type": "display_data"
    }
   ],
   "source": [
    "%%javascript\n",
    "for (var i=1; i<=3; i++) {\n",
    "  setTimeout(function delay(){alert(i)}, i*100)\n",
    "}\n",
    "// alerts 4, 4, 4"
   ]
  },
  {
   "cell_type": "markdown",
   "metadata": {},
   "source": [
    "By the time that the delay function has been called i is already incremented to 4. This is such a common problem that JSLint\n",
    "will warn you if you try to use functions this way inside a loop. How can we fix this behavior? We can introduce a function scope and local copy of the i variable in that scope."
   ]
  },
  {
   "cell_type": "code",
   "execution_count": 11,
   "metadata": {},
   "outputs": [
    {
     "data": {
      "application/javascript": [
       "for (var i=1; i<=3; i++) {\n",
       " (function(j){setTimeout( function delay(){alert( j )}, j*100)})( i )\n",
       "} // pass in i to a function taking a param j and alert j on each timeout"
      ],
      "text/plain": [
       "<IPython.core.display.Javascript object>"
      ]
     },
     "metadata": {},
     "output_type": "display_data"
    }
   ],
   "source": [
    "%%javascript\n",
    "for (var i=1; i<=3; i++) {\n",
    " (function(j){setTimeout( function delay(){alert( j )}, j*100)})( i )\n",
    "} // pass in i to a function taking a param j and alert j on each timeout 1, 2, 3"
   ]
  },
  {
   "cell_type": "markdown",
   "metadata": {},
   "source": [
    "## Modules\n",
    "Modules are used to mimic classes and focus on public and private access to variables and functions. Modules help in reducing the global scope pollution. Effective use of modules can reduce name collisions across a large code base. The format is:"
   ]
  },
  {
   "cell_type": "code",
   "execution_count": 13,
   "metadata": {},
   "outputs": [
    {
     "data": {
      "application/javascript": [
       "var moduleName = function() {\n",
       " //private state\n",
       " //private functions\n",
       " return {\n",
       " //public state\n",
       " //public variables\n",
       " }\n",
       "}"
      ],
      "text/plain": [
       "<IPython.core.display.Javascript object>"
      ]
     },
     "metadata": {},
     "output_type": "display_data"
    }
   ],
   "source": [
    "%%javascript\n",
    "var moduleName = function() {\n",
    " //private state\n",
    " //private functions\n",
    " return {\n",
    " //public state\n",
    " //public variables\n",
    " }\n",
    "}"
   ]
  },
  {
   "cell_type": "markdown",
   "metadata": {},
   "source": [
    "And a more concrete example..."
   ]
  },
  {
   "cell_type": "code",
   "execution_count": 14,
   "metadata": {},
   "outputs": [
    {
     "data": {
      "application/javascript": [
       "var superModule = (function (){\n",
       " var secret = 'supersecretkey'\n",
       " var passcode = 'nuke'\n",
       " \n",
       " function getSecret() {\n",
       "   return( secret )\n",
       " }\n",
       "    \n",
       " function getPassCode() {\n",
       "   return( passcode )\n",
       " }\n",
       "\n",
       " return {\n",
       "   getSecret: getSecret,\n",
       "   getPassCode: getPassCode\n",
       " }\n",
       "})()\n",
       "\n",
       "alert(superModule.getSecret())\n",
       "alert(superModule.getPassCode())"
      ],
      "text/plain": [
       "<IPython.core.display.Javascript object>"
      ]
     },
     "metadata": {},
     "output_type": "display_data"
    }
   ],
   "source": [
    "%%javascript\n",
    "var superModule = (function (){\n",
    " var secret = 'supersecretkey'\n",
    " var passcode = 'nuke'\n",
    " \n",
    " function getSecret() {\n",
    "   return( secret )\n",
    " }\n",
    "    \n",
    " function getPassCode() {\n",
    "   return( passcode )\n",
    " }\n",
    "\n",
    " return {\n",
    "   getSecret: getSecret,\n",
    "   getPassCode: getPassCode\n",
    " }\n",
    "})()\n",
    "\n",
    "alert(superModule.getSecret())\n",
    "alert(superModule.getPassCode())\n"
   ]
  }
 ],
 "metadata": {
  "anaconda-cloud": {},
  "kernelspec": {
   "display_name": "Python 2",
   "language": "python",
   "name": "python2"
  },
  "language_info": {
   "codemirror_mode": {
    "name": "ipython",
    "version": 2
   },
   "file_extension": ".py",
   "mimetype": "text/x-python",
   "name": "python",
   "nbconvert_exporter": "python",
   "pygments_lexer": "ipython2",
   "version": "2.7.14"
  }
 },
 "nbformat": 4,
 "nbformat_minor": 2
}
