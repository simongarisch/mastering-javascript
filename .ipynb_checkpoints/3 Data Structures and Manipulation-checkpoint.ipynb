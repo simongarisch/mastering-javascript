{
 "cells": [
  {
   "cell_type": "markdown",
   "metadata": {},
   "source": [
    "# Data Structures and Manipulation\n",
    "## Regular expressions\n",
    "Some flags for RegEx:\n",
    "* i is case-insensitive\n",
    "* g matches all instances of the pattern as opposed to the default of local\n",
    "* m allows matches across multiple lines"
   ]
  },
  {
   "cell_type": "code",
   "execution_count": 15,
   "metadata": {
    "collapsed": false
   },
   "outputs": [
    {
     "name": "stdout",
     "output_type": "stream",
     "text": [
      "true\n",
      "true\n",
      "true\n"
     ]
    }
   ],
   "source": [
    "var pattern = /orange/\n",
    "console.log(pattern.test(\"orange\")) // true\n",
    "\n",
    "var patternIgnoreCase = /orange/i\n",
    "console.log(patternIgnoreCase.test(\"Orange\")) // true\n",
    "\n",
    "var patternGlobal = /orange/ig\n",
    "console.log(patternGlobal.test(\"Orange Juice\")) // true\n"
   ]
  },
  {
   "cell_type": "code",
   "execution_count": 16,
   "metadata": {
    "collapsed": false
   },
   "outputs": [
    {
     "name": "stdout",
     "output_type": "stream",
     "text": [
      "true\n",
      "true\n",
      "false\n"
     ]
    }
   ],
   "source": [
    "var pattern = /[abc]/    // match against a set of characters\n",
    "console.log(pattern.test('a')) // true\n",
    "console.log(pattern.test('c')) // true\n",
    "console.log(pattern.test('d')) // false\n"
   ]
  },
  {
   "cell_type": "code",
   "execution_count": 17,
   "metadata": {
    "collapsed": false
   },
   "outputs": [
    {
     "name": "stdout",
     "output_type": "stream",
     "text": [
      "false\n",
      "false\n",
      "true\n"
     ]
    }
   ],
   "source": [
    "var pattern = /[^abc]/   // the caret signals to match anything but the pattern\n",
    "console.log(pattern.test('a')) // false\n",
    "console.log(pattern.test('c')) // false\n",
    "console.log(pattern.test('d')) // true\n"
   ]
  },
  {
   "cell_type": "code",
   "execution_count": 18,
   "metadata": {
    "collapsed": false
   },
   "outputs": [
    {
     "name": "stdout",
     "output_type": "stream",
     "text": [
      "true\n",
      "true\n",
      "false\n",
      "false\n",
      "true\n"
     ]
    }
   ],
   "source": [
    "var pattern = /[0-5]/\n",
    "console.log(pattern.test(3))      // true\n",
    "console.log(pattern.test(12345))  // true\n",
    "console.log(pattern.test(9))      // false\n",
    "console.log(pattern.test(6789))   //false\n",
    "console.log(/[0123456789]/.test(\"This is year 2015\")) //true\n"
   ]
  },
  {
   "cell_type": "code",
   "execution_count": 19,
   "metadata": {
    "collapsed": false
   },
   "outputs": [
    {
     "name": "stdout",
     "output_type": "stream",
     "text": [
      "[ 'Toy',\n",
      "  index: 2,\n",
      "  input: 'A Toyota! Race fast, safe car! A Toyota!' ]\n"
     ]
    }
   ],
   "source": [
    "var strToMatch = 'A Toyota! Race fast, safe car! A Toyota!'\n",
    "var regExAt = /Toy/g\n",
    "var arrMatches = regExAt.exec(strToMatch)\n",
    "console.log(arrMatches)"
   ]
  },
  {
   "cell_type": "markdown",
   "metadata": {},
   "source": [
    "## Arrays"
   ]
  },
  {
   "cell_type": "code",
   "execution_count": 20,
   "metadata": {
    "collapsed": false
   },
   "outputs": [
    {
     "name": "stdout",
     "output_type": "stream",
     "text": [
      "1,2,3... of length 3\n"
     ]
    }
   ],
   "source": [
    "// there are 3 ways to create new arrays in js\n",
    "var arr1 = new Array(1,2,3)\n",
    "var arr2 = Array(1,2,3)\n",
    "var arr3 = [1,2,3]\n",
    "console.log(arr3  + \"... of length \"+ arr3.length)"
   ]
  },
  {
   "cell_type": "code",
   "execution_count": 21,
   "metadata": {
    "collapsed": false
   },
   "outputs": [
    {
     "name": "stdout",
     "output_type": "stream",
     "text": [
      "[ 'Sunday', 'Monday' ]\n"
     ]
    }
   ],
   "source": [
    "var days = []\n",
    "days[0] = \"Sunday\"\n",
    "days[1] = \"Monday\"\n",
    "console.log(days)"
   ]
  },
  {
   "cell_type": "code",
   "execution_count": 22,
   "metadata": {
    "collapsed": false
   },
   "outputs": [
    {
     "name": "stdout",
     "output_type": "stream",
     "text": [
      "[ 'Mango', 'Apple', 'Orange' ]\n"
     ]
    }
   ],
   "source": [
    "// or we sould just define the array up front\n",
    "var fruits = [\"Mango\", \"Apple\", \"Orange\"]\n",
    "console.log(fruits)"
   ]
  },
  {
   "cell_type": "code",
   "execution_count": 23,
   "metadata": {
    "collapsed": false
   },
   "outputs": [
    {
     "name": "stdout",
     "output_type": "stream",
     "text": [
      "[ 'string',\n",
      "  42,\n",
      "  true,\n",
      "  false,\n",
      "  null,\n",
      "  undefined,\n",
      "  [ 'sub', 'array' ],\n",
      "  { object: true },\n",
      "  NaN ]\n"
     ]
    }
   ],
   "source": [
    "// js allows you to put any types into an array\n",
    "var arr = [\n",
    " 'string', 42.0, true, false, null, undefined,\n",
    " ['sub', 'array'], {object: true}, NaN\n",
    "]\n",
    "console.log(arr)"
   ]
  },
  {
   "cell_type": "code",
   "execution_count": 25,
   "metadata": {
    "collapsed": false
   },
   "outputs": [
    {
     "name": "stdout",
     "output_type": "stream",
     "text": [
      "Sunday, Monday, Monday\n"
     ]
    }
   ],
   "source": [
    "var days = [\"Sunday\", \"Monday\", \"Tuesday\"]\n",
    "console.log(days[0] + \", \" + days[1] + \", \" + days[1])"
   ]
  },
  {
   "cell_type": "code",
   "execution_count": 26,
   "metadata": {
    "collapsed": false
   },
   "outputs": [
    {
     "name": "stdout",
     "output_type": "stream",
     "text": [
      "[ 0, 1, 2, 3, 4, 5, 6, 7, 8, 9 ]\n"
     ]
    }
   ],
   "source": [
    "var arr = []\n",
    "for(var i=0; i<10; i++){\n",
    "  arr[i] = i\n",
    "}\n",
    "console.log(arr)"
   ]
  },
  {
   "cell_type": "code",
   "execution_count": 27,
   "metadata": {
    "collapsed": false
   },
   "outputs": [
    {
     "name": "stdout",
     "output_type": "stream",
     "text": [
      "3\n",
      "[ 'Red', 'Blue' ]\n",
      "[]\n",
      "[ <3 empty items> ]\n"
     ]
    }
   ],
   "source": [
    "var colors = ['Red', 'Blue', 'Yellow']\n",
    "console.log(colors.length) // 3\n",
    "colors.length = 2\n",
    "console.log(colors) // [\"Red\",\"Blue\"] - Yellow has been removed\n",
    "colors.length = 0\n",
    "console.log(colors) // [] the colors array is empty\n",
    "colors.length = 3\n",
    "console.log(colors) // [undefined, undefined, undefined]"
   ]
  },
  {
   "cell_type": "code",
   "execution_count": 28,
   "metadata": {
    "collapsed": false
   },
   "outputs": [
    {
     "name": "stdout",
     "output_type": "stream",
     "text": [
      ", red, green, blue\n"
     ]
    }
   ],
   "source": [
    "// we can loop over the elements\n",
    "var colors = ['red', 'green', 'blue']\n",
    "var colorsStr = \"\"\n",
    "for (var i = 0; i < colors.length; i++) {\n",
    " colorsStr += \", \" + colors[i]\n",
    "}\n",
    "console.log(colorsStr)"
   ]
  },
  {
   "cell_type": "code",
   "execution_count": 30,
   "metadata": {
    "collapsed": false
   },
   "outputs": [
    {
     "name": "stdout",
     "output_type": "stream",
     "text": [
      "red\n",
      "green\n",
      "blue\n"
     ]
    }
   ],
   "source": [
    "// alternatively we can use for each\n",
    "var colors = ['red', 'green', 'blue']\n",
    "colors.forEach(function(color) {\n",
    " console.log(color)\n",
    "})"
   ]
  },
  {
   "cell_type": "markdown",
   "metadata": {},
   "source": [
    "The array object has several useful methods...\n",
    "* The concat() method joins two arrays and returns a new array\n",
    "* The join() method joins all the elements of an array into a string\n",
    "* The pop() method removes the last element from an array and returns that element\n",
    "* The push() method adds one or more elements to the end of an array and returns the resulting length of the array\n",
    "* The shift() method removes the first element from an array and returns that element\n",
    "* The unshift() method adds one or more elements to the front of an array and returns the new length of the array\n",
    "* The reverse() method reverses or transposes the elements of an array\n",
    "* The sort() method sorts the elements of an array"
   ]
  },
  {
   "cell_type": "code",
   "execution_count": 31,
   "metadata": {
    "collapsed": false
   },
   "outputs": [
    {
     "name": "stdout",
     "output_type": "stream",
     "text": [
      "[ '33', '44', '55', '3', '2', '1' ]\n"
     ]
    }
   ],
   "source": [
    "// The concat() method joins two arrays and returns a new array:\n",
    "var myArray = Array(\"33\", \"44\", \"55\")\n",
    "myArray = myArray.concat(\"3\", \"2\", \"1\");\n",
    "console.log(myArray);"
   ]
  },
  {
   "cell_type": "code",
   "execution_count": 32,
   "metadata": {
    "collapsed": false
   },
   "outputs": [
    {
     "name": "stdout",
     "output_type": "stream",
     "text": [
      "Red ~ Blue ~ Yellow\n"
     ]
    }
   ],
   "source": [
    "// The join() method joins all the elements of an array into a string.\n",
    "var myArray = new Array('Red','Blue','Yellow')\n",
    "var list = myArray.join(\" ~ \")\n",
    "console.log(list)"
   ]
  },
  {
   "cell_type": "code",
   "execution_count": 33,
   "metadata": {
    "collapsed": false
   },
   "outputs": [
    {
     "name": "stdout",
     "output_type": "stream",
     "text": [
      "[ '1', '2' ]\n",
      "3\n"
     ]
    }
   ],
   "source": [
    "// The pop() method removes the last element from an array and returns that element.\n",
    "var myArray = Array(\"1\", \"2\", \"3\")\n",
    "var last = myArray.pop()\n",
    "console.log(myArray)\n",
    "console.log(last)"
   ]
  },
  {
   "cell_type": "code",
   "execution_count": 34,
   "metadata": {
    "collapsed": false
   },
   "outputs": [
    {
     "name": "stdout",
     "output_type": "stream",
     "text": [
      "[ '1', '2', '3' ]\n"
     ]
    }
   ],
   "source": [
    "// The push() method adds one or more elements to the end of an array and returns the resulting length of the array\n",
    "var myArray = Array(\"1\", \"2\")\n",
    "myArray.push(\"3\")\n",
    "console.log(myArray)"
   ]
  },
  {
   "cell_type": "code",
   "execution_count": 35,
   "metadata": {
    "collapsed": false
   },
   "outputs": [
    {
     "name": "stdout",
     "output_type": "stream",
     "text": [
      "1\n",
      "[ '2', '3' ]\n"
     ]
    }
   ],
   "source": [
    "// The shift() method removes the first element from an array and returns that element\n",
    "var myArray = Array (\"1\", \"2\", \"3\")\n",
    "var first = myArray.shift()\n",
    "console.log(first)\n",
    "console.log(myArray)"
   ]
  },
  {
   "cell_type": "code",
   "execution_count": 36,
   "metadata": {
    "collapsed": false
   },
   "outputs": [
    {
     "name": "stdout",
     "output_type": "stream",
     "text": [
      "[ '4', '5', '1', '2', '3' ]\n"
     ]
    }
   ],
   "source": [
    "// The unshift() method adds one or more elements to the front of an array and returns the new length of the array\n",
    "var myArray = Array(\"1\", \"2\", \"3\")\n",
    "myArray.unshift(\"4\", \"5\")\n",
    "console.log(myArray)"
   ]
  },
  {
   "cell_type": "code",
   "execution_count": 37,
   "metadata": {
    "collapsed": false
   },
   "outputs": [
    {
     "name": "stdout",
     "output_type": "stream",
     "text": [
      "[ '3', '2', '1' ]\n"
     ]
    }
   ],
   "source": [
    "// The reverse() method reverses or transposes the elements of an array\n",
    "var myArray = Array(\"1\", \"2\", \"3\")\n",
    "myArray.reverse()\n",
    "console.log(myArray)"
   ]
  },
  {
   "cell_type": "code",
   "execution_count": 38,
   "metadata": {
    "collapsed": false
   },
   "outputs": [
    {
     "name": "stdout",
     "output_type": "stream",
     "text": [
      "[ 'A', 'B', 'C' ]\n"
     ]
    }
   ],
   "source": [
    "// The sort() method sorts the elements of an array:\n",
    "var myArray = Array(\"A\", \"C\", \"B\")\n",
    "myArray.sort()\n",
    "console.log(myArray)"
   ]
  },
  {
   "cell_type": "markdown",
   "metadata": {},
   "source": [
    "The sort() method can optionally take a callback function to define how the elements are compared. Now run 'npm install underscore' as the author covers this module."
   ]
  },
  {
   "cell_type": "markdown",
   "metadata": {},
   "source": [
    "## Maps\n",
    "A map is a simple key-value map and can iterate its elements in the order of their insertion."
   ]
  },
  {
   "cell_type": "code",
   "execution_count": 6,
   "metadata": {
    "collapsed": false
   },
   "outputs": [
    {
     "name": "stdout",
     "output_type": "stream",
     "text": [
      "2\n",
      "****************\n",
      "undefined\n",
      "false\n",
      "facebook founded by mark\n",
      "google founded by larry\n"
     ]
    }
   ],
   "source": [
    "var founders = new Map()\n",
    "founders.set(\"facebook\", \"mark\")\n",
    "founders.set(\"google\", \"larry\")\n",
    "console.log(founders.size) // 2\n",
    "console.log(\"****************\")\n",
    "\n",
    "console.log(founders.get(\"twitter\")) // undefined\n",
    "console.log(founders.has(\"yahoo\"))   // false\n",
    "for (var [key, value] of founders) {\n",
    "  console.log(key + \" founded by \" + value);\n",
    "}\n"
   ]
  },
  {
   "cell_type": "markdown",
   "metadata": {},
   "source": [
    "## Sets\n",
    "Sets are collections of values and can be iterated in the order of the insertion of their elements. An important characteristic about sets is that a value can occur only once in a set."
   ]
  },
  {
   "cell_type": "code",
   "execution_count": 9,
   "metadata": {
    "collapsed": false
   },
   "outputs": [
    {
     "name": "stdout",
     "output_type": "stream",
     "text": [
      "Set { 1, 'Howdy', 'foo' }\n",
      "******\n",
      "true\n",
      "2\n",
      "******\n",
      "1\n",
      "Howdy\n"
     ]
    }
   ],
   "source": [
    "var mySet = new Set()\n",
    "mySet.add(1)\n",
    "mySet.add(\"Howdy\")\n",
    "mySet.add(\"foo\")\n",
    "console.log(mySet)\n",
    "console.log(\"******\")\n",
    "\n",
    "console.log(mySet.has(1)) // true\n",
    "mySet.delete(\"foo\")\n",
    "console.log(mySet.size)   // 2\n",
    "console.log(\"******\")\n",
    "\n",
    "for (var item of mySet) console.log(item)"
   ]
  }
 ],
 "metadata": {
  "anaconda-cloud": {},
  "kernelspec": {
   "display_name": "Javascript (Node.js)",
   "language": "javascript",
   "name": "javascript"
  },
  "language_info": {
   "file_extension": ".js",
   "mimetype": "application/javascript",
   "name": "javascript",
   "version": "8.9.1"
  }
 },
 "nbformat": 4,
 "nbformat_minor": 2
}
