{
 "cells": [
  {
   "cell_type": "markdown",
   "metadata": {},
   "source": [
    "## Object-Oriented JavaScript\n",
    "JavaScript's most fundamental data type is the Object data type."
   ]
  },
  {
   "cell_type": "code",
   "execution_count": 2,
   "metadata": {},
   "outputs": [
    {
     "name": "stdout",
     "output_type": "stream",
     "text": [
      "Douglas\n",
      "Crockford\n",
      "JavaScript- The Good Parts\n"
     ]
    }
   ],
   "source": [
    "var author = {\n",
    "  firstname : \"Douglas\",\n",
    "  lastname : \"Crockford\",\n",
    "  book : {\n",
    "    title:\"JavaScript- The Good Parts\",\n",
    "    pages:\"172\"\n",
    "  }\n",
    "}\n",
    "\n",
    "// Properties of an object can be accessed by using two notations: the array-like notation and dot notation.\n",
    "console.log(author['firstname'])\n",
    "console.log(author.lastname)\n",
    "console.log(author.book.title)"
   ]
  },
  {
   "cell_type": "code",
   "execution_count": 5,
   "metadata": {},
   "outputs": [
    {
     "name": "stdout",
     "output_type": "stream",
     "text": [
      "Douglas\n",
      "No Age Found\n"
     ]
    }
   ],
   "source": [
    "// we can use || for default values\n",
    "console.log(author.firstname || \"No first name is provided\")\n",
    "console.log(author.age || \"No Age Found\")"
   ]
  },
  {
   "cell_type": "markdown",
   "metadata": {},
   "source": [
    "Methods are properties of an object that can hold function values as follows"
   ]
  },
  {
   "cell_type": "code",
   "execution_count": 6,
   "metadata": {},
   "outputs": [
    {
     "name": "stdout",
     "output_type": "stream",
     "text": [
      "booked meeting room -VL\n"
     ]
    }
   ],
   "source": [
    "var meetingRoom = {}\n",
    "meetingRoom.book = function(roomId){\n",
    "  console.log(\"booked meeting room -\" + roomId)\n",
    "}\n",
    "meetingRoom.book(\"VL\")"
   ]
  },
  {
   "cell_type": "markdown",
   "metadata": {},
   "source": [
    "## Prototypes\n",
    "Apart from the properties that we add to an object, there is one default property for almost all objects, called a prototype. When an object does not have a requested property, JavaScript goes to its prototype to look for it. The Object.\n",
    "getPrototypeOf() function returns the prototype of an object. Prototypes can be seen as blueprints for object creation.\n",
    "They can be seen as analogous to classes in object-oriented languages. Prototypes in JavaScript are used to write a classical style object-oriented code and mimic classical inheritance."
   ]
  },
  {
   "cell_type": "code",
   "execution_count": 14,
   "metadata": {},
   "outputs": [
    {
     "data": {
      "text/plain": [
       "[Function]"
      ]
     },
     "execution_count": 14,
     "metadata": {},
     "output_type": "execute_result"
    }
   ],
   "source": [
    "function Player() {}\n",
    "\n",
    "//Add a function to the prototype property of the function\n",
    "Player.prototype.usesBat = function() {\n",
    "  return true\n",
    "}\n"
   ]
  },
  {
   "cell_type": "code",
   "execution_count": 15,
   "metadata": {},
   "outputs": [
    {
     "data": {
      "text/plain": [
       "[Function: Player]"
      ]
     },
     "execution_count": 15,
     "metadata": {},
     "output_type": "execute_result"
    }
   ],
   "source": [
    "Player"
   ]
  },
  {
   "cell_type": "code",
   "execution_count": 16,
   "metadata": {},
   "outputs": [
    {
     "name": "stdout",
     "output_type": "stream",
     "text": [
      "CrazyBob is not defined\n"
     ]
    }
   ],
   "source": [
    "var crazyBob = Player()\n",
    "if(crazyBob === undefined){\n",
    "  console.log(\"CrazyBob is not defined\")\n",
    "}"
   ]
  },
  {
   "cell_type": "code",
   "execution_count": 17,
   "metadata": {},
   "outputs": [
    {
     "name": "stdout",
     "output_type": "stream",
     "text": [
      "SwingJay exists and can use bat\n"
     ]
    }
   ],
   "source": [
    "//Now we call player() as a constructor along with 'new'\n",
    "//1. The instance is created\n",
    "//2. method usesBat() is derived from the prototype of the function\n",
    "\n",
    "var swingJay = new Player()\n",
    "if(swingJay && swingJay.usesBat && swingJay.usesBat()){\n",
    "  console.log(\"SwingJay exists and can use bat\")\n",
    "}"
   ]
  },
  {
   "cell_type": "markdown",
   "metadata": {},
   "source": [
    "## Instance properties versus prototype properties\n",
    "When we have the same functions defined as an instance property and also as a prototype, the instance property takes precedence.\n",
    "* Properties are tied to the object instance from the prototype\n",
    "* Properties are tied to the object instance in the constructor function"
   ]
  },
  {
   "cell_type": "code",
   "execution_count": 21,
   "metadata": {},
   "outputs": [
    {
     "name": "stdout",
     "output_type": "stream",
     "text": [
      "Instance method says - he is hired\n"
     ]
    }
   ],
   "source": [
    "// Instance properties are the properties that are part of the object instance itself\n",
    "function Player() {\n",
    "  this.isAvailable = function() {\n",
    "    return \"Instance method says - he is hired\"\n",
    "  }\n",
    "}\n",
    "\n",
    "Player.prototype.isAvailable = function() {\n",
    "  return \"Prototype method says - he is Not hired\"\n",
    "}\n",
    "\n",
    "var crazyBob = new Player()\n",
    "console.log(crazyBob.isAvailable())"
   ]
  },
  {
   "cell_type": "markdown",
   "metadata": {},
   "source": [
    "In JavaScript, the value of this is determined by the invocation context of a function and where it is called. Let's see how this behavior needs to be carefully understood."
   ]
  },
  {
   "cell_type": "code",
   "execution_count": 26,
   "metadata": {},
   "outputs": [
    {
     "name": "stdout",
     "output_type": "stream",
     "text": [
      "15\n"
     ]
    }
   ],
   "source": [
    "console.log(String(this).length) // When this is called in a global context, it is bound to the global context"
   ]
  },
  {
   "cell_type": "code",
   "execution_count": 27,
   "metadata": {},
   "outputs": [
    {
     "name": "stdout",
     "output_type": "stream",
     "text": [
      "{ name: 'f', func: [Function: func] }\n"
     ]
    }
   ],
   "source": [
    "// When this is used in an object method: In this case, this is assigned or bound to the enclosing object.\n",
    "var f = {\n",
    "  name: \"f\",\n",
    "  func: function () {\n",
    "    return this;\n",
    "  }\n",
    "}\n",
    "\n",
    "console.log(f.func())"
   ]
  },
  {
   "cell_type": "markdown",
   "metadata": {},
   "source": [
    "function, when invoked without any object, does not get any context. By default, it is bound to the global context. When you\n",
    "use this in such a function, it is also bound to the global context. As we saw earlier, when a function is called with a new keyword, it acts as a constructor. In the case of a constructor, this points to the object being constructed."
   ]
  },
  {
   "cell_type": "code",
   "execution_count": 30,
   "metadata": {},
   "outputs": [
    {
     "name": "stdout",
     "output_type": "stream",
     "text": [
      "f\n"
     ]
    }
   ],
   "source": [
    "var member = \"global\"\n",
    "function f(){\n",
    "  this.member = \"f\"\n",
    "}\n",
    "var o = new f();\n",
    "console.log(o.member)"
   ]
  },
  {
   "cell_type": "code",
   "execution_count": 31,
   "metadata": {},
   "outputs": [
    {
     "name": "stdout",
     "output_type": "stream",
     "text": [
      "false\n"
     ]
    }
   ],
   "source": [
    "function Player() {\n",
    "  isAvailable=false\n",
    "}\n",
    "\n",
    "var crazyBob = new Player()\n",
    "Player.prototype.isAvailable = function() {\n",
    "  return isAvailable\n",
    "}\n",
    "console.log(crazyBob.isAvailable())"
   ]
  },
  {
   "cell_type": "code",
   "execution_count": 16,
   "metadata": {},
   "outputs": [
    {
     "data": {
      "application/javascript": [
       "function Player(name,sport,age,country){\n",
       "  this.constructor.noOfPlayers++\n",
       "     \n",
       "  // Private Properties and Functions can only be viewed, edited or invoked by privileged members\n",
       "  var retirementAge = 40\n",
       "  var available = true\n",
       "  var playerAge = age ? age : 18\n",
       "     \n",
       "  function isAvailable(){ \n",
       "    return available && (playerAge < retirementAge)\n",
       "  }\n",
       "\n",
       "  var playerName = name ? name : \"Unknown\"\n",
       "  var playerSport = sport ? sport : \"Unknown\"\n",
       "  \n",
       "  // Privileged Methods can be invoked from outside and can access private members\n",
       "  // Can be replaced with public counterparts\n",
       "  this.book=function(){\n",
       "    if (!isAvailable()){\n",
       "      this.available=false\n",
       "    } else {\n",
       "      console.log(\"Player is unavailable\")\n",
       "    } \n",
       "  }\n",
       "\n",
       "  this.getSport=function(){ return playerSport }\n",
       "\n",
       "  // Public properties, modifiable from anywhere\n",
       "  this.batPreference = \"Lefty\"\n",
       "  this.hasCelebGirlfriend =false\n",
       "  this.endorses=\"Super Brand\"\n",
       "}\n",
       "// Public methods - can be read or written by anyone\n",
       "// Can only access public and prototype properties\n",
       "Player.prototype.switchHands = function(){ this. batPreference = \"righty\" };\n",
       "Player.prototype.dateCeleb = function(){ this.hasCelebGirlfriend = true };\n",
       "Player.prototype.fixEyes = function(){ this.wearGlasses = false };\n",
       "// Prototype Properties - can be read or written by anyone (or overridden)\n",
       "Player.prototype.wearsGlasses = true\n",
       "// Static Properties - anyone can read or write\n",
       "Player.noOfPlayers = 0;\n",
       "\n",
       "(function PlayerTest(){\n",
       "     //New instance of the Player object created.\n",
       "     var cricketer=new Player(\"Vivian\",\"Cricket\",23,\"England\");\n",
       "     var golfer =new Player(\"Pete\",\"Golf\",32,\"USA\");\n",
       "     console.log(\"So far there are \" + Player.noOfPlayers + \" in the guild\");\n",
       "     //Both these functions share the common 'Player.prototype. wearsGlasses' variable\n",
       "     cricketer.fixEyes();\n",
       "     golfer.fixEyes();\n",
       "     cricketer.endorses=\"Other Brand\";//public variable can be updated\n",
       "     //Both Player's public method is now changed via their prototype\n",
       "     Player.prototype.fixEyes=function(){\n",
       "       this.wearGlasses=true;\n",
       "     };\n",
       "     //Only Cricketer's function is changed\n",
       "     cricketer.switchHands=function(){\n",
       "       this.batPreference=\"undecided\";\n",
       "     };\n",
       "})();"
      ],
      "text/plain": [
       "<IPython.core.display.Javascript object>"
      ]
     },
     "metadata": {},
     "output_type": "display_data"
    }
   ],
   "source": [
    "%%javascript\n",
    "function Player(name,sport,age,country){\n",
    "  this.constructor.noOfPlayers++\n",
    "     \n",
    "  // Private Properties and Functions can only be viewed, edited or invoked by privileged members\n",
    "  var retirementAge = 40\n",
    "  var available = true\n",
    "  var playerAge = age ? age : 18\n",
    "     \n",
    "  function isAvailable(){ \n",
    "    return available && (playerAge < retirementAge)\n",
    "  }\n",
    "\n",
    "  var playerName = name ? name : \"Unknown\"\n",
    "  var playerSport = sport ? sport : \"Unknown\"\n",
    "  \n",
    "  // Privileged Methods can be invoked from outside and can access private members\n",
    "  // Can be replaced with public counterparts\n",
    "  this.book=function(){\n",
    "    if (!isAvailable()){\n",
    "      this.available=false\n",
    "    } else {\n",
    "      console.log(\"Player is unavailable\")\n",
    "    } \n",
    "  }\n",
    "\n",
    "  this.getSport=function(){ return playerSport }\n",
    "\n",
    "  // Public properties, modifiable from anywhere\n",
    "  this.batPreference = \"Lefty\"\n",
    "  this.hasCelebGirlfriend =false\n",
    "  this.endorses=\"Super Brand\"\n",
    "}\n",
    "// Public methods - can be read or written by anyone\n",
    "// Can only access public and prototype properties\n",
    "Player.prototype.switchHands = function(){ this. batPreference = \"righty\" };\n",
    "Player.prototype.dateCeleb = function(){ this.hasCelebGirlfriend = true };\n",
    "Player.prototype.fixEyes = function(){ this.wearGlasses = false };\n",
    "// Prototype Properties - can be read or written by anyone (or overridden)\n",
    "Player.prototype.wearsGlasses = true\n",
    "// Static Properties - anyone can read or write\n",
    "Player.noOfPlayers = 0;\n",
    "\n",
    "(function PlayerTest(){\n",
    "  //New instance of the Player object created.\n",
    "  var cricketer=new Player(\"Vivian\",\"Cricket\",23,\"England\");\n",
    "  var golfer =new Player(\"Pete\",\"Golf\",32,\"USA\");\n",
    "  console.log(\"So far there are \" + Player.noOfPlayers + \" in the guild\");\n",
    "  // Both these functions share the common 'Player.prototype. wearsGlasses' variable\n",
    "  cricketer.fixEyes();\n",
    "  golfer.fixEyes();\n",
    "  cricketer.endorses=\"Other Brand\";//public variable can be updated\n",
    "  // Both Player's public method is now changed via their prototype\n",
    "     Player.prototype.fixEyes=function(){\n",
    "       this.wearGlasses=true;\n",
    "     };\n",
    "     //Only Cricketer's function is changed\n",
    "     cricketer.switchHands=function(){\n",
    "       this.batPreference=\"undecided\";\n",
    "     };\n",
    "})();"
   ]
  },
  {
   "cell_type": "code",
   "execution_count": null,
   "metadata": {
    "collapsed": true
   },
   "outputs": [],
   "source": []
  }
 ],
 "metadata": {
  "kernelspec": {
   "display_name": "Python 2",
   "language": "python",
   "name": "python2"
  },
  "language_info": {
   "codemirror_mode": {
    "name": "ipython",
    "version": 2
   },
   "file_extension": ".py",
   "mimetype": "text/x-python",
   "name": "python",
   "nbconvert_exporter": "python",
   "pygments_lexer": "ipython2",
   "version": "2.7.14"
  }
 },
 "nbformat": 4,
 "nbformat_minor": 2
}
