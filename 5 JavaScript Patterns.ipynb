{
 "cells": [
  {
   "cell_type": "markdown",
   "metadata": {},
   "source": [
    "## JavaScript Patterns\n",
    "The key to write modular, correct, and maintainable code is the ability to understand the repeating themes and use common templates to write optimized solutions to these. The most important text on design patterns was a book published in 1995 called Design Patterns: Elements Of Reusable Object-Oriented Software written by Erich Gamma, Richard Helm, Ralph Johnson, and John Vlissides—a group that became known as the Gang of Four (GOF for short). The broad categories are:\n",
    "* Creational patterns:\n",
    "    -  Factory method\n",
    "    -  Abstract factory\n",
    "    -  Builder\n",
    "    -  Prototype\n",
    "    -  Singleton\n",
    "\n",
    "\n",
    "* Structural patterns:\n",
    "    -  Adapter\n",
    "    -  Bridge\n",
    "    -  Composite\n",
    "    -  Decorator\n",
    "    -  Façade\n",
    "    -  Flyweight\n",
    "    -  Proxy\n",
    "    \n",
    "    \n",
    "* Behavioral patterns\n",
    "    -  Interpreter\n",
    "    -  Template method\n",
    "    -  Chain of responsibility\n",
    "    -  Command\n",
    "    -  Iterator\n",
    "    -  Mediator\n",
    "    -  Memento\n",
    "    -  Observer\n",
    "    -  State\n",
    "    -  Strategy\n",
    "    -  Visitor"
   ]
  },
  {
   "cell_type": "markdown",
   "metadata": {
    "collapsed": true
   },
   "source": [
    "## The namespace pattern\n",
    "Excessive use of the global scope is almost a taboo in JavaScript. Namespace can reduce the number of globals created by the program and also helps in avoiding naming collisions or excessive name prefixing."
   ]
  },
  {
   "cell_type": "code",
   "execution_count": 2,
   "metadata": {
    "collapsed": true
   },
   "outputs": [],
   "source": [
    "// We are creating all this in the global scope. This is an anti-pattern, and this is never a good idea\n",
    "function Car() {}\n",
    "function BMW() {}\n",
    "var engines = 1\n",
    "\n",
    "var features = {\n",
    "  seats: 6,\n",
    "  airbags:6\n",
    "}\n"
   ]
  },
  {
   "cell_type": "code",
   "execution_count": 4,
   "metadata": {
    "collapsed": false
   },
   "outputs": [
    {
     "data": {
      "text/plain": [
       "{ Car: [Function],\n",
       "  BMW: [Function],\n",
       "  engines: 1,\n",
       "  features: { seats: 6, airbags: 6 } }"
      ]
     },
     "execution_count": 4,
     "metadata": {},
     "output_type": "execute_result"
    }
   ],
   "source": [
    "// Single global object\n",
    "// By convention, the global namespace object name is generally written in all caps\n",
    "var CARFACTORY = CARFACTORY || {} // you can't assume that you are creating this namespace for the first time.\n",
    "CARFACTORY.Car = function () {}\n",
    "CARFACTORY.BMW = function () {}\n",
    "CARFACTORY.engines = 1\n",
    "CARFACTORY.features = {\n",
    "  seats: 6,\n",
    "  airbags:6\n",
    "}\n",
    "\n",
    "CARFACTORY"
   ]
  },
  {
   "cell_type": "markdown",
   "metadata": {},
   "source": [
    "## The module pattern\n",
    "Module separates bigger programs into smaller pieces and gives them a namespace. Modules allow us to include both public/private methods and variables of an object, but most importantly, modules restrict these parts from the global scope. Having a look at the revealing module pattern (RMP):"
   ]
  },
  {
   "cell_type": "code",
   "execution_count": 5,
   "metadata": {
    "collapsed": false
   },
   "outputs": [
    {
     "name": "stdout",
     "output_type": "stream",
     "text": [
      "{ setup: [Function: publicFn],\n",
      "  count: 2,\n",
      "  increaseCount: [Function: publicFnTwo],\n",
      "  current: 2 }\n"
     ]
    }
   ],
   "source": [
    "var revealingExample = function(){\n",
    "    \n",
    "  var privateOne = 1\n",
    "  function privateFn(){\n",
    "    console.log('privateFn called')\n",
    "  }\n",
    "    \n",
    "  var publicTwo = 2\n",
    "  function publicFn(){\n",
    "    publicFnTwo()\n",
    "  }\n",
    "\n",
    "  function publicFnTwo(){\n",
    "    privateFn()\n",
    "  }\n",
    "    \n",
    "  function getCurrentState(){\n",
    "    return 2\n",
    "  }\n",
    "    \n",
    "  // reveal private variables by assigning public pointers\n",
    "  return {\n",
    "    setup: publicFn,\n",
    "    count: publicTwo,\n",
    "    increaseCount: publicFnTwo,\n",
    "    current: getCurrentState()\n",
    "  }\n",
    "}()\n",
    "\n",
    "console.log(revealingExample)"
   ]
  },
  {
   "cell_type": "code",
   "execution_count": 6,
   "metadata": {
    "collapsed": false
   },
   "outputs": [
    {
     "name": "stdout",
     "output_type": "stream",
     "text": [
      "2\n",
      "privateFn called\n"
     ]
    }
   ],
   "source": [
    "console.log(revealingExample.current) // 2\n",
    "revealingExample.setup();             // privateFn called"
   ]
  },
  {
   "cell_type": "markdown",
   "metadata": {},
   "source": [
    "The other flavor of JavaScript modules is called Asynchronous Module Definition (AMD). They are browser-first modules and opt for asynchronous behavior."
   ]
  },
  {
   "cell_type": "code",
   "execution_count": 1,
   "metadata": {
    "collapsed": false
   },
   "outputs": [
    {
     "data": {
      "text/plain": [
       "{ add: [Function: add] }"
      ]
     },
     "execution_count": 1,
     "metadata": {},
     "output_type": "execute_result"
    }
   ],
   "source": [
    "// npm install amd-loader\n",
    "require(\"amd-loader\")\n",
    "\n",
    "define({\n",
    "    add: function(x, y){return x + y}\n",
    "  }\n",
    ")\n"
   ]
  },
  {
   "cell_type": "markdown",
   "metadata": {},
   "source": [
    "The following snippet shows you a module that depends on two other modules..."
   ]
  },
  {
   "cell_type": "code",
   "execution_count": 7,
   "metadata": {
    "collapsed": false
   },
   "outputs": [
    {
     "ename": "Error",
     "evalue": "Can not assign module to a different id than the current file",
     "output_type": "error",
     "traceback": [
      "C:\\Users\\Simon\\node_modules\\amd-loader\\amd-loader.js:39",
      "        throw new Error(\"Can not assign module to a different id than the current file\");",
      "        ^",
      "",
      "Error: Can not assign module to a different id than the current file",
      "    at global.define (C:\\Users\\Simon\\node_modules\\amd-loader\\amd-loader.js:39:15)",
      "    at evalmachine.<anonymous>:1:1",
      "    at ContextifyScript.Script.runInThisContext (vm.js:50:33)",
      "    at Object.runInThisContext (vm.js:139:38)",
      "    at run ([eval]:1002:15)",
      "    at onRunRequest ([eval]:829:18)",
      "    at onMessage ([eval]:789:13)",
      "    at emitTwo (events.js:126:13)",
      "    at process.emit (events.js:214:7)",
      "    at emit (internal/child_process.js:772:12)"
     ]
    }
   ],
   "source": [
    "// there looks to be some tinkering needed to get this working in the notebook...\n",
    "define(\"math\",\n",
    "  //dependency on these two modules\n",
    "  [\"sum\", \"multiply\"],\n",
    "  \n",
    "  // module definition function\n",
    "  // dependencies are mapped to function parameters\n",
    "  function (sum, multiply) {\n",
    "    // return a value that defines the module export\n",
    "    // (that is, the functionality we want to expose for consumption)\n",
    "    // create your module here\n",
    "    var math = {\n",
    "      demo : function () {\n",
    "        console.log(sum.calculate(1,2))\n",
    "        console.log(multiply.calculate(1,2))\n",
    "      }\n",
    "    }\n",
    "  return math;\n",
    "})"
   ]
  },
  {
   "cell_type": "markdown",
   "metadata": {},
   "source": [
    "## The Factory Pattern"
   ]
  },
  {
   "cell_type": "code",
   "execution_count": 2,
   "metadata": {
    "collapsed": false
   },
   "outputs": [
    {
     "name": "stdout",
     "output_type": "stream",
     "text": [
      "This car has 4 doors and a 2 litre engine\n"
     ]
    }
   ],
   "source": [
    "function CarFactory() {}\n",
    "\n",
    "CarFactory.prototype.info = function() {\n",
    "  console.log(\"This car has \" + this.doors + \" doors and a \" + this.engine_capacity + \" litre engine\")\n",
    "}\n",
    "\n",
    "// the static factory method\n",
    "CarFactory.make = function (type) {\n",
    "  var constr = type\n",
    "  var car\n",
    "  CarFactory[constr].prototype = new CarFactory()\n",
    "\n",
    "  // create a new instance\n",
    "  car = new CarFactory[constr]()\n",
    "  return car\n",
    "}\n",
    "\n",
    "CarFactory.Compact = function () {\n",
    "  this.doors = 4\n",
    "  this.engine_capacity = 2\n",
    "}\n",
    "\n",
    "CarFactory.Sedan = function () {\n",
    "  this.doors = 2\n",
    "  this.engine_capacity = 2\n",
    "}\n",
    "\n",
    "CarFactory.SUV = function () {\n",
    "  this.doors = 4\n",
    "  this.engine_capacity = 6\n",
    "}\n",
    "\n",
    "var golf = CarFactory.make('Compact')\n",
    "var vento = CarFactory.make('Sedan')\n",
    "var touareg = CarFactory.make('SUV')\n",
    "golf.info() // \"This car has 4 doors and a 2 liter engine\""
   ]
  },
  {
   "cell_type": "code",
   "execution_count": 6,
   "metadata": {
    "collapsed": false
   },
   "outputs": [
    {
     "name": "stdout",
     "output_type": "stream",
     "text": [
      "CarFactory { doors: 4, engine_capacity: 2 }\n"
     ]
    }
   ],
   "source": [
    "var car = new CarFactory[\"Compact\"]()\n",
    "console.log(car)"
   ]
  },
  {
   "cell_type": "markdown",
   "metadata": {},
   "source": [
    "## The mixin pattern\n",
    "Mixins help in significantly reducing functional repetition in our code and help in function reuse. We can move this shared functionality to a mixin and reduce duplication of shared behavior."
   ]
  },
  {
   "cell_type": "code",
   "execution_count": 1,
   "metadata": {
    "collapsed": false
   },
   "outputs": [
    {
     "name": "stdout",
     "output_type": "stream",
     "text": [
      "Hello Dude\n"
     ]
    }
   ],
   "source": [
    "// a mixin example modified from: https://javascript.info/mixins\n",
    "// looks like a good tutorial on Javascript generally here https://javascript.info/\n",
    "var sayHiMixin = {\n",
    "  sayHi() {\n",
    "    console.log(\"Hello \" + this.name)\n",
    "  },\n",
    "  sayBye() {\n",
    "    console.log(\"Bye \" + this.name)\n",
    "  }\n",
    "}\n",
    "\n",
    "// usage:\n",
    "class User {\n",
    "  constructor(name) {\n",
    "    this.name = name\n",
    "  }\n",
    "}\n",
    "\n",
    "// copy the methods\n",
    "Object.assign(User.prototype, sayHiMixin)\n",
    "\n",
    "// now User can say hi\n",
    "new User(\"Dude\").sayHi() // Hello Dude!"
   ]
  },
  {
   "cell_type": "markdown",
   "metadata": {},
   "source": [
    "## The decorator pattern"
   ]
  },
  {
   "cell_type": "code",
   "execution_count": 5,
   "metadata": {
    "collapsed": false
   },
   "outputs": [
    {
     "name": "stdout",
     "output_type": "stream",
     "text": [
      "Initializing basic Server\n",
      "Started Reverse Proxy\n",
      "Started serving PHP\n",
      "**********\n",
      "Initializing basic Server\n",
      "Started serving Node\n"
     ]
    },
    {
     "data": {
      "text/plain": [
       "2"
      ]
     },
     "execution_count": 5,
     "metadata": {},
     "output_type": "execute_result"
    }
   ],
   "source": [
    "// Implement BasicServer that does the bare minimum\n",
    "function BasicServer() {\n",
    "  this.pid = 1\n",
    "  console.log(\"Initializing basic Server\")\n",
    "  this.decorators_list = [] //Empty list of decorators\n",
    "}\n",
    "   \n",
    "//List of all decorators\n",
    "BasicServer.decorators = {};\n",
    "//Add each decorator to the list of BasicServer's decorators\n",
    "//Each decorator in this list will be applied on the BasicServer instance\n",
    "\n",
    "BasicServer.decorators.reverseProxy = {\n",
    "  init: function(pid) {\n",
    "          console.log(\"Started Reverse Proxy\")\n",
    "          return pid + 1\n",
    "        } \n",
    "}\n",
    "\n",
    "BasicServer.decorators.servePHP = {\n",
    "  init: function(pid) {\n",
    "          console.log(\"Started serving PHP\")\n",
    "          return pid + 1\n",
    "     }\n",
    "}\n",
    "\n",
    "BasicServer.decorators.serveNode = {\n",
    "  init: function(pid) {\n",
    "          console.log(\"Started serving Node\")\n",
    "          return pid + 1\n",
    "        }\n",
    "}\n",
    "\n",
    "//Push the decorator to this list everytime decorate() is called\n",
    "BasicServer.prototype.decorate = function(decorator) {\n",
    "  this.decorators_list.push(decorator);\n",
    "}\n",
    "\n",
    "// init() method looks through all the applied decorators on BasicServer\n",
    "//and executes init() method on all of them\n",
    "BasicServer.prototype.init = function () {\n",
    "  var running_processes = 0\n",
    "  var pid = this.pid\n",
    "  for (i = 0; i < this.decorators_list.length; i += 1) {\n",
    "    decorator_name = this.decorators_list[i]\n",
    "    running_processes = BasicServer.decorators[decorator_name].init(pid)\n",
    "  }\n",
    "  return running_processes\n",
    "}\n",
    "\n",
    "var phpServer = new BasicServer()\n",
    "phpServer.decorate('reverseProxy')\n",
    "phpServer.decorate('servePHP')\n",
    "phpServer.init()\n",
    "console.log(\"**********\")\n",
    "\n",
    "var nodeServer = new BasicServer()\n",
    "nodeServer.decorate('serveNode')\n",
    "nodeServer.init()"
   ]
  },
  {
   "cell_type": "markdown",
   "metadata": {},
   "source": [
    "## The observer pattern"
   ]
  },
  {
   "cell_type": "code",
   "execution_count": 10,
   "metadata": {
    "collapsed": false
   },
   "outputs": [
    {
     "name": "stdout",
     "output_type": "stream",
     "text": [
      "Subject { observer_list: [] }\n"
     ]
    }
   ],
   "source": [
    "var Subject = ( function() {\n",
    "  \n",
    "  function Subject() {\n",
    "    this.observer_list = []\n",
    "  }\n",
    "    \n",
    "  // this method will handle adding observers to the internal list\n",
    "  Subject.prototype.add_observer = function ( obj ) {\n",
    "    console.log( 'Added observer' )\n",
    "    this.observer_list.push( obj )\n",
    "  }\n",
    "  \n",
    "  Subject.prototype.remove_observer = function ( obj ) {\n",
    "    for( var i = 0; i < this.observer_list.length; i++ ) {\n",
    "      if( this.observer_list[ i ] === obj ) {\n",
    "        this.observer_list.splice( i, 1 )\n",
    "        console.log( 'Removed Observer' )\n",
    "      } \n",
    "    }\n",
    "  }\n",
    "  \n",
    "  Subject.prototype.notify = function () {\n",
    "    var args = Array.prototype.slice.call( arguments, 0 );\n",
    "    for( var i = 0; i<this.observer_list.length; i++ ) {\n",
    "      this.observer_list[i].update(args);\n",
    "    } \n",
    "  }\n",
    "  return Subject\n",
    "})();\n",
    "\n",
    "console.log(new Subject())"
   ]
  },
  {
   "cell_type": "code",
   "execution_count": 11,
   "metadata": {
    "collapsed": true
   },
   "outputs": [],
   "source": [
    "function Tweeter() {\n",
    "  var subject = new Subject()\n",
    "  \n",
    "  this.addObserver = function (observer) {\n",
    "    subject.add_observer(observer)\n",
    "  }\n",
    "  \n",
    "  this.removeObserver = function (observer) {\n",
    "    subject.remove_observer(observer)\n",
    "  }\n",
    "  \n",
    "  this.fetchTweets = function fetchTweets() {\n",
    "    // tweet\n",
    "    var tweet = {tweet: \"This is one nice observer\"}\n",
    "    \n",
    "    // notify our observers of the stock change\n",
    "    subject.notify(tweet)\n",
    "  }\n",
    "}\n"
   ]
  },
  {
   "cell_type": "code",
   "execution_count": 12,
   "metadata": {
    "collapsed": true
   },
   "outputs": [],
   "source": [
    "var TweetUpdater = {\n",
    "  update : function() {\n",
    "    console.log( 'Updated Tweet - ', arguments )\n",
    "  }\n",
    "}\n",
    "\n",
    "var TweetFollower = {\n",
    "  update : function() {\n",
    "    console.log( '\"Following this tweet - ', arguments )\n",
    "  }\n",
    "}"
   ]
  },
  {
   "cell_type": "code",
   "execution_count": 13,
   "metadata": {
    "collapsed": false
   },
   "outputs": [
    {
     "name": "stdout",
     "output_type": "stream",
     "text": [
      "Added observer\n",
      "Added observer\n",
      "Updated Tweet -  { '0': [ { tweet: 'This is one nice observer' } ] }\n",
      "\"Following this tweet -  { '0': [ { tweet: 'This is one nice observer' } ] }\n",
      "Removed Observer\n",
      "Removed Observer\n"
     ]
    }
   ],
   "source": [
    "var tweetApp = new Tweeter()\n",
    "tweetApp.addObserver( TweetUpdater )\n",
    "tweetApp.addObserver( TweetFollower )\n",
    "tweetApp.fetchTweets()\n",
    "tweetApp.removeObserver(TweetUpdater)\n",
    "tweetApp.removeObserver(TweetFollower)"
   ]
  },
  {
   "cell_type": "markdown",
   "metadata": {},
   "source": [
    "## Model View Patterns"
   ]
  },
  {
   "cell_type": "code",
   "execution_count": null,
   "metadata": {
    "collapsed": true
   },
   "outputs": [],
   "source": []
  }
 ],
 "metadata": {
  "anaconda-cloud": {},
  "kernelspec": {
   "display_name": "Javascript (Node.js)",
   "language": "javascript",
   "name": "javascript"
  },
  "language_info": {
   "file_extension": ".js",
   "mimetype": "application/javascript",
   "name": "javascript",
   "version": "8.9.1"
  }
 },
 "nbformat": 4,
 "nbformat_minor": 1
}
