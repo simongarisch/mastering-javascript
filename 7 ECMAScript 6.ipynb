{
 "cells": [
  {
   "cell_type": "markdown",
   "metadata": {},
   "source": [
    "## ECMAScript 6\n",
    "What we saw so far was as per the ECMAScript 5 (ES5) standards. ECMAScript 6 (ES6) or ECMAScript 2015 (ES2015) is the latest version of the ECMAScript standard. \n"
   ]
  },
  {
   "cell_type": "markdown",
   "metadata": {
    "collapsed": true
   },
   "source": [
    "## Shims or polyfills\n",
    "Polyfills (also known as shims) are patterns to define behavior from a new version in a compatible form supported by an older version of the environment. There's a great collection of ES6 shims called ES6 shim (https://github.com/paulmillr/es6-shim/); I would highly recommend a study of these shims."
   ]
  },
  {
   "cell_type": "markdown",
   "metadata": {},
   "source": [
    "## Transpilers\n",
    "Transpiling is a technique that combines both compilation and transformation. The idea is to write ES6-compatible code and use a tool that transpiles this code into a valid and equivalent ES5 code. We will be looking at the most complete and popular\n",
    "transpiler for ES6 called Babel."
   ]
  },
  {
   "cell_type": "markdown",
   "metadata": {
    "collapsed": true
   },
   "source": [
    "# ES6 Syntax Changes\n",
    "## Block scoping\n",
    "We discussed earlier that the variables in JavaScript are function-scoped. Variables created in a nested scope are available to the entire function. Instead of using var, you can declare a variable using let to define the block scope. "
   ]
  },
  {
   "cell_type": "code",
   "execution_count": 3,
   "metadata": {
    "collapsed": false
   },
   "outputs": [
    {
     "data": {
      "application/javascript": [
       "for (var i = 0; i<5; i++) {\n",
       " console.log(i)\n",
       "}\n",
       "element.text(i) // i is not defined"
      ],
      "text/plain": [
       "<IPython.core.display.Javascript object>"
      ]
     },
     "metadata": {},
     "output_type": "display_data"
    }
   ],
   "source": [
    "%%javascript\n",
    "for (var i = 0; i<5; i++) {\n",
    " console.log(i)\n",
    "}\n",
    "element.text(i) // i is not defined"
   ]
  },
  {
   "cell_type": "code",
   "execution_count": 2,
   "metadata": {
    "collapsed": false
   },
   "outputs": [
    {
     "data": {
      "application/javascript": [
       "// check that this works using the node kernel\n",
       "for (let i = 0; i<5; i++) {\n",
       " console.log(i)\n",
       "}\n",
       "element.text(i) // i is not defined"
      ],
      "text/plain": [
       "<IPython.core.display.Javascript object>"
      ]
     },
     "metadata": {},
     "output_type": "display_data"
    }
   ],
   "source": [
    "%%javascript\n",
    "// check that this works using the node kernel\n",
    "for (let i = 0; i<5; i++) {\n",
    " console.log(i)\n",
    "}\n",
    "element.text(i) // i is not defined"
   ]
  },
  {
   "cell_type": "markdown",
   "metadata": {},
   "source": [
    "## Default parameters"
   ]
  },
  {
   "cell_type": "code",
   "execution_count": 5,
   "metadata": {
    "collapsed": false
   },
   "outputs": [
    {
     "data": {
      "application/javascript": [
       "\n",
       "function sum(a, b){\n",
       " a = a || 0\n",
       " b = b || 10\n",
       " return (a + b)\n",
       "}\n",
       "\n",
       "element.text(sum(9))"
      ],
      "text/plain": [
       "<IPython.core.display.Javascript object>"
      ]
     },
     "metadata": {},
     "output_type": "display_data"
    }
   ],
   "source": [
    "%%javascript\n",
    "\n",
    "function sum(a, b){\n",
    " a = a || 0\n",
    " b = b || 10\n",
    " return (a + b)\n",
    "}\n",
    "\n",
    "element.text(sum(9))"
   ]
  },
  {
   "cell_type": "markdown",
   "metadata": {},
   "source": [
    "## Spread and rest\n",
    "What's happening here is that when you add … before an array (or an iterable) it spreads the element of the array in individual variables in the function parameters."
   ]
  },
  {
   "cell_type": "code",
   "execution_count": 11,
   "metadata": {
    "collapsed": false
   },
   "outputs": [
    {
     "data": {
      "application/javascript": [
       "\n",
       "function func(a, b){\n",
       "  return (a + b)\n",
       "}\n",
       "\n",
       "var numbers = [1, 2, 3]\n",
       "element.text(func(...numbers))"
      ],
      "text/plain": [
       "<IPython.core.display.Javascript object>"
      ]
     },
     "metadata": {},
     "output_type": "display_data"
    }
   ],
   "source": [
    "%%javascript\n",
    "\n",
    "function func(a, b){\n",
    "  return (a + b)\n",
    "}\n",
    "\n",
    "var numbers = [1, 2, 3]\n",
    "element.text(func(...numbers)) // takes the first two and ignores the rest"
   ]
  },
  {
   "cell_type": "markdown",
   "metadata": {},
   "source": [
    "## Destructuring\n",
    "Destructuring allows you to bind values to variables using pattern matching. Consider the following example:"
   ]
  },
  {
   "cell_type": "code",
   "execution_count": 18,
   "metadata": {
    "collapsed": false
   },
   "outputs": [
    {
     "data": {
      "application/javascript": [
       "var [word1, word2] = [\"Hello \", \"World!\"] // assignment to both word1 and word2\n",
       "element.text(word1 + word2)"
      ],
      "text/plain": [
       "<IPython.core.display.Javascript object>"
      ]
     },
     "metadata": {},
     "output_type": "display_data"
    }
   ],
   "source": [
    "%%javascript\n",
    "var [word1, word2] = [\"Hello \", \"World!\"] // assignment to both word1 and word2\n",
    "element.text(word1 + word2)"
   ]
  },
  {
   "cell_type": "code",
   "execution_count": 21,
   "metadata": {
    "collapsed": false
   },
   "outputs": [
    {
     "data": {
      "application/javascript": [
       "// another excample\n",
       "function fn() {\n",
       " return [1, 2, 3]\n",
       "}\n",
       "\n",
       "var [a, b, c] = fn()\n",
       "element.text(a + b + c)"
      ],
      "text/plain": [
       "<IPython.core.display.Javascript object>"
      ]
     },
     "metadata": {},
     "output_type": "display_data"
    }
   ],
   "source": [
    "%%javascript\n",
    "// another excample\n",
    "function fn() {\n",
    " return [1, 2, 3]\n",
    "}\n",
    "\n",
    "var [a, b, c] = fn()\n",
    "element.text(a + b + c)"
   ]
  },
  {
   "cell_type": "markdown",
   "metadata": {},
   "source": [
    "When we destructure the object being returned by this function, we can use the similar syntax as we saw earlier; the difference is that we use {} instead of []."
   ]
  },
  {
   "cell_type": "code",
   "execution_count": 25,
   "metadata": {
    "collapsed": false
   },
   "outputs": [
    {
     "data": {
      "application/javascript": [
       "function f() {\n",
       " return {\n",
       " a: 'a',\n",
       " b: 'b',\n",
       " c: 'c'\n",
       " }\n",
       "}\n",
       "\n",
       "//this is source: target - correct\n",
       "var { a: x, b: y, c: z } = f()\n",
       "element.text(x + y + z) // abc"
      ],
      "text/plain": [
       "<IPython.core.display.Javascript object>"
      ]
     },
     "metadata": {},
     "output_type": "display_data"
    }
   ],
   "source": [
    "%%javascript\n",
    "function f() {\n",
    " return {\n",
    " a: 'a',\n",
    " b: 'b',\n",
    " c: 'c'\n",
    " }\n",
    "}\n",
    "\n",
    "//this is source: target - correct\n",
    "var { a: x, b: y, c: z } = f()\n",
    "element.text(x + y + z) // abc"
   ]
  },
  {
   "cell_type": "markdown",
   "metadata": {},
   "source": [
    "## Object literals\n",
    "If you intend to use the same property name as the variable that you are assigning, you can use the concise property notation of ES6:"
   ]
  },
  {
   "cell_type": "code",
   "execution_count": 30,
   "metadata": {
    "collapsed": false
   },
   "outputs": [
    {
     "data": {
      "application/javascript": [
       "var firstname = \"Albert\", lastname = \"Einstein\",\n",
       "person = {\n",
       " firstname,\n",
       " lastname\n",
       "}\n",
       "\n",
       "element.text(person.firstname + \" \" + person.lastname)"
      ],
      "text/plain": [
       "<IPython.core.display.Javascript object>"
      ]
     },
     "metadata": {},
     "output_type": "display_data"
    }
   ],
   "source": [
    "%%javascript\n",
    "var firstname = \"Albert\", lastname = \"Einstein\",\n",
    "person = {\n",
    " firstname,\n",
    " lastname\n",
    "}\n",
    "\n",
    "element.text(person.firstname + \" \" + person.lastname)"
   ]
  },
  {
   "cell_type": "markdown",
   "metadata": {},
   "source": [
    "## Template literals\n",
    "We are using backticks around a string literal..."
   ]
  },
  {
   "cell_type": "code",
   "execution_count": 34,
   "metadata": {
    "collapsed": false
   },
   "outputs": [
    {
     "data": {
      "application/javascript": [
       "var x = 3\n",
       "var y = 4\n",
       "var z = `${x+2} = ${y+1}`\n",
       "element.text(z)"
      ],
      "text/plain": [
       "<IPython.core.display.Javascript object>"
      ]
     },
     "metadata": {},
     "output_type": "display_data"
    }
   ],
   "source": [
    "%%javascript\n",
    "var x = 3\n",
    "var y = 4\n",
    "var z = `${x+2} = ${y+1}`\n",
    "element.text(z)"
   ]
  },
  {
   "cell_type": "markdown",
   "metadata": {},
   "source": [
    "## Maps and Sets\n",
    "ES6 introduces four new data structures: Map, WeakMap, Set, and WeakSet."
   ]
  },
  {
   "cell_type": "code",
   "execution_count": 1,
   "metadata": {
    "collapsed": false
   },
   "outputs": [
    {
     "name": "stdout",
     "output_type": "stream",
     "text": [
      "Map { '1' => 'Albert', 'MAX' => 99, { seq: 101 } => 'Einstein' }\n"
     ]
    }
   ],
   "source": [
    "// https://docs.microsoft.com/en-us/scripting/javascript/reference/map-object-javascript\n",
    "let m = new Map()\n",
    "let s = { 'seq' : 101 }\n",
    "m.set('1','Albert')\n",
    "m.set('MAX', 99)\n",
    "m.set(s,'Einstein')\n",
    "console.log(m)"
   ]
  },
  {
   "cell_type": "code",
   "execution_count": 5,
   "metadata": {
    "collapsed": false
   },
   "outputs": [
    {
     "name": "stdout",
     "output_type": "stream",
     "text": [
      "Map { 1 => 'Albert', 2 => 'Douglas', 3 => 'Clive' }\n"
     ]
    }
   ],
   "source": [
    "let m1 = new Map([\n",
    " [ 1, 'Albert' ],\n",
    " [ 2, 'Douglas' ],\n",
    " [ 3, 'Clive' ],\n",
    "])\n",
    "\n",
    "console.log(m1)"
   ]
  },
  {
   "cell_type": "code",
   "execution_count": 12,
   "metadata": {
    "collapsed": false
   },
   "outputs": [
    {
     "name": "stdout",
     "output_type": "stream",
     "text": [
      "1\n",
      "2\n",
      "3\n",
      "*********\n",
      "Albert\n",
      "Douglas\n",
      "Clive\n",
      "*********\n",
      "[ 1, 'Albert' ]\n",
      "[ 2, 'Douglas' ]\n",
      "[ 3, 'Clive' ]\n",
      "*********\n"
     ]
    }
   ],
   "source": [
    "// there are also iterators for keys, values, entries\n",
    "var m2 = new Map([\n",
    " [ 1, 'Albert' ],\n",
    " [ 2, 'Douglas' ],\n",
    " [ 3, 'Clive' ],\n",
    "])\n",
    "\n",
    "for(var k of m2.keys()){\n",
    "  console.log(k)\n",
    "}\n",
    "console.log(\"*********\")\n",
    "\n",
    "\n",
    "for(var k of m2.values()){\n",
    "  console.log(k)\n",
    "}\n",
    "console.log(\"*********\")\n",
    "\n",
    "for(var k of m2.entries()){\n",
    "  console.log(k)\n",
    "}\n",
    "console.log(\"*********\")"
   ]
  },
  {
   "cell_type": "markdown",
   "metadata": {
    "collapsed": true
   },
   "source": [
    "A variation of JavaScript Maps is a WeakMap—a WeakMap does not prevent its keys from being garbage-collected. Keys for a WeakMap must be objects and the values can be arbitrary values."
   ]
  },
  {
   "cell_type": "code",
   "execution_count": 3,
   "metadata": {
    "collapsed": false
   },
   "outputs": [
    {
     "name": "stdout",
     "output_type": "stream",
     "text": [
      "true\n"
     ]
    }
   ],
   "source": [
    "var x = {'first': 'Albert'}\n",
    "var s = new Set([1, 2, 'Sunday', x])\n",
    "console.log(s.has(x)) // true"
   ]
  },
  {
   "cell_type": "code",
   "execution_count": 2,
   "metadata": {
    "collapsed": false
   },
   "outputs": [
    {
     "name": "stdout",
     "output_type": "stream",
     "text": [
      "Set { 1, 2, 'Sunday', { first: 'Albert' }, 300 }\n"
     ]
    }
   ],
   "source": [
    "s.add(300)\n",
    "console.log(s)"
   ]
  },
  {
   "cell_type": "code",
   "execution_count": 3,
   "metadata": {
    "collapsed": false
   },
   "outputs": [
    {
     "name": "stdout",
     "output_type": "stream",
     "text": [
      "[ 1, 1 ]\n",
      "[ 2, 2 ]\n",
      "[ 'Sunday', 'Sunday' ]\n",
      "[ { first: 'Albert' }, { first: 'Albert' } ]\n",
      "[ 300, 300 ]\n"
     ]
    }
   ],
   "source": [
    "for (let a of s.entries()){\n",
    "  console.log(a);\n",
    "}"
   ]
  },
  {
   "cell_type": "code",
   "execution_count": 4,
   "metadata": {
    "collapsed": false
   },
   "outputs": [
    {
     "name": "stdout",
     "output_type": "stream",
     "text": [
      "Set { 1, 2, 'Sunday', { first: 'Albert' } }\n"
     ]
    }
   ],
   "source": [
    "console.log(s)"
   ]
  },
  {
   "cell_type": "code",
   "execution_count": 5,
   "metadata": {
    "collapsed": false
   },
   "outputs": [
    {
     "name": "stdout",
     "output_type": "stream",
     "text": [
      "Person { firstname: 'Joe', lastname: 'Smith' }\n"
     ]
    }
   ],
   "source": [
    "class Person {\n",
    "\n",
    "  constructor(firstname, lastname) {\n",
    "    this.firstname = firstname\n",
    "    this.lastname = lastname\n",
    "  }\n",
    "}\n",
    "\n",
    "let p1 = new Person(\"Joe\", \"Smith\")\n",
    "let p2 = new Person(\"Ann\", \"Adams\")\n",
    "console.log(p1)"
   ]
  },
  {
   "cell_type": "code",
   "execution_count": 6,
   "metadata": {
    "collapsed": false
   },
   "outputs": [
    {
     "name": "stdout",
     "output_type": "stream",
     "text": [
      "WeakMap {}\n"
     ]
    }
   ],
   "source": [
    "// the WeakMap object\n",
    "let wmap = new WeakMap()\n",
    "map.set(p1, \"This is Joe\")\n",
    "map.set(p2, \"This is Ann\")\n",
    "console.log(wmap)"
   ]
  },
  {
   "cell_type": "code",
   "execution_count": null,
   "metadata": {
    "collapsed": false
   },
   "outputs": [],
   "source": []
  },
  {
   "cell_type": "code",
   "execution_count": 2,
   "metadata": {
    "collapsed": false
   },
   "outputs": [
    {
     "name": "stdout",
     "output_type": "stream",
     "text": [
      "WeakMap {}\n",
      "WeakMap {}\n",
      "WeakMap {}\n"
     ]
    }
   ],
   "source": [
    "// the WeakMap object\n",
    "// https://stackoverflow.com/questions/29413222/what-are-the-actual-uses-of-es6-weakmap\n",
    "{\n",
    "  var map = new WeakMap()\n",
    "  var pavloHero = {first: \"Pavlo\", last: \"Hero\"}\n",
    "  map.set(pavloHero, \"This is Hero\")\n",
    "  console.log(map)\n",
    "  {\n",
    "    let gabrielFranco = {first: \"Gabriel\", last: \"Franco\"}\n",
    "    map.set(gabrielFranco, \"This is Franco\")\n",
    "    console.log(map)\n",
    "  }\n",
    "  console.log(map)\n",
    "}"
   ]
  },
  {
   "cell_type": "code",
   "execution_count": null,
   "metadata": {
    "collapsed": true
   },
   "outputs": [],
   "source": []
  }
 ],
 "metadata": {
  "anaconda-cloud": {},
  "kernelspec": {
   "display_name": "Javascript (Node.js)",
   "language": "javascript",
   "name": "javascript"
  },
  "language_info": {
   "file_extension": ".js",
   "mimetype": "application/javascript",
   "name": "javascript",
   "version": "8.9.1"
  }
 },
 "nbformat": 4,
 "nbformat_minor": 2
}
